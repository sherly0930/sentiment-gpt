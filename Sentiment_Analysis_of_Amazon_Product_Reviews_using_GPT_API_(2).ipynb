{
  "cells": [
    {
      "cell_type": "code",
      "execution_count": null,
      "metadata": {
        "colab": {
          "base_uri": "https://localhost:8080/"
        },
        "id": "r8eEMSh916ms",
        "outputId": "e994ea73-08e0-487c-95c1-42f92f4dc036"
      },
      "outputs": [
        {
          "name": "stdout",
          "output_type": "stream",
          "text": [
            "Using CPU only.\n"
          ]
        }
      ],
      "source": [
        "import tensorflow as tf\n",
        "\n",
        "if not tf.config.list_physical_devices('GPU'):\n",
        "    print(\"Using CPU only.\")\n",
        "else:\n",
        "    print(\"GPU is still enabled.\")"
      ]
    },
    {
      "cell_type": "markdown",
      "metadata": {
        "id": "gMCDpsYYsVaM"
      },
      "source": [
        "### **Disable Debugger Validation and Ignore Warnings**"
      ]
    },
    {
      "cell_type": "code",
      "execution_count": null,
      "metadata": {
        "colab": {
          "base_uri": "https://localhost:8080/"
        },
        "id": "YIlQ6wJRxDWY",
        "outputId": "09389af1-24c1-475d-984a-13e9900e21bd"
      },
      "outputs": [
        {
          "name": "stdout",
          "output_type": "stream",
          "text": [
            "env: PYTHONWARNINGS=\"ignore\"\n"
          ]
        }
      ],
      "source": [
        "# disable debugger file validation\n",
        "# helps avoid debugger-related crashes & suppresses warnings during execution\n",
        "import os\n",
        "os.environ['PYDEVD_DISABLE_FILE_VALIDATION'] = '1'\n",
        "\n",
        "# ignore Python warnings globally\n",
        "%env PYTHONWARNINGS=\"ignore\""
      ]
    },
    {
      "cell_type": "markdown",
      "metadata": {
        "id": "JHKR6UWusgMW"
      },
      "source": [
        "### **Mount Google Drive**"
      ]
    },
    {
      "cell_type": "code",
      "execution_count": null,
      "metadata": {
        "colab": {
          "base_uri": "https://localhost:8080/"
        },
        "id": "FPcBD0aOpiBI",
        "outputId": "b341272b-1e99-45df-dc96-95483c20d824"
      },
      "outputs": [
        {
          "output_type": "stream",
          "name": "stdout",
          "text": [
            "Mounted at /content/drive\n"
          ]
        }
      ],
      "source": [
        "# mount drive to access files (req2.txt) on drive\n",
        "from google.colab import drive\n",
        "drive.mount('/content/drive')"
      ]
    },
    {
      "cell_type": "markdown",
      "metadata": {
        "id": "tgDCQ6pDCGRo"
      },
      "source": [
        "### **Check, Install, and Import Libraries**\n",
        "### **Create** requirements.txt to list all proj dependencies\n",
        "Only need to include external libraries/packages in the requirements2.txt that are not part of Python's standard library"
      ]
    },
    {
      "cell_type": "code",
      "execution_count": null,
      "metadata": {
        "id": "UVJWDRNbYmi0",
        "colab": {
          "base_uri": "https://localhost:8080/"
        },
        "outputId": "a8605430-967d-4632-cbda-da78e099803d"
      },
      "outputs": [
        {
          "output_type": "stream",
          "name": "stdout",
          "text": [
            "Installing missing libraries: langid, langdetect, deep_translator, contractions, symspellpy, streamlit, pyngrok, python-dotenv\n",
            "Libraries installed from requirements2.txt\n",
            "Libraries imported successfully.\n"
          ]
        }
      ],
      "source": [
        "import os\n",
        "import sys        # find current Python executable path, when run pip commands, uses same Python environment tht notebook is running on\n",
        "import subprocess\n",
        "import importlib  # detect missing libraries from required_libraries list, prevents unnecessary reinstallation of already-installed libraries\n",
        "\n",
        "# list of required libraries\n",
        "required_libraries = [\"openai\", \"requests\", \"tqdm\", \"pandas\", \"numpy\", \"langid\", \"langdetect\", \"textblob\", \"nltk\", \"deep_translator\",\n",
        "                      \"contractions\", \"symspellpy\", \"streamlit\", \"pyngrok\", \"python-dotenv\"]\n",
        "\n",
        "missing_libraries = []\n",
        "for lib in required_libraries:\n",
        "    try:\n",
        "      importlib.import_module(lib)\n",
        "    except ImportError:\n",
        "      missing_libraries.append(lib)\n",
        "\n",
        "# if any library missing, install from requirements2.txt\n",
        "# list 3rd-party libraries in text file\n",
        "if missing_libraries:\n",
        "    requirements_path = \"/content/drive/MyDrive/Colab Notebooks/requirements2.txt\"\n",
        "\n",
        "    if os.path.exists(requirements_path):\n",
        "        print(f\"Installing missing libraries: {', '.join(missing_libraries)}\")\n",
        "        subprocess.check_call([sys.executable, \"-m\", \"pip\", \"install\", \"--upgrade\", \"pip\"])\n",
        "        subprocess.check_call([sys.executable, \"-m\", \"pip\", \"install\", *missing_libraries])\n",
        "        print(\"Libraries installed from requirements2.txt\")\n",
        "    else:\n",
        "        print(f\"Error: requirements2.txt not found at {requirements_path}\")\n",
        "else:\n",
        "    print(\"All libraries are already installed.\")\n",
        "\n",
        "# import libraries\n",
        "try:\n",
        "    import openai, requests, tqdm, pandas, numpy, langid, langdetect, textblob, nltk, deep_translator, contractions, symspellpy, streamlit, pyngrok\n",
        "    from dotenv import load_dotenv\n",
        "    print(\"Libraries imported successfully.\")\n",
        "except ImportError as e:\n",
        "    print(f\"Error importing libraries: {e}\")"
      ]
    },
    {
      "cell_type": "markdown",
      "metadata": {
        "id": "NuMHAExIywNk"
      },
      "source": [
        "### **Exploratory Data Analysis (EDA)**\n",
        "Since got multiple cleaning challenges, perform EDA initially to understand general characteristics of dataset (check dataset size, inspect column names, check for missing values, check star rating distribution & check sentiment label distribution)\n",
        "\n",
        "### Visualize balance between positive & negative sentiment"
      ]
    },
    {
      "cell_type": "code",
      "execution_count": null,
      "metadata": {
        "colab": {
          "base_uri": "https://localhost:8080/",
          "height": 1000
        },
        "id": "6ZdvaVaUjrnw",
        "outputId": "6d455584-256b-43cb-b37b-23b15a97965d"
      },
      "outputs": [
        {
          "name": "stdout",
          "output_type": "stream",
          "text": [
            "5000\n",
            "\n",
            "\n",
            "Index(['star_rating', 'review_body', 'star_rating_label'], dtype='object')\n",
            "\n",
            "Missing values:\n",
            "star_rating          0\n",
            "review_body          0\n",
            "star_rating_label    0\n",
            "\n",
            "\n",
            "star_rating\n",
            "5    2450\n",
            "4     876\n",
            "1     874\n",
            "3     454\n",
            "2     346\n",
            "\n",
            "\n",
            "star_rating_label\n",
            "positive    3326\n",
            "negative    1674\n",
            "\n",
            "\n",
            "\n",
            "\n"
          ]
        },
        {
          "data": {
            "image/png": "[encoded data removed]",
            "text/plain": [
              "<Figure size 600x400 with 1 Axes>"
            ]
          },
          "metadata": {},
          "output_type": "display_data"
        },
        {
          "data": {
            "image/png": "[encoded data removed]",
            "text/plain": [
              "<Figure size 600x400 with 1 Axes>"
            ]
          },
          "metadata": {},
          "output_type": "display_data"
        },
        {
          "data": {
            "text/plain": [
              "6319"
            ]
          },
          "execution_count": 3,
          "metadata": {},
          "output_type": "execute_result"
        }
      ],
      "source": [
        "# 5000 data\n",
        "import pandas as pd\n",
        "import matplotlib.pyplot as plt\n",
        "import gc\n",
        "\n",
        "gc.collect()\n",
        "\n",
        "df_sample = pd.read_csv(\"/content/drive/MyDrive/amazon_mobile_electronics.csv\", usecols=['review_body', 'star_rating', 'star_rating_label'],\n",
        "                 encoding=\"ISO-8859-1\")\n",
        "\n",
        "# take first 5000 rows\n",
        "df_sample.reset_index(drop=True, inplace=True)\n",
        "df_sample = pd.concat([\n",
        "    df_sample.iloc[0:2006],\n",
        "    df_sample.iloc[2141:5135]\n",
        "], axis=0)\n",
        "\n",
        "pd.set_option('display.max_columns', None)  # show all columns\n",
        "pd.set_option('display.width', 1000)        # set display width\n",
        "\n",
        "print(len(df_sample))                       # total number of rows in sample\n",
        "print(\"\\n\")\n",
        "print(df_sample.columns)\n",
        "print(\"\\nMissing values:\")             # column names\n",
        "print(df_sample.isnull().sum().to_string()) # check missing values\n",
        "print(\"\\n\")\n",
        "print(df_sample['star_rating'].value_counts().to_string())   # show star rating distribution\n",
        "print(\"\\n\")\n",
        "print(df_sample['star_rating_label'].value_counts().to_string())\n",
        "print(\"\\n\")\n",
        "\n",
        "# visualize star rating\n",
        "print(\"\\n\")\n",
        "plt.figure(figsize=(6, 4))   # adjust figure size\n",
        "df_sample['star_rating'].value_counts().plot(kind='bar', color=['green', 'red', 'blue', 'yellow', 'brown'])\n",
        "plt.title(\"Star Rating Distribution\")\n",
        "plt.xlabel(\"Rating\")\n",
        "plt.ylabel(\"Count\")\n",
        "plt.show()\n",
        "plt.close()\n",
        "\n",
        "# visualize sentiment\n",
        "plt.figure(figsize=(6, 4))   # adjust figure size\n",
        "df_sample['star_rating_label'].value_counts().plot(kind='bar', color=['green', 'red'])\n",
        "plt.title(\"Sentiment Distribution\")\n",
        "plt.xlabel(\"Sentiment\")\n",
        "plt.ylabel(\"Count\")\n",
        "plt.show()\n",
        "plt.close()      # free up memory\n",
        "\n",
        "del df_sample\n",
        "gc.collect()"
      ]
    },
    {
      "cell_type": "code",
      "execution_count": null,
      "metadata": {
        "colab": {
          "base_uri": "https://localhost:8080/",
          "height": 1000
        },
        "id": "q_QkVpwyCkiP",
        "outputId": "ce0f4d0f-b3d9-44b6-8c76-14c836442a66"
      },
      "outputs": [
        {
          "name": "stdout",
          "output_type": "stream",
          "text": [
            "1000\n",
            "\n",
            "\n",
            "Index(['star_rating', 'review_body', 'star_rating_label'], dtype='object')\n",
            "\n",
            "Missing values:\n",
            "star_rating          0\n",
            "review_body          0\n",
            "star_rating_label    0\n",
            "\n",
            "\n",
            "star_rating\n",
            "5    491\n",
            "1    186\n",
            "4    173\n",
            "3     83\n",
            "2     67\n",
            "\n",
            "\n",
            "star_rating_label\n",
            "positive    664\n",
            "negative    336\n",
            "\n",
            "\n",
            "\n",
            "\n"
          ]
        },
        {
          "data": {
            "image/png": "[encoded data removed]",
            "text/plain": [
              "<Figure size 600x400 with 1 Axes>"
            ]
          },
          "metadata": {},
          "output_type": "display_data"
        },
        {
          "data": {
            "image/png": "[encoded data removed]",
            "text/plain": [
              "<Figure size 600x400 with 1 Axes>"
            ]
          },
          "metadata": {},
          "output_type": "display_data"
        },
        {
          "data": {
            "text/plain": [
              "6301"
            ]
          },
          "execution_count": 2,
          "metadata": {},
          "output_type": "execute_result"
        }
      ],
      "source": [
        "# 1000 data\n",
        "import pandas as pd\n",
        "import matplotlib.pyplot as plt\n",
        "import gc\n",
        "\n",
        "gc.collect()\n",
        "\n",
        "df = pd.read_csv(\"/content/drive/MyDrive/amazon_mobile_electronics.csv\", usecols=['review_body', 'star_rating', 'star_rating_label'],\n",
        "                 encoding=\"ISO-8859-1\")\n",
        "\n",
        "# take first 5000 rows\n",
        "df_sample = df.iloc[:1000]\n",
        "\n",
        "pd.set_option('display.max_columns', None)  # show all columns\n",
        "pd.set_option('display.width', 1000)        # set display width\n",
        "\n",
        "print(len(df_sample))                       # total number of rows in sample\n",
        "print(\"\\n\")\n",
        "print(df_sample.columns)\n",
        "print(\"\\nMissing values:\")             # column names\n",
        "print(df_sample.isnull().sum().to_string()) # check missing values\n",
        "print(\"\\n\")\n",
        "print(df_sample['star_rating'].value_counts().to_string())   # show star rating distribution\n",
        "print(\"\\n\")\n",
        "print(df_sample['star_rating_label'].value_counts().to_string())\n",
        "print(\"\\n\")\n",
        "\n",
        "# visualize star rating\n",
        "print(\"\\n\")\n",
        "plt.figure(figsize=(6, 4))   # adjust figure size\n",
        "df_sample['star_rating'].value_counts().plot(kind='bar', color=['green', 'red', 'blue', 'yellow', 'brown'])\n",
        "plt.title(\"Star Rating Distribution\")\n",
        "plt.xlabel(\"Rating\")\n",
        "plt.ylabel(\"Count\")\n",
        "plt.show()\n",
        "plt.close()\n",
        "\n",
        "# visualize sentiment\n",
        "plt.figure(figsize=(6, 4))   # adjust figure size\n",
        "df_sample['star_rating_label'].value_counts().plot(kind='bar', color=['green', 'red'])\n",
        "plt.title(\"Sentiment Distribution\")\n",
        "plt.xlabel(\"Sentiment\")\n",
        "plt.ylabel(\"Count\")\n",
        "plt.show()\n",
        "plt.close()      # free up memory\n",
        "\n",
        "del df\n",
        "gc.collect()"
      ]
    },
    {
      "cell_type": "markdown",
      "metadata": {
        "id": "Wgy6TBYPI8s8"
      },
      "source": [
        "### **Visualize frequent keywords using word cloud**\n",
        "To identify irrelevant words/symbols (e.g., \"the\", \"and\", or symbols), then can decide which words to remove in preprocessing"
      ]
    },
    {
      "cell_type": "code",
      "execution_count": null,
      "metadata": {
        "colab": {
          "base_uri": "https://localhost:8080/",
          "height": 828
        },
        "id": "zqpGC3_WI-fj",
        "outputId": "1fbcecd8-26fe-4feb-84ae-e5b6a63f5607"
      },
      "outputs": [
        {
          "output_type": "display_data",
          "data": {
            "text/plain": [
              "<Figure size 1000x600 with 1 Axes>"
            ],
            "image/png": "[encoded data removed]"
          },
          "metadata": {}
        },
        {
          "output_type": "stream",
          "name": "stdout",
          "text": [
            "Top 20 Frequent Words (Including Irrelevant Ones):\n",
            "the: 12497\n",
            "i: 7608\n",
            "it: 7338\n",
            "and: 6427\n",
            "to: 5958\n",
            "a: 5551\n",
            "is: 4086\n",
            "this: 3730\n",
            "for: 3455\n",
            "my: 3121\n",
            "of: 2690\n",
            "in: 2351\n",
            "with: 2122\n",
            "was: 2108\n",
            "that: 2050\n",
            "not: 2044\n",
            "on: 1980\n",
            "but: 1895\n",
            "you: 1689\n",
            "have: 1638\n"
          ]
        },
        {
          "output_type": "execute_result",
          "data": {
            "text/plain": [
              "2564"
            ]
          },
          "metadata": {},
          "execution_count": 3
        }
      ],
      "source": [
        "# 5000 data\n",
        "import pandas as pd\n",
        "from wordcloud import WordCloud\n",
        "from wordcloud import STOPWORDS\n",
        "import matplotlib.pyplot as plt\n",
        "from collections import Counter\n",
        "import re\n",
        "import gc\n",
        "\n",
        "# load dataset\n",
        "df = pd.read_csv(\"/content/drive/MyDrive/amazon_mobile_electronics.csv\")\n",
        "df_sample = df.iloc[:5000]\n",
        "\n",
        "# combine all text from review column\n",
        "text = \" \".join(str(review_body) for review_body in df_sample['review_body'] if pd.notnull(review_body))\n",
        "\n",
        "# basic cleanup (remove special characters, numbers) for better visualization\n",
        "clean_text = re.sub(r'[^a-zA-Z\\s]', '', text)  # only keep letters & spaces\n",
        "clean_text = clean_text.lower()                # convert to lowercase\n",
        "\n",
        "# include stopwords in word cloud\n",
        "custom_stopwords = set()\n",
        "\n",
        "# generate word cloud using cleaned text\n",
        "word_cloud = WordCloud(\n",
        "    collocations=False,\n",
        "    background_color='white',\n",
        "    stopwords=custom_stopwords   # no stopwords removed\n",
        ").generate(clean_text)\n",
        "\n",
        "# display word cloud\n",
        "plt.figure(figsize=(10, 6))   # adjust size of word cloud\n",
        "plt.imshow(word_cloud, interpolation='bilinear')\n",
        "plt.axis(\"off\")\n",
        "plt.title(\"Word Cloud to Detect Irrelevant Words\")\n",
        "plt.show()\n",
        "\n",
        "# extract word frequencies\n",
        "words = clean_text.split()\n",
        "word_freq = Counter(words)\n",
        "\n",
        "# show top 20 most frequent words (inclu. potential irrelevant ones)\n",
        "common_words = word_freq.most_common(20)\n",
        "print(\"Top 20 Frequent Words (Including Irrelevant Ones):\")\n",
        "for word, freq in common_words:\n",
        "    print(f\"{word}: {freq}\")\n",
        "\n",
        "del df\n",
        "gc.collect()   # free up memory after generating word cloud, which can consume significant RAM"
      ]
    },
    {
      "cell_type": "markdown",
      "metadata": {
        "id": "vVUwx7JBCeGX"
      },
      "source": [
        "### **Load and preview dataset**"
      ]
    },
    {
      "cell_type": "code",
      "execution_count": null,
      "metadata": {
        "colab": {
          "base_uri": "https://localhost:8080/"
        },
        "id": "tG9rIFqrP9X8",
        "outputId": "39c7248d-d7ed-455c-a902-ac3a3de61ca7"
      },
      "outputs": [
        {
          "name": "stdout",
          "output_type": "stream",
          "text": [
            "    customer_id                                      product_title  star_rating                                        review_body  product_id star_rating_label\n",
            "0      28471074  Sprint Universal Folding Portable Mini Stereo ...            5  Item was as discribed ; was shipped fast and f...  B005BHGZ6A          positive\n",
            "1       1958232  iXCC Lightning Cable 3ft, iPhone charger, for ...            5                   Came in perfect. Works perfectly  B00J46XO9U          positive\n",
            "2      49126521        Sennheiser HMEC 250 NoiseGard Pilot Headset            2  Good quality, came with out the extra boom mic...  B003JW0C7C          negative\n",
            "3      46531276  M-Edge Touring Sleeve for Kindle (Fits 6\" Disp...            5  I do not like reading my Kindle in a case so t...  B002GXCQ3S          positive\n",
            "4       4487344  iPod Touch 5th 6th Generation Case MyTurtle TM...            5  The case came 3 days after I ordered it. It fi...  B00TGI0EUI          positive\n",
            "5      32141833  GSI Quality Waterproof Bluetooth Intercom Syst...            3  I really like the GSI Quality Waterproof Bluet...  B005UFHTJU          negative\n",
            "6      13352867  eForCity Leather Case for Barnes and Noble Noo...            1  This case smells.  I can not get rid of the sm...  B007UXNH46          negative\n",
            "7      22758065  LiViTech(TM) Double Layer Hard Case for HTC Dr...            4  Cute, good quality.  Keeps the phone protected...  B0084XV7XO          positive\n",
            "8      49841917  Rockford Fosgate R600-5 Prime Series 600 Watt ...            5  This amp is awesome! Wasn't sure how it would ...  B004ZW5YFU          positive\n",
            "9      22469334                Classic Size Ipod Hoodie-Ipod Cover            5  This is great... U can customize it by scribbl...  B002A49EEW          positive\n",
            "10     28996173  eForCity Leather Case for Barnes and Noble Noo...            5  was so cheap I couldn't resist and it's as goo...  B0069ZFYCY          positive\n",
            "11     45606297                           Omaker bluetooth speaker            4  Decent bang for the buck! I use it at work to ...  B00J0CYKEQ          positive\n",
            "12     48999227  iPod Touch 2nd / 3rd Generation Silicone skin ...            2  I have multiple issues with this bundle. The c...  B002R8ED6K          negative\n",
            "13     12126274  Klear Screen iKlear iPod, iPhone & Macbook Cle...            4  I love this product I use it on my white unibo...  B001UTA398          positive\n",
            "14     42993050  1 Pair of Cool Shining Skull Head Ghost Mid-Ni...            5  its awesome put them on my avalanche I have go...  B00ET4761E          positive\n"
          ]
        }
      ],
      "source": [
        "print(df_sample.head(15))   # preview first 15 rows"
      ]
    },
    {
      "cell_type": "markdown",
      "metadata": {
        "id": "aRbm9BAk9IlJ"
      },
      "source": [
        "## **Data Preprocessing**"
      ]
    },
    {
      "cell_type": "markdown",
      "metadata": {
        "id": "UPZ3GoYFFBKj"
      },
      "source": [
        "## **Basic Text Cleaning**"
      ]
    },
    {
      "cell_type": "markdown",
      "metadata": {
        "id": "1pu5EbQKIKfm"
      },
      "source": [
        "### **Remove irrelevant reviews entirely or partially**"
      ]
    },
    {
      "cell_type": "code",
      "execution_count": null,
      "metadata": {
        "colab": {
          "base_uri": "https://localhost:8080/"
        },
        "id": "mjvSs_USeDRp",
        "outputId": "e3595061-9efb-4692-e54d-e02061984f9f"
      },
      "outputs": [
        {
          "output_type": "stream",
          "name": "stdout",
          "text": [
            "Total rows: 5000\n",
            "Remaining rows after removal: 4988\n",
            "\n",
            "Removed irrelevant reviews saved to: /content/drive/MyDrive/ame_removed_irrelevant.csv\n",
            "      star_rating                                                                                              review_body star_rating_label\n",
            "29              5  [[VIDEOID:mo270XT22GHBDF2]]My review of the medium brown iCuff \\\\\"351\\\\\" Wristband for the iPod Nano 6G          positive\n",
            "345             1                                                                                       It is only 60GB...          negative\n",
            "911             5                                                                                             Thank you!!!          positive\n",
            "982             5                                                                                                       tx          positive\n",
            "1150            4                                                                                         is as advertised          positive\n",
            "\n",
            "Updated dataset saved to: /content/drive/MyDrive/ame_updated_dataset.csv\n"
          ]
        }
      ],
      "source": [
        "# 5000 data\n",
        "import re\n",
        "import os\n",
        "import gc\n",
        "import pandas as pd\n",
        "\n",
        "pd.set_option('display.max_colwidth', None)\n",
        "pd.set_option('display.width', 1200)\n",
        "\n",
        "script_dir = \"/content/drive/MyDrive\"\n",
        "original_file = os.path.join(script_dir, \"amazon_mobile_electronics.csv\")\n",
        "updated_file = os.path.join(script_dir, \"ame_updated_dataset.csv\")\n",
        "removed_irrelevant_file = os.path.join(script_dir, \"ame_removed_irrelevant.csv\")\n",
        "\n",
        "df_sample = pd.read_csv(original_file, usecols=['review_body', 'star_rating', 'star_rating_label'], encoding=\"utf-8\")\n",
        "# reset index, .iloc will be position-based\n",
        "df_sample.reset_index(drop=True, inplace=True)\n",
        "# select only rows with desired indices\n",
        "df_subset = pd.concat([\n",
        "    df_sample.iloc[0:2006],     # 1 - 2005\n",
        "    df_sample.iloc[2141:5135],  # 2142 - 5134\n",
        "], axis=0)\n",
        "\n",
        "# confirm size\n",
        "print(\"Total rows:\", len(df_subset))\n",
        "\n",
        "def remove_irrelevant(review):\n",
        "  if not isinstance(review, str):   # make sure it's a string\n",
        "    return review\n",
        "  review = re.sub(r'\\b(i\\s+ordered\\s+and\\s+received\\s+the\\s+unit\\s+in\\s+\\w+\\s+\\d{4})\\b', '', review, flags=re.IGNORECASE)\n",
        "  review = re.sub(r'\\bnot a bass blocking ca\\b', '', review, flags=re.IGNORECASE)\n",
        "  review = re.sub(r'\\bthe first philips unit this one we received was g\\b', '', review, flags=re.IGNORECASE)\n",
        "  review = re.sub(r\"that's hard to describe see the videos others have posted a note on some of the\", '', review, flags=re.IGNORECASE)\n",
        "  review = re.sub(r'Do yourself a favour and\\s*\\S*$', '', review, flags=re.IGNORECASE)\n",
        "  review = re.sub(r'^\\s*asin\\s+[a-zA-Z0-9]+\\b.*?(?=\\bThe\\b|\\bThis\\b|\\bI\\b|$)', '', review, flags=re.IGNORECASE)   # 347th: remove asin\n",
        "  review = re.sub(r'\\b(?:blah\\s*){2,}\\b', '', review, flags=re.IGNORECASE)\n",
        "  review = re.sub(r'Gdshvcchbcxhkng', '', review, flags=re.IGNORECASE)  # 1308th\n",
        "  review = re.sub(r'Earl R.Lobley', '', review, flags=re.IGNORECASE)\n",
        "  review = re.sub(r'fow wos wodd wsnmd', '', review, flags=re.IGNORECASE)  # 2772th\n",
        "  review = re.sub(r'\\s+', ' ', review).strip()   # remove extra spaces after removing\n",
        "  return review\n",
        "\n",
        "indices_to_remove = [29, 345, 911, 982, 1150, 1215, 1454, 2279, 2319, 2366, 2815, 2948]     # remove entire review of both indices rows\n",
        "fully_removed_rows = df_subset.loc[indices_to_remove].copy()\n",
        "\n",
        "# drop from main dataset\n",
        "df_subset = df_subset.drop(index=indices_to_remove)\n",
        "print(\"Remaining rows after removal:\", len(df_subset))\n",
        "\n",
        "# make a copy of original review_body to compare with\n",
        "df_subset['original_review'] = df_subset['review_body']\n",
        "# apply cleaning func\n",
        "df_subset['review_body'] = df_subset['review_body'].apply(remove_irrelevant)\n",
        "\n",
        "# keep affected rows only\n",
        "partially_cleaned_rows = df_subset[df_subset['original_review'] != df_subset['review_body']]\n",
        "partially_cleaned_rows = partially_cleaned_rows.drop(columns=['original_review'])\n",
        "\n",
        "# combine both types of affected reviews\n",
        "removed_irrelevant = pd.concat([fully_removed_rows, partially_cleaned_rows], axis=0)\n",
        "\n",
        "# save affected rows\n",
        "removed_irrelevant.to_csv(removed_irrelevant_file, index=True)\n",
        "print(f\"\\nRemoved irrelevant reviews saved to: {removed_irrelevant_file}\")\n",
        "\n",
        "print(removed_irrelevant.head())\n",
        "\n",
        "df_subset = df_subset.drop(columns=['original_review'])\n",
        "df_subset.to_csv(updated_file, index=True)\n",
        "print(f\"\\nUpdated dataset saved to: {updated_file}\")\n",
        "\n",
        "del df_sample, df_subset, removed_irrelevant\n",
        "_= gc.collect()"
      ]
    },
    {
      "cell_type": "code",
      "execution_count": null,
      "metadata": {
        "colab": {
          "base_uri": "https://localhost:8080/"
        },
        "id": "rq0vZipz1cHt",
        "outputId": "9952d788-6057-4d51-fc4b-5991c3e9c4bf"
      },
      "outputs": [
        {
          "name": "stdout",
          "output_type": "stream",
          "text": [
            "Total rows: 1000\n",
            "Remaining rows after removal: 996\n",
            "\n",
            "Removed irrelevant reviews saved to: /content/drive/MyDrive/ame_removed_irrelevant.csv\n",
            "     star_rating                                                                                                                                                                                                                            review_body star_rating_label\n",
            "29             5                                                                                                                                [[VIDEOID:mo270XT22GHBDF2]]My review of the medium brown iCuff \\\\\"351\\\\\" Wristband for the iPod Nano 6G          positive\n",
            "345            1                                                                                                                                                                                                                     It is only 60GB...          negative\n",
            "911            5                                                                                                                                                                                                                           Thank you!!!          positive\n",
            "982            5                                                                                                                                                                                                                                     tx          positive\n",
            "3              5  I do not like reading my Kindle in a case so this sleeve is great. Good protection for my Kindle. The front pocket is small. I use it to keep a list of series books. You could keep your charger in it but the pocket will stick up.          positive\n",
            "\n",
            "Updated dataset saved to: /content/drive/MyDrive/ame_updated_dataset.csv\n"
          ]
        }
      ],
      "source": [
        "# 1000 data\n",
        "\n",
        "import re\n",
        "import os\n",
        "import gc\n",
        "import pandas as pd\n",
        "\n",
        "pd.set_option('display.max_colwidth', None)\n",
        "pd.set_option('display.width', 1200)\n",
        "\n",
        "script_dir = \"/content/drive/MyDrive\"\n",
        "original_file = os.path.join(script_dir, \"amazon_mobile_electronics.csv\")\n",
        "updated_file = os.path.join(script_dir, \"ame_updated_dataset.csv\")\n",
        "removed_irrelevant_file = os.path.join(script_dir, \"ame_removed_irrelevant.csv\")\n",
        "\n",
        "df_sample = pd.read_csv(original_file, usecols=['review_body', 'star_rating', 'star_rating_label'], encoding=\"utf-8\")\n",
        "# reset index, .iloc will be position-based\n",
        "df_sample.reset_index(drop=True, inplace=True)\n",
        "# Select only rows with desired indices\n",
        "df_subset = pd.concat([\n",
        "    df_sample.iloc[0:1000],     # 0 - 999 = 1000 data\n",
        "], axis=0)\n",
        "\n",
        "# Confirm size\n",
        "print(\"Total rows:\", len(df_subset))  # Should be 5000\n",
        "\n",
        "def remove_irrelevant(review):\n",
        "  if not isinstance(review, str):   # make sure it's a string\n",
        "    return review\n",
        "  review = re.sub(r'\\b(i\\s+ordered\\s+and\\s+received\\s+the\\s+unit\\s+in\\s+\\w+\\s+\\d{4})\\b', '', review, flags=re.IGNORECASE)\n",
        "  review = re.sub(r'\\bnot a bass blocking ca\\b', '', review, flags=re.IGNORECASE)\n",
        "  review = re.sub(r'\\bthe first philips unit this one we received was g\\b', '', review, flags=re.IGNORECASE)\n",
        "  review = re.sub(r\"that's hard to describe see the videos others have posted a note on some of the\", '', review, flags=re.IGNORECASE)\n",
        "  review = re.sub(r'Do yourself a favour and\\s*\\S*$', '', review, flags=re.IGNORECASE)\n",
        "  review = re.sub(r'^\\s*asin\\s+[a-zA-Z0-9]+\\b.*?(?=\\bThe\\b|\\bThis\\b|\\bI\\b|$)', '', review, flags=re.IGNORECASE)   # 347th: remove asin\n",
        "  review = re.sub(r'\\b(?:blah\\s*){2,}\\b', '', review, flags=re.IGNORECASE)\n",
        "  review = re.sub(r'Gdshvcchbcxhkng', '', review, flags=re.IGNORECASE)  # 1308th\n",
        "  review = re.sub(r'Earl R.Lobley', '', review, flags=re.IGNORECASE)\n",
        "  review = re.sub(r'fow wos wodd wsnmd', '', review, flags=re.IGNORECASE)  # 2772th\n",
        "  review = re.sub(r'\\s+', ' ', review).strip()   # remove extra spaces after removing\n",
        "  return review\n",
        "\n",
        "indices_to_remove = [29, 345, 911, 982]     # remove entire review of both indices rows\n",
        "fully_removed_rows = df_subset.loc[indices_to_remove].copy()\n",
        "\n",
        "# drop from main dataset\n",
        "df_subset = df_subset.drop(index=indices_to_remove)\n",
        "print(\"Remaining rows after removal:\", len(df_subset))\n",
        "\n",
        "# make a copy of original review_body to compare with\n",
        "df_subset['original_review'] = df_subset['review_body']\n",
        "# apply cleaning func\n",
        "df_subset['review_body'] = df_subset['review_body'].apply(remove_irrelevant)\n",
        "\n",
        "# keep affected rows only\n",
        "partially_cleaned_rows = df_subset[df_subset['original_review'] != df_subset['review_body']]\n",
        "partially_cleaned_rows = partially_cleaned_rows.drop(columns=['original_review'])\n",
        "\n",
        "# combine both types of affected reviews\n",
        "removed_irrelevant = pd.concat([fully_removed_rows, partially_cleaned_rows], axis=0)\n",
        "\n",
        "# save affected rows\n",
        "removed_irrelevant.to_csv(removed_irrelevant_file, index=True)\n",
        "print(f\"\\nRemoved irrelevant reviews saved to: {removed_irrelevant_file}\")\n",
        "\n",
        "print(removed_irrelevant.head())\n",
        "\n",
        "df_subset = df_subset.drop(columns=['original_review'])\n",
        "df_subset.to_csv(updated_file, index=True)\n",
        "print(f\"\\nUpdated dataset saved to: {updated_file}\")\n",
        "\n",
        "del df_sample, df_subset, removed_irrelevant\n",
        "_= gc.collect()"
      ]
    },
    {
      "cell_type": "markdown",
      "metadata": {
        "id": "jro5ep9mFR3u"
      },
      "source": [
        "### **Remove HTML entities**"
      ]
    },
    {
      "cell_type": "code",
      "execution_count": null,
      "metadata": {
        "colab": {
          "base_uri": "https://localhost:8080/"
        },
        "id": "dY730SaulA9a",
        "outputId": "2e259bf3-3348-4f6b-964b-c44f50e69b08"
      },
      "outputs": [
        {
          "output_type": "stream",
          "name": "stdout",
          "text": [
            "Rows after irrelevant reviews removal: 4988\n",
            "Added 13 more rows to reach 5000 total.\n",
            "\n",
            "Removed HTML entities saved to: /content/drive/MyDrive/ame_removed_html.csv\n",
            "\n",
            "First 5 Modified Reviews:\n",
            "                                                                                                                                                                                                                             review_body                                                                                                                                                                                                                    removed_html_review\n",
            "0                                                                                                                            Item was as discribed ; was shipped fast and function very well . Would do business with again .<br />A++++                                                                                                                                    Item was as discribed; was shipped fast and function very well. Would do business with again. A++++\n",
            "1                                                                                                                                                                                                       Came in perfect. Works perfectly                                                                                                                                                                                                       Came in perfect. Works perfectly\n",
            "2                                                                       Good quality, came with out the extra boom mic cushion and the cord holder that the manufacturer promotes on the included parts off the product (product manual)                                                                       Good quality, came with out the extra boom mic cushion and the cord holder that the manufacturer promotes on the included parts off the product (product manual)\n",
            "3  I do not like reading my Kindle in a case so this sleeve is great. Good protection for my Kindle. The front pocket is small. I use it to keep a list of series books. You could keep your charger in it but the pocket will stick up.  I do not like reading my Kindle in a case so this sleeve is great. Good protection for my Kindle. The front pocket is small. I use it to keep a list of series books. You could keep your charger in it but the pocket will stick up.\n",
            "4                                                                                      The case came 3 days after I ordered it. It fits my iPod really well and the colors are really cute. Only issue was the missing screen protectors                                                                                      The case came 3 days after I ordered it. It fits my iPod really well and the colors are really cute. Only issue was the missing screen protectors\n",
            "\n",
            "Updated data saved to: /content/drive/MyDrive/ame_updated_dataset.csv\n"
          ]
        }
      ],
      "source": [
        "# 5000 data\n",
        "# standard library\n",
        "import re\n",
        "import os\n",
        "import html\n",
        "import gc\n",
        "# 3rd party library\n",
        "import pandas as pd\n",
        "\n",
        "# display options\n",
        "pd.set_option('display.max_colwidth', None)\n",
        "pd.set_option('display.width', 1200)\n",
        "\n",
        "script_dir = \"/content/drive/MyDrive\"\n",
        "updated_file = os.path.join(script_dir, \"ame_updated_dataset.csv\")\n",
        "removed_html_file = os.path.join(script_dir, \"ame_removed_html.csv\")\n",
        "\n",
        "df_cleaned = pd.read_csv(updated_file, encoding=\"utf-8\", index_col=0)\n",
        "print(\"Rows after irrelevant reviews removal:\", len(df_cleaned))\n",
        "\n",
        "if len(df_cleaned) < 5000:\n",
        "    df_original = pd.read_csv(original_file, usecols=['review_body', 'star_rating_label'], encoding=\"utf-8\")\n",
        "\n",
        "    df_remaining = df_original.drop(df_cleaned.index, errors='ignore')\n",
        "    df_remaining = df_remaining.drop(indices_to_remove, errors='ignore')\n",
        "\n",
        "    # select exactly how many more rows needed from ori dataset excluding alrdy used ones\n",
        "    # if needs 12 more rows, will select 12 rows\n",
        "    needed = 5000 - len(df_cleaned)\n",
        "    # select 12 more rows\n",
        "    extra_indices = list(range(5134, 5146 + 1))  # 5135 - 5147\n",
        "    df_extra = df_original.iloc[extra_indices]\n",
        "    df_cleaned = pd.concat([df_cleaned, df_extra], axis=0)\n",
        "\n",
        "    print(f\"Added {len(df_extra)} more rows to reach 5000 total.\")\n",
        "\n",
        "# func to clean html entities\n",
        "def clean_html(review):\n",
        "    if not isinstance(review, str):  # ensure review is a string\n",
        "        return review\n",
        "\n",
        "    # replace <br> with space\n",
        "    review = re.sub(r'<br\\s*/?>?', ' ', review)\n",
        "    # remove all HTML tags\n",
        "    review = re.sub(r'<[^>]+>', '', review)\n",
        "\n",
        "    # decode HTML tags\n",
        "    review = html.unescape(review)\n",
        "\n",
        "    # remove escaped characters\n",
        "    review = re.sub(r'\\\\\"', ' ', review)  # remove \\\"\n",
        "    review = re.sub(r'\\\\', '', review)  # remove backslashes\n",
        "\n",
        "    # fix spacing before punctuation\n",
        "    review = re.sub(r'\\s+([.,!?;:])', r'\\1', review)\n",
        "    review = re.sub(r'([!?])([^\\s!?.,;:])', r'\\1 \\2', review)\n",
        "\n",
        "    review = re.sub(r'\\s+', ' ', review).strip()  # replace multiple spaces with a single space\n",
        "\n",
        "    return review\n",
        "\n",
        "# apply function and store results in a new column\n",
        "df_cleaned['removed_html_review'] = df_cleaned['review_body'].apply(clean_html)\n",
        "\n",
        "# filter rows that were actually changed\n",
        "#df_modified = df_sample.dropna(subset=['cleaned_review']).copy()\n",
        "df_modified = df_cleaned[df_cleaned['removed_html_review'].notna()].copy()\n",
        "\n",
        "# if there are modified reviews, update dataset & save\n",
        "if not df_modified.empty:\n",
        "    # save only modified reviews to removed_html_file\n",
        "    df_comparison = df_modified.copy()\n",
        "    df_comparison['original_review'] = df_modified['review_body']\n",
        "    df_comparison = df_comparison[['original_review', 'removed_html_review']]\n",
        "    df_comparison.to_csv(removed_html_file, encoding=\"utf-8\", index=True)\n",
        "    print(f\"\\nRemoved HTML entities saved to: {removed_html_file}\")\n",
        "\n",
        "    # show first few modified rows\n",
        "    print(\"\\nFirst 5 Modified Reviews:\")\n",
        "    print(df_modified[['review_body', 'removed_html_review']].head())\n",
        "\n",
        "else:\n",
        "    print(\"No HTML entities found. No changes were made.\")\n",
        "\n",
        "# reset index\n",
        "df_cleaned_reset = df_cleaned.reset_index()\n",
        "df_modified_reset = df_modified.reset_index()\n",
        "\n",
        "# replace review_body with cleaned reviews\n",
        "df_cleaned_reset.loc[df_modified_reset.index, 'review_body'] = df_modified_reset['removed_html_review']\n",
        "\n",
        "# remove temporary column\n",
        "df_cleaned_reset.drop(columns=['removed_html_review'], inplace=True)\n",
        "\n",
        "# save with correct index alignment\n",
        "df_cleaned_reset.to_csv(updated_file, encoding=\"utf-8\", index=True)\n",
        "print(f\"\\nUpdated data saved to: {updated_file}\")\n",
        "\n",
        "# free memory after saving\n",
        "del df_cleaned, df_modified   # delete DataFrame\n",
        "_ = gc.collect()    # run garbage collection"
      ]
    },
    {
      "cell_type": "code",
      "execution_count": null,
      "metadata": {
        "colab": {
          "base_uri": "https://localhost:8080/"
        },
        "id": "9j6-pEt4Hv-s",
        "outputId": "2abd4bcc-0c75-45d7-f948-7a291a7f4469"
      },
      "outputs": [
        {
          "name": "stdout",
          "output_type": "stream",
          "text": [
            "Rows after irrelevant reviews removal: 4988\n",
            "Added 4 more rows to reach 5000 total.\n",
            "\n",
            "Removed HTML entities saved to: /content/drive/MyDrive/ame_removed_html.csv\n",
            "\n",
            "First 5 Modified Reviews:\n",
            "                                                                                                                                                                                                                             review_body                                                                                                                                                                                                                                 review\n",
            "0                                                                                                                            Item was as discribed ; was shipped fast and function very well . Would do business with again .<br />A++++                                                                                                                                    Item was as discribed; was shipped fast and function very well. Would do business with again. A++++\n",
            "1                                                                                                                                                                                                       Came in perfect. Works perfectly                                                                                                                                                                                                       Came in perfect. Works perfectly\n",
            "2                                                                       Good quality, came with out the extra boom mic cushion and the cord holder that the manufacturer promotes on the included parts off the product (product manual)                                                                       Good quality, came with out the extra boom mic cushion and the cord holder that the manufacturer promotes on the included parts off the product (product manual)\n",
            "3  I do not like reading my Kindle in a case so this sleeve is great. Good protection for my Kindle. The front pocket is small. I use it to keep a list of series books. You could keep your charger in it but the pocket will stick up.  I do not like reading my Kindle in a case so this sleeve is great. Good protection for my Kindle. The front pocket is small. I use it to keep a list of series books. You could keep your charger in it but the pocket will stick up.\n",
            "4                                                                                      The case came 3 days after I ordered it. It fits my iPod really well and the colors are really cute. Only issue was the missing screen protectors                                                                                      The case came 3 days after I ordered it. It fits my iPod really well and the colors are really cute. Only issue was the missing screen protectors\n",
            "\n",
            "Updated data saved to: /content/drive/MyDrive/ame_updated_dataset.csv\n"
          ]
        }
      ],
      "source": [
        "# 1000 data\n",
        "# standard library\n",
        "import re\n",
        "import os\n",
        "import html\n",
        "import gc\n",
        "# 3rd party library\n",
        "import pandas as pd\n",
        "\n",
        "# display options\n",
        "pd.set_option('display.max_colwidth', None)\n",
        "pd.set_option('display.width', 1200)\n",
        "\n",
        "script_dir = \"/content/drive/MyDrive\"\n",
        "updated_file = os.path.join(script_dir, \"ame_updated_dataset.csv\")\n",
        "removed_html_file = os.path.join(script_dir, \"ame_removed_html.csv\")\n",
        "\n",
        "df_cleaned = pd.read_csv(updated_file, encoding=\"utf-8\", index_col=0)\n",
        "print(\"Rows after irrelevant reviews removal:\", len(df_cleaned))\n",
        "\n",
        "if len(df_cleaned) < 5000:\n",
        "    df_original = pd.read_csv(original_file, usecols=['review_body', 'star_rating_label'], encoding=\"utf-8\")\n",
        "\n",
        "    df_remaining = df_original.drop(df_cleaned.index, errors='ignore')\n",
        "    df_remaining = df_remaining.drop(indices_to_remove, errors='ignore')\n",
        "\n",
        "    # select exactly how many more rows needed from ori dataset excluding alrdy used ones\n",
        "    # if needs 4 more rows, will select 4 rows\n",
        "    needed = 5000 - len(df_cleaned)\n",
        "    # select 4 more rows\n",
        "    extra_indices = list(range(1000, 1003 + 1))  # 1000 - 1003 (1000,1001,1002,1003 total gt 4 data)\n",
        "    df_extra = df_original.iloc[extra_indices]\n",
        "\n",
        "    df_cleaned = pd.concat([df_cleaned, df_extra], axis=0)\n",
        "\n",
        "    print(f\"Added {len(df_extra)} more rows to reach 1000 total.\")\n",
        "\n",
        "# func to clean html entities\n",
        "def clean_html(review):\n",
        "    if not isinstance(review, str):  # ensure review is a string\n",
        "        return review\n",
        "\n",
        "    # replace <br> with space\n",
        "    review = re.sub(r'<br\\s*/?>?', ' ', review)\n",
        "    # remove all HTML tags\n",
        "    review = re.sub(r'<[^>]+>', '', review)\n",
        "\n",
        "    # decode HTML tags\n",
        "    review = html.unescape(review)\n",
        "\n",
        "    # remove escaped characters\n",
        "    review = re.sub(r'\\\\\"', ' ', review)  # remove \\\"\n",
        "    review = re.sub(r'\\\\', '', review)  # remove backslashes\n",
        "\n",
        "    # fix spacing before punctuation\n",
        "    review = re.sub(r'\\s+([.,!?;:])', r'\\1', review)\n",
        "    review = re.sub(r'([!?])([^\\s!?.,;:])', r'\\1 \\2', review)\n",
        "\n",
        "    review = re.sub(r'\\s+', ' ', review).strip()  # replace multiple spaces with a single space\n",
        "\n",
        "    return review\n",
        "\n",
        "# apply function and store results in a new column\n",
        "df_cleaned['review'] = df_cleaned['review_body'].apply(clean_html)\n",
        "\n",
        "# filter rows that were actually changed\n",
        "#df_modified = df_sample.dropna(subset=['cleaned_review']).copy()\n",
        "df_modified = df_cleaned[df_cleaned['review'].notna()].copy()\n",
        "\n",
        "# if there are modified reviews, update dataset & save\n",
        "if not df_modified.empty:\n",
        "    # save only modified reviews to removed_html_file\n",
        "    df_comparison = df_modified.copy()\n",
        "    df_comparison['original_review'] = df_modified['review_body']\n",
        "    df_comparison = df_comparison[['original_review', 'review']]\n",
        "    df_comparison.to_csv(removed_html_file, encoding=\"utf-8\", index=True)\n",
        "    print(f\"\\nRemoved HTML entities saved to: {removed_html_file}\")\n",
        "\n",
        "    # show first few modified rows\n",
        "    print(\"\\nFirst 5 Modified Reviews:\")\n",
        "    print(df_modified[['review_body', 'review']].head())\n",
        "\n",
        "else:\n",
        "    print(\"No HTML entities found. No changes were made.\")\n",
        "\n",
        "# reset index\n",
        "df_cleaned_reset = df_cleaned.reset_index()\n",
        "df_modified_reset = df_modified.reset_index()\n",
        "\n",
        "# replace review_body with cleaned reviews\n",
        "df_cleaned_reset.loc[df_modified_reset.index, 'review_body'] = df_modified_reset['review']\n",
        "\n",
        "# remove temporary column\n",
        "df_cleaned_reset.drop(columns=['review'], inplace=True)\n",
        "\n",
        "# save with correct index alignment\n",
        "df_cleaned_reset.to_csv(updated_file, encoding=\"utf-8\", index=True)\n",
        "print(f\"\\nUpdated data saved to: {updated_file}\")\n",
        "\n",
        "# free memory after saving\n",
        "del df_cleaned, df_modified   # delete DataFrame\n",
        "_ = gc.collect()    # run garbage collection"
      ]
    },
    {
      "cell_type": "markdown",
      "metadata": {
        "id": "2kFWrSCZIYE9"
      },
      "source": [
        "### **Testing langid**"
      ]
    },
    {
      "cell_type": "code",
      "execution_count": null,
      "metadata": {
        "colab": {
          "base_uri": "https://localhost:8080/"
        },
        "id": "X6qfehXoX7p7",
        "outputId": "9609ad15-eef5-4ee7-bc31-ddd9d6561b83"
      },
      "outputs": [
        {
          "name": "stdout",
          "output_type": "stream",
          "text": [
            "Detected Language: en\n",
            "Confidence Score: -342.3060383796692\n"
          ]
        }
      ],
      "source": [
        "import langid\n",
        "\n",
        "def detect_language_langid(text):\n",
        "    return langid.classify(text)  # returns (language, confidence score)\n",
        "\n",
        "review = \"Good, as anunicion says &#34;Bluetooth Transmitter&#34;, but I did not get any transmitter, which sent me are receivers. Now as we're going to send me Transmitters offer?\"\n",
        "language, confidence = detect_language_langid(review)\n",
        "\n",
        "print(f\"Detected Language: {language}\")\n",
        "print(f\"Confidence Score: {confidence}\")"
      ]
    },
    {
      "cell_type": "markdown",
      "metadata": {
        "id": "lEJdAa8yIgrr"
      },
      "source": [
        "### **Translate mixed languages to English**"
      ]
    },
    {
      "cell_type": "code",
      "execution_count": null,
      "metadata": {
        "colab": {
          "base_uri": "https://localhost:8080/"
        },
        "id": "_suR6ZeqPADM",
        "outputId": "ceba3322-949f-4b7e-ec32-4607589521cb"
      },
      "outputs": [
        {
          "output_type": "stream",
          "name": "stdout",
          "text": [
            "\n",
            "Applying manual translations (word-level)...\n",
            "Manual word-level translation applied at index 204\n",
            "Manual word-level translation applied at index 451\n",
            "\n",
            "Translating entire reviews at specified indices...\n",
            "Entire review translation applied at index 522\n",
            "Entire review translation applied at index 2021\n",
            "Entire review translation applied at index 2533\n",
            "Entire review translation applied at index 2541\n",
            "Entire review translation applied at index 4297\n",
            "Entire review translation applied at index 4773\n",
            "Entire review translation applied at index 4900\n",
            "\n",
            "Translated rows saved to: /content/drive/MyDrive/ame_translated.csv\n",
            "\n",
            "Translated reviews (sorted by index):\n",
            "\n",
            "                                                                                                                                                                                                                                                                                                                                                                                                                                                                                                                 review_body                                                                                                                                                                                                                                                                                                                                                                                                                                                                                           translated_review\n",
            "index                                                                                                                                                                                                                                                                                                                                                                                                                                                                                                                                                                                                                                                                                                                                                                                                                                                                                                                                                                                                                                   \n",
            "204                                                                                                                                                                                                                                                                                                                                                               this unit does not match its value has technical flaws, which is reflected in the gaps in the backlash dvizhushihsya details, photos are bad, great video.                                                                                                                                                                                                                                                                                                                                                         this unit does not match its value has technical flaws, which is reflected in the gaps in the backlash moving details, photos are bad, great video.\n",
            "451                                                                                                                                                                                                                                                                                                                                                       Good, as anunicion says \"Bluetooth Transmitter\", but I did not get any transmitter, which sent me are receivers. Now as we're going to send me Transmitters offer?                                                                                                                                                                                                                                                                                                                                      Good, as advertisement says \"Bluetooth Transmitter\", but I did not get any transmitter, which sent me are receivers. Now as we're going to send me Transmitters offer?\n",
            "522                                                                                                                                                                                                                                                                                                                                                                                     Buen tiempo de entrega, cero problemas, buen precio, funciona a la perfección excelente calidad de producto, cero quejas al respecto                                                                                                                                                                                                                                                                                                                                                                                       Good delivery time, zero problems, good price, it works perfectly excellent product quality, zero complaints about it\n",
            "2021                                                                                                                                                                                                                                                                                                                                                                    exelente producto de buena calidad, los recomiendo 100% garantizados para mi futuras compras Saludos muy cordiales Salvador mata que sigan vendiendo                                                                                                                                                                                                                                                                                                                                                      excellent product of good quality, I recommend them 100% guaranteed for my future purchases very cordial greetings Salvador Mata that continue selling\n",
            "2533                                                                                                                                                                                                                                                                                                                                                                                                              Muy buen articulo, se ajusto muy bien al equipo de mi hija con muy buena presentacion y sensacion al tacto                                                                                                                                                                                                                                                                                                                                                                                                 Very good article, my daughter's team is very well adjusted with very good presentation and touch sensation\n",
            "2541                                                                                                                                                                                                                                                                                                                                                                                               Este producto cumplió con todas mis expectativas. Cumplieron con el tiempo y la calidad de entrega. Todo estuvo muy bien.                                                                                                                                                                                                                                                                                                                                                                                                   This product met all my expectations. They fulfilled time and delivery quality. Everything was very good.\n",
            "4297                                                                                                                                                                                                                                                                                                                                                                                                                                                                                                     viene en español???                                                                                                                                                                                                                                                                                                                                                                                                                                                                                        comes in Spanish ???\n",
            "4773                                                                                                                                                                                     Aquí en Colombia no se consiguen estos protectores para este tipo de reproductores MP3, pero afortunadamente lo conseguí por Amazon.com. Aunque el envío a mi país se demoró aproximadamente 30 días, hoy lo recibí y le queda perfecto al reproductor y se ve que es de muy buena calidad. Recomiendo este producto a ojo cerrado.                                                                                                                                                                  Here in Colombia, these protectors are not achieved for this type of MP3 players, but fortunately I got it on Amazon.com. Although the shipment to my country took approximately 30 days, today I received it and it is perfect for the player and it is seen that it is of very good quality. I recommend this product to the closed eye.\n",
            "4900   Es un audífono muy elegante. Sus funciones me resultan muy apropiadas, ya que donde vivo debo tener mi celular cerca de la ventana para poder recibir las llamadas y puedo ver quien llama desde donde estoy sin tener que acercarme al celular. Realmente no puedo disfrutar del mejor sonido, me imagino porque mi celular es Motorola y el audífono es Nokia. Cuando tengo una llamada muy pocas veces presenta el nombre de quien llama, regularmente sólo el número. En fin, creo que tengo ciertas dificultades  It is a very elegant hearing aid. Its functions are very appropriate, since where I live I must have my cell phone near the window to be able to receive the calls and I can see who calls from where I am without having to approach the cell phone. I really can't enjoy the best sound, I imagine because my cell phone is Motorola and the hearing aid is Nokia. When I have a call very rarely presents the name of who calls, regularly only the number. Anyway, I think I have certain difficulties\n",
            "\n",
            "Updated dataset saved to: /content/drive/MyDrive/ame_updated_dataset.csv\n"
          ]
        }
      ],
      "source": [
        "# 5000 data\n",
        "\n",
        "import re\n",
        "import os\n",
        "import gc\n",
        "import html\n",
        "import pandas as pd\n",
        "from langid import classify\n",
        "from deep_translator import GoogleTranslator\n",
        "from html import unescape\n",
        "from functools import lru_cache\n",
        "\n",
        "pd.set_option('display.max_colwidth', None)\n",
        "pd.set_option('display.width', 1000)\n",
        "\n",
        "script_dir = '/content/drive/MyDrive'\n",
        "updated_file = os.path.join(script_dir, 'ame_updated_dataset.csv')\n",
        "translated_file = os.path.join(script_dir, 'ame_translated.csv')\n",
        "\n",
        "try:\n",
        "    working_df = pd.read_csv(updated_file, encoding=\"utf-8\", index_col=0)\n",
        "\n",
        "    # define tasks: specific word replacements\n",
        "    translation_tasks = {\n",
        "        204: (\"dvizhushihsya\", \"ru\", \"moving\"),   # Russian → moving\n",
        "        451: (\"anunicion\", \"es\", \"advertisement\"), # Spanish → advertiseme\n",
        "    }\n",
        "\n",
        "    @lru_cache(maxsize=10000)\n",
        "    def cached_translate(text, src='auto', tgt='en'):\n",
        "        try:\n",
        "            return GoogleTranslator(source=src, target=tgt).translate(text)\n",
        "        except Exception as e:\n",
        "            print(f\"Translation error for '{text[:40]}': {e}\")\n",
        "            return text\n",
        "\n",
        "    translated_rows = []\n",
        "\n",
        "    print(\"\\nApplying manual translations (word-level)...\")\n",
        "    for idx, (target_word, source_lang, override_translation) in translation_tasks.items():\n",
        "        if idx in working_df.index and pd.notna(working_df.at[idx, 'review_body']):\n",
        "            original_review = working_df.at[idx, 'review_body']\n",
        "            if target_word in original_review:\n",
        "                translated_review = original_review.replace(target_word, override_translation)\n",
        "                working_df.at[idx, 'review_body'] = translated_review  # overwrite ori review with translated review\n",
        "                translated_rows.append([idx, original_review, translated_review])\n",
        "                print(f\"Manual word-level translation applied at index {idx}\")\n",
        "            else:\n",
        "                print(f\"Manual word not found at index {idx} → skipped\")\n",
        "        else:\n",
        "            print(f\"Review missing or empty at index {idx}\")\n",
        "\n",
        "    # full review translation for specified indices\n",
        "    full_translate_indices = [522, 2021, 2533, 2541, 4297, 4773, 4900]\n",
        "\n",
        "    print(\"\\nTranslating entire reviews at specified indices...\")\n",
        "    for idx in full_translate_indices:\n",
        "        if idx in working_df.index and pd.notna(working_df.at[idx, 'review_body']):\n",
        "            review_text = working_df.at[idx, 'review_body']\n",
        "            try:\n",
        "                translated = cached_translate(review_text, src='auto', tgt='en')\n",
        "                working_df.at[idx, 'review_body'] = translated  # overwrite ori review with translated review\n",
        "                translated_rows.append([idx, review_text, translated])\n",
        "                print(f\"Entire review translation applied at index {idx}\")\n",
        "            except Exception as e:\n",
        "                print(f\"Failed to translate index {idx}: {e}\")\n",
        "        else:\n",
        "            print(f\"Review missing or empty at index {idx}\")\n",
        "\n",
        "    # save translated rows\n",
        "    if translated_rows:\n",
        "        translated_df = pd.DataFrame(translated_rows, columns=['index', 'review_body', 'translated_review'])\n",
        "        translated_df.set_index('index', inplace=True)\n",
        "        translated_df.sort_index(inplace=True)\n",
        "        translated_df.to_csv(translated_file)\n",
        "        print(f\"\\nTranslated rows saved to: {translated_file}\")\n",
        "\n",
        "        print(f\"\\nTranslated reviews (sorted by index):\\n\")\n",
        "        print(translated_df.to_string(index=True))\n",
        "    else:\n",
        "        print(\"\\nNo translations were applied.\")\n",
        "\n",
        "    # save updated dataset\n",
        "    working_df.to_csv(updated_file, index=True)\n",
        "    print(f\"\\nUpdated dataset saved to: {updated_file}\")\n",
        "\n",
        "except FileNotFoundError:\n",
        "    print(f\"Error: File '{updated_file}' not found.\")\n",
        "except Exception as e:\n",
        "    print(f\"An error occurred: {e}\")\n",
        "\n",
        "# free memory\n",
        "del working_df\n",
        "_ = gc.collect()"
      ]
    },
    {
      "cell_type": "code",
      "execution_count": null,
      "metadata": {
        "colab": {
          "base_uri": "https://localhost:8080/"
        },
        "id": "LBzq76lVMOI7",
        "outputId": "a660b30a-8f44-4af3-e78d-b73eb640cb24"
      },
      "outputs": [
        {
          "name": "stdout",
          "output_type": "stream",
          "text": [
            "\n",
            "Applying manual translations (word-level)...\n",
            "Manual word-level translation applied at index 204\n",
            "Manual word-level translation applied at index 451\n",
            "\n",
            "Translating entire reviews at specified indices...\n",
            "Entire review translation applied at index 522\n",
            "\n",
            "Translated rows saved to: /content/drive/MyDrive/ame_translated.csv\n",
            "\n",
            "Translated reviews (sorted by index):\n",
            "\n",
            "                                                                                                                                                              review_body                                                                                                                                                       translated_review\n",
            "index                                                                                                                                                                                                                                                                                                                                            \n",
            "204            this unit does not match its value has technical flaws, which is reflected in the gaps in the backlash dvizhushihsya details, photos are bad, great video.                     this unit does not match its value has technical flaws, which is reflected in the gaps in the backlash moving details, photos are bad, great video.\n",
            "451    Good, as anunicion says \"Bluetooth Transmitter\", but I did not get any transmitter, which sent me are receivers. Now as we're going to send me Transmitters offer?  Good, as advertisement says \"Bluetooth Transmitter\", but I did not get any transmitter, which sent me are receivers. Now as we're going to send me Transmitters offer?\n",
            "522                                  Buen tiempo de entrega, cero problemas, buen precio, funciona a la perfección excelente calidad de producto, cero quejas al respecto                                                   Good delivery time, zero problems, good price, it works perfectly excellent product quality, zero complaints about it\n",
            "\n",
            "Updated dataset saved to: /content/drive/MyDrive/ame_updated_dataset.csv\n"
          ]
        }
      ],
      "source": [
        "# 1000 data\n",
        "\n",
        "import re\n",
        "import os\n",
        "import gc\n",
        "import html\n",
        "import pandas as pd\n",
        "from langid import classify\n",
        "from deep_translator import GoogleTranslator\n",
        "from html import unescape\n",
        "from functools import lru_cache\n",
        "\n",
        "pd.set_option('display.max_colwidth', None)\n",
        "pd.set_option('display.width', 1000)\n",
        "\n",
        "script_dir = '/content/drive/MyDrive'\n",
        "updated_file = os.path.join(script_dir, 'ame_updated_dataset.csv')\n",
        "translated_file = os.path.join(script_dir, 'ame_translated.csv')\n",
        "\n",
        "try:\n",
        "    working_df = pd.read_csv(updated_file, encoding=\"utf-8\", index_col=0)\n",
        "\n",
        "    # Define tasks: specific word replacements\n",
        "    translation_tasks = {\n",
        "        204: (\"dvizhushihsya\", \"ru\", \"moving\"),   # Russian → moving\n",
        "        451: (\"anunicion\", \"es\", \"advertisement\"), # Spanish → advertiseme\n",
        "    }\n",
        "\n",
        "    @lru_cache(maxsize=10000)\n",
        "    def cached_translate(text, src='auto', tgt='en'):\n",
        "        try:\n",
        "            return GoogleTranslator(source=src, target=tgt).translate(text)\n",
        "        except Exception as e:\n",
        "            print(f\"Translation error for '{text[:40]}': {e}\")\n",
        "            return text\n",
        "\n",
        "    translated_rows = []\n",
        "\n",
        "    print(\"\\nApplying manual translations (word-level)...\")\n",
        "    for idx, (target_word, source_lang, override_translation) in translation_tasks.items():\n",
        "        if idx in working_df.index and pd.notna(working_df.at[idx, 'review_body']):\n",
        "            original_review = working_df.at[idx, 'review_body']\n",
        "            if target_word in original_review:\n",
        "                translated_review = original_review.replace(target_word, override_translation)\n",
        "                working_df.at[idx, 'review_body'] = translated_review  # overwrite ori review with translated review\n",
        "                translated_rows.append([idx, original_review, translated_review])\n",
        "                print(f\"Manual word-level translation applied at index {idx}\")\n",
        "            else:\n",
        "                print(f\"Manual word not found at index {idx} → skipped\")\n",
        "        else:\n",
        "            print(f\"Review missing or empty at index {idx}\")\n",
        "\n",
        "    # Full review translation for specified indices\n",
        "    full_translate_indices = [522]\n",
        "\n",
        "    print(\"\\nTranslating entire reviews at specified indices...\")\n",
        "    for idx in full_translate_indices:\n",
        "        if idx in working_df.index and pd.notna(working_df.at[idx, 'review_body']):\n",
        "            review_text = working_df.at[idx, 'review_body']\n",
        "            try:\n",
        "                translated = cached_translate(review_text, src='auto', tgt='en')\n",
        "                working_df.at[idx, 'review_body'] = translated  # overwrite ori review with translated review\n",
        "                translated_rows.append([idx, review_text, translated])\n",
        "                print(f\"Entire review translation applied at index {idx}\")\n",
        "            except Exception as e:\n",
        "                print(f\"Failed to translate index {idx}: {e}\")\n",
        "        else:\n",
        "            print(f\"Review missing or empty at index {idx}\")\n",
        "\n",
        "    # Save translated rows\n",
        "    if translated_rows:\n",
        "        translated_df = pd.DataFrame(translated_rows, columns=['index', 'review_body', 'translated_review'])\n",
        "        translated_df.set_index('index', inplace=True)\n",
        "        translated_df.sort_index(inplace=True)\n",
        "        translated_df.to_csv(translated_file)\n",
        "        print(f\"\\nTranslated rows saved to: {translated_file}\")\n",
        "\n",
        "        print(f\"\\nTranslated reviews (sorted by index):\\n\")\n",
        "        print(translated_df.to_string(index=True))\n",
        "    else:\n",
        "        print(\"\\nNo translations were applied.\")\n",
        "\n",
        "    # Save updated dataset (if needed for future processing)\n",
        "    working_df.to_csv(updated_file, index=True)\n",
        "    print(f\"\\nUpdated dataset saved to: {updated_file}\")\n",
        "\n",
        "except FileNotFoundError:\n",
        "    print(f\"Error: File '{updated_file}' not found.\")\n",
        "except Exception as e:\n",
        "    print(f\"An error occurred: {e}\")\n",
        "\n",
        "# free memory\n",
        "del working_df\n",
        "_ = gc.collect()"
      ]
    },
    {
      "cell_type": "markdown",
      "metadata": {
        "id": "xumxgPVECs4S"
      },
      "source": [
        "### **Lowercasing letters**"
      ]
    },
    {
      "cell_type": "code",
      "execution_count": null,
      "metadata": {
        "colab": {
          "base_uri": "https://localhost:8080/"
        },
        "id": "8xCKUwnWQdcL",
        "outputId": "75d910ea-4354-4926-93e9-a6de30ede286"
      },
      "outputs": [
        {
          "output_type": "stream",
          "name": "stdout",
          "text": [
            "\n",
            "First 5 Lowercased Reviews:\n",
            "\n",
            "                                                                                                                                                                                                                             review_body\n",
            "0                                                                                                                                    item was as discribed; was shipped fast and function very well. would do business with again. a++++\n",
            "1                                                                                                                                                                                                       came in perfect. works perfectly\n",
            "2                                                                       good quality, came with out the extra boom mic cushion and the cord holder that the manufacturer promotes on the included parts off the product (product manual)\n",
            "3  i do not like reading my kindle in a case so this sleeve is great. good protection for my kindle. the front pocket is small. i use it to keep a list of series books. you could keep your charger in it but the pocket will stick up.\n",
            "4                                                                                      the case came 3 days after i ordered it. it fits my ipod really well and the colors are really cute. only issue was the missing screen protectors\n",
            "\n",
            "Updated data saved to: /content/drive/MyDrive/ame_updated_dataset.csv\n"
          ]
        }
      ],
      "source": [
        "import gc\n",
        "import os\n",
        "import pandas as pd\n",
        "\n",
        "pd.set_option('display.max_colwidth', None)\n",
        "pd.set_option('display.width', 1000)\n",
        "\n",
        "script_dir = '/content/drive/MyDrive'\n",
        "updated_file = os.path.join(script_dir, 'ame_updated_dataset.csv')\n",
        "\n",
        "try:\n",
        "    # load dataset\n",
        "    df = pd.read_csv(updated_file, encoding=\"utf-8\", index_col=0)\n",
        "\n",
        "    # apply lowercase\n",
        "    if 'review_body' in df.columns:\n",
        "        df['review_body'] = df['review_body'].str.lower()\n",
        "\n",
        "    # display first 5 rows after modification\n",
        "    print(\"\\nFirst 5 Lowercased Reviews:\\n\")\n",
        "    print(df[['review_body']].head().to_string(index=True))\n",
        "\n",
        "    # save updated dataset\n",
        "    df.to_csv(updated_file, index=True)\n",
        "    print(f\"\\nUpdated data saved to: {updated_file}\")\n",
        "\n",
        "except FileNotFoundError:\n",
        "    print(f\"Error: File '{updated_file}' not found.\")\n",
        "except Exception as e:\n",
        "    print(f\"An error occurred: {e}\")\n",
        "\n",
        "# free memory\n",
        "del df\n",
        "_ = gc.collect()"
      ]
    },
    {
      "cell_type": "markdown",
      "metadata": {
        "id": "eaflDcDuFk0F"
      },
      "source": [
        "### **Expand abbreviations**"
      ]
    },
    {
      "cell_type": "code",
      "execution_count": null,
      "metadata": {
        "colab": {
          "base_uri": "https://localhost:8080/"
        },
        "id": "ZWTKkSvVZVjd",
        "outputId": "5cecf3e9-387d-4ccc-e463-4807cd034421"
      },
      "outputs": [
        {
          "output_type": "stream",
          "name": "stdout",
          "text": [
            "Expanded abbreviations saved to: /content/drive/MyDrive/ame_expanded.csv\n",
            "\n",
            "First 5 reviews with expanded abbreviations:\n",
            "                                                                                                                                                                                                                                                                                                                                                                                                                                       review_body                                                                                                                                                                                                                                                                                                                                                                                                                                  expanded_review\n",
            "8                                                                                                                                                                                                                                           this amp is awesome! wasn't sure how it would perform being a 5channel,but. works great! such space saver and runs my sub,mids,and tweets amazing. fast shipping and great service by sonic, as always                                                                                                                                                                                                                                          this amp is awesome! was not sure how it would perform being a 5channel,but. works great! such space saver and runs my sub,mids,and tweets amazing. fast shipping and great service by sonic, as always\n",
            "9                                                                                                                                                                                                                                                                                                                                      this is great... u can customize it by scribbling on it.. and the arrival time is earlier than the due date                                                                                                                                                                                                                                                                                                                                    this is great... you can customize it by scribbling on it.. and the arrival time is earlier than the due date\n",
            "10                                                                                                                                                                                                                                                                                                                              was so cheap i couldn't resist and it's as good as ny expensive one. i'm not a purple fan, but for this it's fine.                                                                                                                                                                                                                                                                                                                           was so cheap i could not resist and it is as good as ny expensive one. i am not a purple fan, but for this it is fine.\n",
            "11                                                                                                                                                                                                                                                        decent bang for the buck! i use it at work to listen to my favorite radio stations through my phone (via tune in app). it's nice that the controls are always in my pocket, on my phone.                                                                                                                                                                                                                                                        decent bang for the buck! i use it at work to listen to my favorite radio stations through my phone (via tune in app). it is nice that the controls are always in my pocket, on my phone.\n",
            "13  i love this product i use it on my white unibody macbook. most that own a white macbook know that it is prone to getting oily and it loses its shine over time. this product is perfect because it restores your macbook to that fresh out the box shine. the cleaning cloths are awesome and gentle and don't scratch at all. this stuff also works great for my iphone 4 and ipod touch. i only wish that the spray came in a bigger bottle.  i love this product i use it on my white unibody macbook. most that own a white macbook know that it is prone to getting oily and it loses its shine over time. this product is perfect because it restores your macbook to that fresh out the box shine. the cleaning cloths are awesome and gentle and do not scratch at all. this stuff also works great for my iphone 4 and ipod touch. i only wish that the spray came in a bigger bottle.\n",
            "\n",
            "Updated data saved to: /content/drive/MyDrive/ame_updated_dataset.csv\n"
          ]
        }
      ],
      "source": [
        "import re\n",
        "import os\n",
        "import gc\n",
        "import pandas as pd\n",
        "import contractions\n",
        "\n",
        "pd.set_option('display.max_colwidth', None)\n",
        "pd.set_option('display.width', 1000)\n",
        "\n",
        "script_dir = '/content/drive/MyDrive'\n",
        "expanded_file = os.path.join(script_dir, 'ame_expanded.csv')\n",
        "updated_file = os.path.join(script_dir, 'ame_updated_dataset.csv')\n",
        "\n",
        "# load dataset\n",
        "df = pd.read_csv(updated_file, encoding=\"utf-8\", index_col=0)\n",
        "\n",
        "# define slang/informal abbrev mapping\n",
        "abbreviation_mapping = {\n",
        "            \"grt\": \"great\", \"pub tran\": \"public transportation\",\n",
        "            \"vs\": \"versus\", \"cd\": \"compact disc\", \"q\": \"quarter\", \"Feb\": \"February\", \"b'se\": \"because\", \"becuz\": \"because\", \"n\": \"and\",\n",
        "            \"no probs\": \"no problem\", \"yrs\": \"years\", \"yr\": \"years\", \"runnin'\": \"running\", \"smh\": \"somehow\"\n",
        "}\n",
        "\n",
        "def preprocess_apostrophes(text):\n",
        "  text = re.sub(r\"\\b(\\w+)'n\\b\", r\"\\1ing\", text)  # convert runnin' → running\n",
        "  return text\n",
        "\n",
        "# expand text using both contractions & custom abbrev\n",
        "def expand_text(text):\n",
        "    if not isinstance(text, str) or pd.isna(text):\n",
        "        return text\n",
        "    # expand standard English contractions\n",
        "    text = contractions.fix(text)\n",
        "    text = preprocess_apostrophes(text)\n",
        "\n",
        "    # expand slang/custom abbreviations\n",
        "    for abbr, full in abbreviation_mapping.items():\n",
        "        text = re.sub(rf'\\b{re.escape(abbr)}\\b', full, text, flags=re.IGNORECASE)\n",
        "    return text\n",
        "\n",
        "# apply to entire dataset\n",
        "df['expanded_review'] = df['review_body'].apply(expand_text)\n",
        "# identify rows where changes occurred\n",
        "df['changed'] = df['review_body'] != df['expanded_review']\n",
        "# separate expanded rows\n",
        "expanded_df = df[df['changed']][['review_body', 'expanded_review']].copy()\n",
        "\n",
        "# save only expanded rows\n",
        "expanded_df.to_csv(expanded_file)\n",
        "print(f\"Expanded abbreviations saved to: {expanded_file}\")\n",
        "print(\"\\nFirst 5 reviews with expanded abbreviations:\")\n",
        "print(expanded_df.head(5).to_string(index=True))\n",
        "\n",
        "# update main column\n",
        "df['review_body'] = df['expanded_review']\n",
        "df.drop(columns=['expanded_review', 'changed'], inplace=True)\n",
        "# save full updated dataset\n",
        "df.to_csv(updated_file)\n",
        "print(f\"\\nUpdated data saved to: {updated_file}\")\n",
        "\n",
        "del expanded_df\n",
        "_ = gc.collect()"
      ]
    },
    {
      "cell_type": "markdown",
      "metadata": {
        "id": "AQTWqXpWFmZU"
      },
      "source": [
        "### **Correct misspellings**"
      ]
    },
    {
      "cell_type": "code",
      "execution_count": null,
      "metadata": {
        "colab": {
          "base_uri": "https://localhost:8080/"
        },
        "id": "Km2bHlnrKWLo",
        "outputId": "7fb6b6c6-5efb-4265-cca2-608aba69be9f"
      },
      "outputs": [
        {
          "output_type": "stream",
          "name": "stdout",
          "text": [
            "Total corrected reviews: 708\n",
            "                                                                                                                                                                                                                                                                                                                                                                                                                                        review_body                                                                                                                                                                                                                                                                                                                                                                                                                                corrected_review\n",
            "8                                                                                                                                                                                                                                           this amp is awesome! was not sure how it would perform being a 5channel,but. works great! such space saver and runs my sub,mids,and tweets amazing. fast shipping and great service by sonic, as always                                                                                                                                                                                                                                         this amp is awesome! was not sure how it would perform being a 5channel,but. works great! such space saver and runs my sub,mids,and sweets amazing. fast shipping and great service by sonic, as always\n",
            "13  i love this product i use it on my white unibody macbook. most that own a white macbook know that it is prone to getting oily and it loses its shine over time. this product is perfect because it restores your macbook to that fresh out the box shine. the cleaning cloths are awesome and gentle and do not scratch at all. this stuff also works great for my iphone 4 and ipod touch. i only wish that the spray came in a bigger bottle.  i love this product i use it on my white nobody macbook. most that own a white macbook know that it is prone to getting oily and it loses its shine over time. this product is perfect because it restores your macbook to that fresh out the box shine. the cleaning cloths are awesome and gentle and do not scratch at all. this stuff also works great for my iphone 4 and ipod touch. i only wish that the spray came in a bigger bottle.\n",
            "33                                                                                just got my new sony radio, and like it very much. i had a radio shack version....used them, for several years, but the last one was a lemon, so thot i would try this sony. it is easy to use, even when i am in bed, with the lites off....can find my programs, turning the dial. the sound is excellent, so what more can i add? just what i was looking for.                                                                               just got my new sony radio, and like it very much. i had a radio shack version....used them, for several years, but the last one was a lemon, so that i would try this sony. it is easy to use, even when i am in bed, with the sites off....can find my programs, turning the dial. the sound is excellent, so what more can i add? just what i was looking for.\n",
            "46                                                                                                                               i ordered this case but when it did not arrive after 3 weeks of waiting, i was getting concerned. so i got in touch with the company,eforcity, and they apologized stating they did not know what happpened to the case. they quickly sent another one and i am enjoying it today. great case and a great company.                                                                                                                               i ordered this case but when it did not arrive after 3 weeks of waiting, i was getting concerned. so i got in touch with the company,eforcity, and they apologized stating they did not know what happened to the case. they quickly sent another one and i am enjoying it today. great case and a great company.\n",
            "47                                                                                                                                                                                                                                                                                                     do not buy these bulbs, they burn to hot and actually burned my housing after 5 mins, and canbus did not keep light warning from turning off                                                                                                                                                                                                                                                                                                    do not buy these bulbs, they burn to hot and actually burned my housing after 5 mins, and cantus did not keep light warning from turning off\n",
            "\n",
            "Updated dataset with corrected reviews saved to /content/drive/MyDrive/ame_updated_dataset.csv\n"
          ]
        },
        {
          "output_type": "execute_result",
          "data": {
            "text/plain": [
              "0"
            ]
          },
          "metadata": {},
          "execution_count": 8
        }
      ],
      "source": [
        "import pandas as pd\n",
        "import re\n",
        "import os\n",
        "import gc\n",
        "from symspellpy.symspellpy import SymSpell, Verbosity\n",
        "\n",
        "pd.set_option('display.max_colwidth', None)\n",
        "pd.set_option('display.width', 1200)\n",
        "\n",
        "script_dir = '/content/drive/MyDrive'\n",
        "corrected_file = os.path.join(script_dir, 'ame_corrected_misspelling.csv')\n",
        "updated_file = os.path.join(script_dir, 'ame_updated_dataset.csv')\n",
        "\n",
        "# initialize SymSpell\n",
        "max_edit_distance = 2\n",
        "prefix_length = 7\n",
        "sym_spell = SymSpell(max_dictionary_edit_distance=max_edit_distance, prefix_length=prefix_length)\n",
        "\n",
        "# load base dictionary\n",
        "dictionary_file = \"/content/drive/MyDrive/Colab Notebooks/frequency_dictionary_en_82_765.txt\"\n",
        "if not sym_spell.load_dictionary(dictionary_file, term_index=0, count_index=1):\n",
        "    raise Exception(\"Dictionary file not found or failed to load.\")\n",
        "\n",
        "correction_log = {}\n",
        "def autocorrect_text(text):\n",
        "    words = text.split()\n",
        "    result = []\n",
        "    for word in words:\n",
        "        if len(word) <= 2 or not word.isalpha():\n",
        "            result.append(word)\n",
        "            continue\n",
        "        suggestions = sym_spell.lookup(word.lower(), Verbosity.CLOSEST, max_edit_distance)\n",
        "        if suggestions:\n",
        "            top_suggestion = suggestions[0]\n",
        "            if top_suggestion.count > 10 and top_suggestion.distance <= 2:\n",
        "                corrected = top_suggestion.term\n",
        "                if corrected != word.lower():\n",
        "                    correction_log[word] = corrected\n",
        "                result.append(corrected)\n",
        "            else:\n",
        "                result.append(word)\n",
        "        else:\n",
        "            result.append(word)\n",
        "    return ' '.join(result)\n",
        "\n",
        "def add_custom_dictionary(df, text_col, sym_spell, min_freq=2, min_word_length=3):\n",
        "    from collections import Counter\n",
        "    import re\n",
        "\n",
        "    word_counter = Counter()\n",
        "    for text in df[text_col].dropna():\n",
        "        words = re.findall(r'\\b[a-zA-Z]+\\b', text.lower())\n",
        "        filtered_words = [w for w in words if len(w) >= min_word_length]\n",
        "        word_counter.update(filtered_words)\n",
        "\n",
        "    for word, count in word_counter.items():\n",
        "        if count >= min_freq:\n",
        "            sym_spell.create_dictionary_entry(word, count)\n",
        "\n",
        "original_df = pd.read_csv(updated_file).reset_index(drop=True)\n",
        "\n",
        "# build custom dictionary from review_body column\n",
        "add_custom_dictionary(original_df, 'review_body', sym_spell, min_freq=2, min_word_length=3)\n",
        "\n",
        "# apply autocorrect_text() to review in 'review_body' column\n",
        "original_df['corrected_review'] = original_df['review_body'].apply(autocorrect_text)\n",
        "\n",
        "# identify which reviews were changed\n",
        "corrections_df = original_df[original_df['review_body'] != original_df['corrected_review']][\n",
        "    ['review_body', 'corrected_review']\n",
        "]\n",
        "\n",
        "print(f\"Total corrected reviews: {len(corrections_df)}\")\n",
        "print(corrections_df.head())\n",
        "\n",
        "# save corrected reviews for reference\n",
        "corrections_df.to_csv(corrected_file)\n",
        "\n",
        "# update original dataset with corrected reviews\n",
        "original_df['review_body'] = original_df['corrected_review']\n",
        "\n",
        "# remove duplicates caused by corrections (keep first occurrence)\n",
        "original_df = original_df.drop(columns=['corrected_review']).drop_duplicates(subset=['review_body']).reset_index(drop=True)\n",
        "\n",
        "original_df.to_csv(updated_file, index=False)\n",
        "print(f\"\\nUpdated dataset with corrected reviews saved to {updated_file}\")\n",
        "\n",
        "gc.collect()"
      ]
    },
    {
      "cell_type": "markdown",
      "metadata": {
        "id": "Cc5DhmS4J5et"
      },
      "source": [
        "### **Build dictionary-based correction & test it**"
      ]
    },
    {
      "cell_type": "code",
      "execution_count": null,
      "metadata": {
        "colab": {
          "base_uri": "https://localhost:8080/"
        },
        "id": "B_hBli52sS0d",
        "outputId": "67c74f9e-5338-408c-ea42-eb82738cdc11"
      },
      "outputs": [
        {
          "name": "stdout",
          "output_type": "stream",
          "text": [
            "Building custom dictionary from dataset vocabulary...\n",
            "Unique words found: 10549\n",
            "Added 5318 words to SymSpell dictionary.\n",
            "Expanded reviews loaded.\n",
            "\n",
            "Corrected Expanded Reviews:\n",
            "                                                                                                                                                                                                                                                                                                                                                                                                                                                                          Expanded Reviews                                                                                                                                                                                                                                                                                                                                                                                                                                                                       Corrected Reviews\n",
            "8                                                                                                                                                                                                                                                                                  this amp is awesome! was not sure how it would perform being a 5channel,but. works great! such space saver and runs my sub,mids,and tweets amazing. fast shipping and great service by sonic, as always                                                                                                                                                                                                                                                                                 this amp is awesome! was not sure how it would perform being a 5channel,but. works great! such space saver and runs my sub,mids,and sweets amazing. fast shipping and great service by sonic, as always\n",
            "13                                         i love this product i use it on my white unibody macbook. most that own a white macbook know that it is prone to getting oily and it loses its shine over time. this product is perfect because it restores your macbook to that fresh out the box shine. the cleaning cloths are awesome and gentle and do not scratch at all. this stuff also works great for my iphone 4 and ipod touch. i only wish that the spray came in a bigger bottle.                                          i love this product i use it on my white nobody macbook. most that own a white macbook know that it is prone to getting oily and it loses its shine over time. this product is perfect because it restores your macbook to that fresh out the box shine. the cleaning cloths are awesome and gentle and do not scratch at all. this stuff also works great for my iphone 4 and ipod touch. i only wish that the spray came in a bigger bottle.\n",
            "33                                                                                                                       just got my new sony radio, and like it very much. i had a radio shack version....used them, for several years, but the last one was a lemon, so thot i would try this sony. it is easy to use, even when i am in bed, with the lites off....can find my programs, turning the dial. the sound is excellent, so what more can i add? just what i was looking for.                                                                                                                       just got my new sony radio, and like it very much. i had a radio shack version....used them, for several years, but the last one was a lemon, so that i would try this sony. it is easy to use, even when i am in bed, with the sites off....can find my programs, turning the dial. the sound is excellent, so what more can i add? just what i was looking for.\n",
            "46                                                                                                                                                                      i ordered this case but when it did not arrive after 3 weeks of waiting, i was getting concerned. so i got in touch with the company,eforcity, and they apologized stating they did not know what happpened to the case. they quickly sent another one and i am enjoying it today. great case and a great company.                                                                                                                                                                       i ordered this case but when it did not arrive after 3 weeks of waiting, i was getting concerned. so i got in touch with the company,eforcity, and they apologized stating they did not know what happened to the case. they quickly sent another one and i am enjoying it today. great case and a great company.\n",
            "50  overall i like this little gem. i use to to improve my cell phone volume when on a conference call. love how it compresses to save space. open to add bass. nice on off switch and volume control. sound is lacking in highs but not objectionably so. cons... or stumbles. first of all the power light is in the bottom, so you really cannot see it unless you pick up the speaker and turn it over. the cable under the speaker to connect to an audio source is so short you must  overall i like this little gem. i use to to improve my cell phone volume when on a conference call. love how it compresses to save space. open to add bass. nice on off switch and volume control. sound is lacking in highs but not objectionable so. cons... or stumbles. first of all the power light is in the bottom, so you really cannot see it unless you pick up the speaker and turn it over. the cable under the speaker to connect to an audio source is so short you must\n",
            "\n",
            "Corrected Other Reviews:\n",
            "                                                                                                                                                                                                                                                                                                                                                                                                                                                                                                                           Reviews                                                                                                                                                                                                                                                                                                                                                                                                                                                                                                           Corrected Reviews\n",
            "47                                                                                                                                                                                                                                                                                                                                                                                    do not buy these bulbs, they burn to hot and actually burned my housing after 5 mins, and canbus did not keep light warning from turning off                                                                                                                                                                                                                                                                                                                                                                                do not buy these bulbs, they burn to hot and actually burned my housing after 5 mins, and cantus did not keep light warning from turning off\n",
            "52                                                                                                                                                                                                                                                                                                                                                                                                   a lot smaller then i thought. gets a lot of static. sound is egh. deff should have looked around for the $80 i spent on this.                                                                                                                                                                                                                                                                                                                                                                                               a lot smaller then i thought. gets a lot of static. sound is egh. diff should have looked around for the $80 i spent on this.\n",
            "58  this blackbox camera is great. installation; 5/5 - easy - from unboxing to driving for adjustments was about 45mins. the only reason it took me that long was due me not being able to find a suitable ground; i used continuous power. fuse puller and circuit tester is a definite advantage, $2 and $5 respectively from your local auto parts store. supplied cabling is plentiful enough for almost any vehicle application (front windshield). use; 5/5 - excellent - i was scared that the instructions would be diffic  this blackbox camera is great. installation; 5/5 - easy - from boxing to driving for adjustments was about 45mins. the only reason it took me that long was due me not being able to find a suitable ground; i used continuous power. fuse puller and circuit tester is a definite advantage, $2 and $5 respectively from your local auto parts store. supplied cabling is plentiful enough for almost any vehicle application (front windshield). use; 5/5 - excellent - i was scared that the instructions would be diff\n",
            "76              i purchased a sony lcd 52 tv from amazon, august 2009 & with all the rave reviews at the time regarding square trade, i purchased a square trade extended warranty. i purchased the 3 year extended warranty for around $100. i was recently going through some paper work & realized that my warranty might be expiring & thought i should probably renew it. well after researching my papaer work (via emails) i was correct, it is due to expire the end of this month, so i called them to extend it, only to           i purchased a sony lcd 52 tv from amazon, august 2009 & with all the rave reviews at the time regarding square trade, i purchased a square trade extended warranty. i purchased the 3 year extended warranty for around $100. i was recently going through some paper work & realized that my warranty might be expiring & thought i should probably renew it. well after researching my paper work (via emails) i was correct, it is due to expire the end of this month, so i called them to extend it, only to\n",
            "80                                                                                                                                                                                                                                                                             for everyone having problems with this device: make sure you set the gps device baudrate to 9600 in your code! tinygps and ++ libaries by mikal hart have the baudrate set to 4800 by default, so it will not work out of the box with this device.                                                                                                                                                                                                                                                                          for everyone having problems with this device: make sure you set the gps device baudrate to 9600 in your code! tings and ++ libraries by final hart have the baudrate set to 4800 by default, so it will not work out of the box with this device.\n",
            "\n",
            "All corrected misspellings saved to: /content/drive/MyDrive/ame_corrected_misspelling.csv\n",
            "\n",
            "Updated dataset saved to: /content/drive/MyDrive/ame_updated_dataset.csv\n",
            "\n",
            "Testing sample misspelling corrections:\n",
            "iphon -> siphon\n",
            "samsng -> samsung\n",
            "chargre -> charge\n",
            "earbudz -> earbud\n",
            "blutooth -> bluetooth\n"
          ]
        },
        {
          "data": {
            "text/plain": [
              "0"
            ]
          },
          "execution_count": 14,
          "metadata": {},
          "output_type": "execute_result"
        }
      ],
      "source": [
        "import re\n",
        "import os\n",
        "import gc\n",
        "import pandas as pd\n",
        "import string\n",
        "from collections import Counter\n",
        "from symspellpy.symspellpy import SymSpell, Verbosity\n",
        "\n",
        "pd.set_option('display.max_colwidth', None)\n",
        "pd.set_option('display.width', 1200)\n",
        "\n",
        "script_dir = '/content/drive/MyDrive'\n",
        "expanded_file = os.path.join(script_dir, 'ame_expanded.csv')\n",
        "corrected_file = os.path.join(script_dir, 'ame_corrected_misspelling.csv')\n",
        "updated_file = os.path.join(script_dir, 'ame_updated_dataset.csv')\n",
        "dictionary_file = \"/content/drive/MyDrive/Colab Notebooks/frequency_dictionary_en_82_765.txt\"\n",
        "\n",
        "# Initialize SymSpell\n",
        "max_edit_distance = 2\n",
        "prefix_length = 7\n",
        "sym_spell = SymSpell(max_dictionary_edit_distance=max_edit_distance, prefix_length=prefix_length)\n",
        "\n",
        "if not sym_spell.load_dictionary(dictionary_file, term_index=0, count_index=1):\n",
        "    raise Exception(\"Dictionary file not found or failed to load.\")\n",
        "\n",
        "def add_custom_dictionary(df, text_column, sym_spell, min_freq=2, min_word_length=3):\n",
        "    print(\"Building custom dictionary from dataset vocabulary...\")\n",
        "    all_text = ' '.join(df[text_column].astype(str).tolist()).lower()\n",
        "    words = re.findall(r'\\b\\w+\\b', all_text)\n",
        "    freq_counter = Counter(words)\n",
        "    print(f\"Unique words found: {len(freq_counter)}\")\n",
        "\n",
        "    count_added = 0\n",
        "    for word, freq in freq_counter.items():\n",
        "        if freq >= min_freq and len(word) >= min_word_length:\n",
        "            sym_spell.create_dictionary_entry(word, freq)\n",
        "            count_added += 1\n",
        "    print(f\"Added {count_added} words to SymSpell dictionary.\")\n",
        "\n",
        "# Load dataset\n",
        "original_df = pd.read_csv(updated_file).reset_index(drop=True)\n",
        "\n",
        "# Add your custom dictionary entries from dataset vocabulary\n",
        "add_custom_dictionary(original_df, 'review_body', sym_spell, min_freq=2, min_word_length=3)\n",
        "\n",
        "# Correction function using SymSpell\n",
        "correction_log = {}\n",
        "\n",
        "def autocorrect_text(text):\n",
        "    words = text.split()\n",
        "    result = []\n",
        "\n",
        "    for word in words:\n",
        "        # Skip short, non-alphabetic, or already correct words\n",
        "        if len(word) <= 2 or not word.isalpha():\n",
        "            result.append(word)\n",
        "            continue\n",
        "\n",
        "        suggestions = sym_spell.lookup(word.lower(), Verbosity.CLOSEST, max_edit_distance)\n",
        "        if suggestions:\n",
        "            corrected = suggestions[0].term\n",
        "            if corrected != word.lower():\n",
        "                correction_log[word] = corrected\n",
        "            result.append(corrected)\n",
        "        else:\n",
        "            result.append(word)\n",
        "\n",
        "    return ' '.join(result)\n",
        "\n",
        "# load expanded file\n",
        "try:\n",
        "    expanded_df = pd.read_csv(expanded_file, index_col=0)\n",
        "    common_indices = expanded_df.index.intersection(original_df.index)\n",
        "    original_df.loc[common_indices, 'review_body'] = expanded_df.loc[common_indices, 'expanded_review']\n",
        "    print(\"Expanded reviews loaded.\")\n",
        "except FileNotFoundError:\n",
        "    print(\"Expanded file not found. Skipping abbreviation expansion.\")\n",
        "    expanded_df = pd.DataFrame()\n",
        "\n",
        "working_df = original_df.copy()\n",
        "\n",
        "# Separate into 2 parts\n",
        "expanded_indices = expanded_df.index if not expanded_df.empty else []\n",
        "other_indices = [i for i in working_df.index if i not in expanded_indices]\n",
        "\n",
        "# process expanded reviews\n",
        "expanded_corrected_df = working_df.loc[expanded_indices].copy()\n",
        "original_expanded_reviews = expanded_corrected_df['review_body'].copy()\n",
        "expanded_corrected_df['review_body'] = expanded_corrected_df['review_body'].apply(autocorrect_text)\n",
        "\n",
        "# process other reviews\n",
        "other_corrected_df = working_df.loc[other_indices].copy()\n",
        "original_other_reviews = other_corrected_df['review_body'].copy()\n",
        "other_corrected_df['review_body'] = other_corrected_df['review_body'].apply(autocorrect_text)\n",
        "\n",
        "# prepare display dataframes\n",
        "display_expanded_df = pd.DataFrame({\n",
        "    'Expanded Reviews': original_expanded_reviews,\n",
        "    'Corrected Reviews': expanded_corrected_df['review_body']\n",
        "}, index=expanded_indices)\n",
        "display_expanded_df = display_expanded_df[display_expanded_df['Expanded Reviews'] != display_expanded_df['Corrected Reviews']]\n",
        "\n",
        "display_other_df = pd.DataFrame({\n",
        "    'Reviews': original_other_reviews,\n",
        "    'Corrected Reviews': other_corrected_df['review_body']\n",
        "}, index=other_indices)\n",
        "display_other_df = display_other_df[display_other_df['Reviews'] != display_other_df['Corrected Reviews']]\n",
        "\n",
        "# Combine and save\n",
        "all_corrected_data = []\n",
        "if not display_expanded_df.empty:\n",
        "    print(\"\\nCorrected Expanded Reviews:\")\n",
        "    print(display_expanded_df.head())\n",
        "    all_corrected_data.append(display_expanded_df)\n",
        "\n",
        "if not display_other_df.empty:\n",
        "    print(\"\\nCorrected Other Reviews:\")\n",
        "    print(display_other_df.head())\n",
        "    all_corrected_data.append(display_other_df)\n",
        "\n",
        "if all_corrected_data:\n",
        "    final_display_df = pd.concat(all_corrected_data).sort_index()\n",
        "    final_display_df.to_csv(corrected_file)\n",
        "    print(f\"\\nAll corrected misspellings saved to: {corrected_file}\")\n",
        "\n",
        "    working_df.loc[final_display_df.index, 'review_body'] = final_display_df['Corrected Reviews']\n",
        "    working_df = working_df.loc[~working_df.duplicated(subset=['review_body'], keep='first')].sort_index()\n",
        "    working_df.to_csv(updated_file, index=False)\n",
        "    print(f\"\\nUpdated dataset saved to: {updated_file}\")\n",
        "else:\n",
        "    print(\"No misspellings were corrected.\")\n",
        "\n",
        "# Test sample misspelling corrections\n",
        "test_words = [\"iphon\", \"samsng\", \"chargre\", \"earbudz\", \"blutooth\"]\n",
        "print(\"\\nTesting sample misspelling corrections:\")\n",
        "for w in test_words:\n",
        "    suggestions = sym_spell.lookup(w.lower(), Verbosity.CLOSEST, max_edit_distance)\n",
        "    if suggestions:\n",
        "        print(f\"{w} -> {suggestions[0].term}\")\n",
        "    else:\n",
        "        print(f\"{w} -> (no suggestion)\")\n",
        "\n",
        "gc.collect()"
      ]
    },
    {
      "cell_type": "markdown",
      "metadata": {
        "id": "XMwGD-qf757P"
      },
      "source": [
        "### **Remove punctuations**"
      ]
    },
    {
      "cell_type": "code",
      "execution_count": null,
      "metadata": {
        "colab": {
          "base_uri": "https://localhost:8080/"
        },
        "id": "k4MU1jio79dS",
        "outputId": "3364951e-d2d8-48b6-f6eb-353e202afbdc"
      },
      "outputs": [
        {
          "output_type": "stream",
          "name": "stdout",
          "text": [
            "\n",
            "Removed punctuations saved to: /content/drive/MyDrive/ame_removed_punc.csv\n",
            "                                                                                                                                                                                                                        review_body\n",
            "0                                                                                                                                  item was as discribed was shipped fast and function very well would do business with again a++++\n",
            "1                                                                                                                                                                                                   came in perfect works perfectly\n",
            "2                                                                     good quality came with out the extra boom mic cushion and the cord holder that the manufacturer promotes on the included parts off the product product manual\n",
            "3  i do not like reading my kindle in a case so this sleeve is great good protection for my kindle the front pocket is small i use it to keep a list of series books you could keep your charger in it but the pocket will stick up\n",
            "4                                                                                   the case came 3 days after i ordered it it fits my ipod really well and the colors are really cute only issue was the missing screen protectors\n",
            "\n",
            "Updated dataset saved to: /content/drive/MyDrive/ame_updated_dataset.csv\n"
          ]
        }
      ],
      "source": [
        "import re\n",
        "import os\n",
        "import string\n",
        "import gc\n",
        "import unicodedata\n",
        "import pandas as pd\n",
        "\n",
        "pd.set_option('display.max_colwidth', None)\n",
        "pd.set_option('display.width', 1200)\n",
        "\n",
        "script_dir = '/content/drive/MyDrive'\n",
        "#original_file = os.path.join(script_dir, 'ame_corrected_misspelling.csv')\n",
        "updated_file = os.path.join(script_dir, 'ame_updated_dataset.csv')\n",
        "removed_punc_file = os.path.join(script_dir, 'ame_removed_punc.csv')\n",
        "\n",
        "# remove punctuations: comma, full stop, hashtag, colon, semicolon, bracket, square b., ellipsis\n",
        "def remove_punc(review):\n",
        "  if isinstance(review, str):\n",
        "    review = re.sub(r'(\\d+)\\s*-\\s*(\\d+)', r'\\1 \\2', review)     # 1 space remains between numbers after remove hypen\n",
        "    review = re.sub(r'(\\b\\w+)-(\\w+\\b)', r'\\1\\2', review)    # no space left after remove hypen between words\n",
        "    review = unicodedata.normalize('NFKC', review)\n",
        "    review = re.sub(r'[.,#:;()\\[\\]{}=\\-]', ' ', review)   # remove punc ' ': after removing punc, leave a space if there's next sentence/other words\n",
        "    review = re.sub(r'\\.{3,}', ' ', review)       # replace ellipsis (...) with a space\n",
        "    review = re.sub(r'\\s+', ' ', review).strip()  # remove extra spaces\n",
        "\n",
        "    # keep multiple punctuation together (, \"? !\" -> \"?!\", \"! ?\" -> \"!?\")\n",
        "    review = re.sub(r'\\s*([?!]+)\\s*([?!]+)\\s*', r'\\1\\2', review)\n",
        "\n",
        "    review = re.sub(r'\\s*!+\\s*!+\\s*', '!!', review)    # multiple \"!\" remain together without extra spaces\n",
        "    review = re.sub(r'([?!])(\\w)', r'\\1 \\2', review)       # a space remains after any ! if followed by word\n",
        "  return review\n",
        "\n",
        "# load updated dataset\n",
        "try:\n",
        "    df = pd.read_csv(updated_file, encoding=\"utf-8\")\n",
        "\n",
        "    # apply punctuation removal\n",
        "    df['review_body'] = df['review_body'].apply(remove_punc)\n",
        "\n",
        "    # save punctuation-removed dataset\n",
        "    df.to_csv(removed_punc_file, index=True)\n",
        "    print(f\"\\nRemoved punctuations saved to: {removed_punc_file}\")\n",
        "\n",
        "    # overwrite main dataset with cleaned text\n",
        "    df.to_csv(updated_file, index=True)\n",
        "    print(df[['review_body']].head())\n",
        "    print(f\"\\nUpdated dataset saved to: {updated_file}\")\n",
        "\n",
        "except FileNotFoundError as e:\n",
        "    print(f\"File not found: {e}\")\n",
        "except Exception as e:\n",
        "    print(f\"Error occurred: {e}\")\n",
        "\n",
        "del df\n",
        "_ = gc.collect()"
      ]
    },
    {
      "cell_type": "markdown",
      "metadata": {
        "id": "QdAxYeH7KoYc"
      },
      "source": [
        "### **Remove symbols**"
      ]
    },
    {
      "cell_type": "code",
      "execution_count": null,
      "metadata": {
        "colab": {
          "base_uri": "https://localhost:8080/"
        },
        "id": "cppYhhZfKpw7",
        "outputId": "644c97cd-1869-4108-a2e6-deddc7a07715"
      },
      "outputs": [
        {
          "output_type": "stream",
          "name": "stdout",
          "text": [
            "Removed symbols saved to: /content/drive/MyDrive/ame_removed_symbol.csv\n",
            "                                                                                                                                                                                                                        review_body                                                                                                                                                                                                             removed_symbol_review\n",
            "0                                                                                                                                  item was as discribed was shipped fast and function very well would do business with again a++++                                                                                                                                    item was as discribed was shipped fast and function very well would do business with again a  \n",
            "1                                                                                                                                                                                                   came in perfect works perfectly                                                                                                                                                                                                   came in perfect works perfectly\n",
            "2                                                                     good quality came with out the extra boom mic cushion and the cord holder that the manufacturer promotes on the included parts off the product product manual                                                                     good quality came with out the extra boom mic cushion and the cord holder that the manufacturer promotes on the included parts off the product product manual\n",
            "3  i do not like reading my kindle in a case so this sleeve is great good protection for my kindle the front pocket is small i use it to keep a list of series books you could keep your charger in it but the pocket will stick up  i do not like reading my kindle in a case so this sleeve is great good protection for my kindle the front pocket is small i use it to keep a list of series books you could keep your charger in it but the pocket will stick up\n",
            "4                                                                                   the case came 3 days after i ordered it it fits my ipod really well and the colors are really cute only issue was the missing screen protectors                                                                                   the case came 3 days after i ordered it it fits my ipod really well and the colors are really cute only issue was the missing screen protectors\n",
            "\n",
            "Updated data saved to: /content/drive/MyDrive/ame_updated_dataset.csv\n"
          ]
        }
      ],
      "source": [
        "import re\n",
        "import os\n",
        "import gc\n",
        "import pandas as pd\n",
        "\n",
        "pd.set_option('display.max_colwidth', None)\n",
        "pd.set_option('display.width', 1200)\n",
        "\n",
        "script_dir = \"/content/drive/MyDrive\"\n",
        "updated_file = os.path.join(script_dir, \"ame_updated_dataset.csv\")\n",
        "removed_symbol_file = os.path.join(script_dir, \"ame_removed_symbol.csv\")\n",
        "\n",
        "def remove_symbol(review):\n",
        "  if isinstance(review, str):\n",
        "    review = re.sub(r'\\s*\\+\\+\\s*', ' ', review)     # remove '++' with surrounding spaces\n",
        "    review = re.sub(r'\\s*\\+\\s*', ' plus ', review)  # replace '+' with plus, proper spacing\n",
        "    review = re.sub(r'\\s*\\*\\s*', ' ', review)       # remove standalone *\n",
        "  return review\n",
        "\n",
        "try:\n",
        "  df_sample = pd.read_csv(updated_file, encoding=\"utf-8\", index_col=0)\n",
        "\n",
        "  # apply symbol removal & create a new column to store results\n",
        "  df_sample[\"removed_symbol_review\"] = df_sample[\"review_body\"].apply(remove_symbol)\n",
        "\n",
        "  # save cleaned dataset\n",
        "  df_sample.to_csv(removed_symbol_file, index=True)\n",
        "  print(f\"Removed symbols saved to: {removed_symbol_file}\")\n",
        "\n",
        "  # display first few rows including original & cleaned reviews\n",
        "  print(df_sample[['review_body', 'removed_symbol_review']].head())\n",
        "\n",
        "  # update 'review_body' with cleaned text\n",
        "  df_sample[\"review_body\"] = df_sample[\"removed_symbol_review\"]\n",
        "\n",
        "  # drop temporary column before saving updated dataset\n",
        "  df_sample.drop(columns=[\"removed_symbol_review\"], inplace=True)\n",
        "\n",
        "  # update main dataset\n",
        "  df_sample.to_csv(updated_file, index=True)\n",
        "  print(f\"\\nUpdated data saved to: {updated_file}\")\n",
        "\n",
        "except FileNotFoundError as e:\n",
        "  print(f\"File not found: {e}\")\n",
        "except Exception as e:\n",
        "  print(f\"Error occurred: {e}\")\n",
        "\n",
        "del df_sample\n",
        "_ = gc.collect()"
      ]
    },
    {
      "cell_type": "markdown",
      "metadata": {
        "id": "J9j6NRh-FKhe"
      },
      "source": [
        "### **Replace special characters**"
      ]
    },
    {
      "cell_type": "code",
      "execution_count": null,
      "metadata": {
        "colab": {
          "base_uri": "https://localhost:8080/"
        },
        "id": "6FwrWtFcFRnz",
        "outputId": "fb6c8f6c-2188-43a2-fb59-54fc27ba8c3a"
      },
      "outputs": [
        {
          "output_type": "stream",
          "name": "stdout",
          "text": [
            "Replaced special characters saved to: /content/drive/MyDrive/ame_replace_special_chars.csv\n",
            "                                                                                                                                                                                                                        review_body                                                                                                                                                                                                      replace_special_chars_review\n",
            "0                                                                                                                                    item was as discribed was shipped fast and function very well would do business with again a                                                                                                                                        item was as discribed was shipped fast and function very well would do business with again a\n",
            "1                                                                                                                                                                                                   came in perfect works perfectly                                                                                                                                                                                                   came in perfect works perfectly\n",
            "2                                                                     good quality came with out the extra boom mic cushion and the cord holder that the manufacturer promotes on the included parts off the product product manual                                                                     good quality came with out the extra boom mic cushion and the cord holder that the manufacturer promotes on the included parts off the product product manual\n",
            "3  i do not like reading my kindle in a case so this sleeve is great good protection for my kindle the front pocket is small i use it to keep a list of series books you could keep your charger in it but the pocket will stick up  i do not like reading my kindle in a case so this sleeve is great good protection for my kindle the front pocket is small i use it to keep a list of series books you could keep your charger in it but the pocket will stick up\n",
            "4                                                                                   the case came 3 days after i ordered it it fits my ipod really well and the colors are really cute only issue was the missing screen protectors                                                                                   the case came 3 days after i ordered it it fits my ipod really well and the colors are really cute only issue was the missing screen protectors\n",
            "\n",
            "Updated data saved to: /content/drive/MyDrive/ame_updated_dataset.csv\n"
          ]
        }
      ],
      "source": [
        "import re\n",
        "import os\n",
        "import gc\n",
        "import pandas as pd\n",
        "\n",
        "pd.set_option('display.max_colwidth', None)\n",
        "pd.set_option('display.width', 1200)\n",
        "\n",
        "script_dir = \"/content/drive/MyDrive\"\n",
        "updated_file = os.path.join(script_dir, \"ame_updated_dataset.csv\")\n",
        "replaced_special_chars_file = os.path.join(script_dir, \"ame_replace_special_chars.csv\")\n",
        "\n",
        "# function to replace special characters with words\n",
        "# remain ? ! hyphen/dash \"-\"   , & -> and,  / -> or\n",
        "def replace_special_chars(review):\n",
        "    if isinstance(review, str):\n",
        "        review = re.sub(r'\\s*&\\s*', ' and ', review)          # replace & with 'and'\n",
        "        review = re.sub(r'\\s*/\\s*', ' or ', review)           # replace / with 'or'\n",
        "        review = re.sub(r'(\\d+)-(\\d+)', r'\\1 to \\2', review)  # replace 5-10 with '5 to 10'\n",
        "        review = re.sub(r'~', '', review)                     # remove tilde ~\n",
        "        review = re.sub(r'`', '', review)                     # remove backtick ·\n",
        "        review = re.sub(r'%', ' percent ', review)            # replace % with 'percent'\n",
        "        review = re.sub(r'\\s+', ' ', review).strip()          # remove extra spaces\n",
        "        return review\n",
        "    return review     # return ori text if it's not a string\n",
        "\n",
        "try:\n",
        "    # load dataset\n",
        "    df_sample = pd.read_csv(updated_file, encoding=\"utf-8\")\n",
        "\n",
        "    # ensure 'review_body' is a string\n",
        "    df_sample[\"review_body\"] = df_sample[\"review_body\"].astype(str).fillna('')\n",
        "\n",
        "    # apply special character replacement\n",
        "    df_sample[\"replace_special_chars_review\"] = df_sample[\"review_body\"].apply(replace_special_chars)\n",
        "\n",
        "    # find affected rows\n",
        "    affected_rows = df_sample[df_sample[\"review_body\"] != df_sample[\"replace_special_chars_review\"]]\n",
        "\n",
        "    # save only affected rows to replaced_special_chars_file\n",
        "    affected_rows[[\"review_body\", \"replace_special_chars_review\"]].to_csv(replaced_special_chars_file, index=True)\n",
        "    print(f\"Replaced special characters saved to: {replaced_special_chars_file}\")\n",
        "    print(df_sample[['review_body', 'replace_special_chars_review']].head())\n",
        "\n",
        "    # update 'review_body' with cleaned text\n",
        "    df_sample[\"review_body\"] = df_sample[\"replace_special_chars_review\"]\n",
        "\n",
        "    # drop the temporary column before saving updated dataset\n",
        "    df_sample.drop(columns=[\"replace_special_chars_review\"], inplace=True)\n",
        "\n",
        "    # save updated dataset\n",
        "    df_sample.to_csv(updated_file, index=False)\n",
        "    print(f\"\\nUpdated data saved to: {updated_file}\")\n",
        "\n",
        "except FileNotFoundError as e:\n",
        "  print(f\"File not found: {e}\")\n",
        "except Exception as e:\n",
        "  print(f\"Error occurred: {e}\")\n",
        "\n",
        "del df_sample\n",
        "_ = gc.collect()"
      ]
    },
    {
      "cell_type": "markdown",
      "metadata": {
        "id": "n0Y2jVmDJlI5"
      },
      "source": [
        "### **Replace slang/informal word**"
      ]
    },
    {
      "cell_type": "code",
      "execution_count": null,
      "metadata": {
        "colab": {
          "base_uri": "https://localhost:8080/"
        },
        "id": "MrCXTnmC8VC3",
        "outputId": "afc661d6-ce63-400a-fd11-91e6ec8a346c"
      },
      "outputs": [
        {
          "output_type": "stream",
          "name": "stdout",
          "text": [
            "Replaced slang words saved to: /content/drive/MyDrive/ame_replace_slang.csv\n",
            "                                                                                                                                                                                                                                                                                                                                                                                                                                                                                                                             review_body                                                                                                                                                                                                                                                                                                                                                                                                                                                                                                                 replaced_slang_review\n",
            "Unnamed: 0.1                                                                                                                                                                                                                                                                                                                                                                                                                                                                                                                                                                                                                                                                                                                                                                                                                                                                                                                                                                                                                                                                  \n",
            "52                                                                                                                                                                                                                                                                                                                                                                                                             a lot smaller then i thought gets a lot of static sound is egh diff should have looked around for the $80 i spent on this                                                                                                                                                                                                                                                                                                                                                                                                              a lot smaller then i thought gets a lot of static sound is eh diff should have looked around for the $80 i spent on this\n",
            "102                                                                                                                                                                                                                                                                                                                                                                                                                                                      loose holes for buttons etc are not even in the correct places cheaply made meh                                                                                                                                                                                                                                                                                                                                                                                                                                              loose holes for buttons etc are not even in the correct places cheaply made disappointed\n",
            "151                                                                                                                                                                                                                                                                          i purchased the wrong line dock the first time so i had to purchase this to correct the issue it fixed my problem until my husband messed up the original cable but what can ya do? accidents happen but overall item arrived quickly and was as advertised                                                                                                                                                                                                                                                                          i purchased the wrong line dock the first time so i had to purchase this to correct the issue it fixed my problem until my husband messed up the original cable but what can you do? accidents happen but overall item arrived quickly and was as advertised\n",
            "181                 the box these subs came in looked ghetto i was skeptical until i opened it up and saw how beefy this sub was it has super thick rubber surrounds a big heavy basket with a sweet re stamped onto it the dual voice coals produce great sound i have a pyle plan 2300 amplifier pushing full power rms about 175 to two of these and they straight dump in my truck they pound like a car crash i am going to be investing in re audio components for my next system if not redoing my current system these subs kick                   the box these subs came in looked basic i was skeptical until i opened it up and saw how beefy this sub was it has super thick rubber surrounds a big heavy basket with a sweet re stamped onto it the dual voice coals produce great sound i have a pyle plan 2300 amplifier pushing full power rms about 175 to two of these and they straight dump in my truck they pound like a car crash i am going to be investing in re audio components for my next system if not redoing my current system these subs kick\n",
            "242           admittedly i am a label whore and that was the only reason i purchased this product i have known of viper for a very long time back when their alarms would talk to anyone who ventured too close but i am very disappointed in this product this model is the potential to do amazing things from the remote or android app but it is just that potential everything that is advertised in the description requires additional equipment or membership if you want to roll the windows down or up turn on defroster etc r  admittedly i am a brand-conscious buyer and that was the only reason i purchased this product i have known of viper for a very long time back when their alarms would talk to anyone who ventured too close but i am very disappointed in this product this model is the potential to do amazing things from the remote or android app but it is just that potential everything that is advertised in the description requires additional equipment or membership if you want to roll the windows down or up turn on defroster etc r\n",
            "\n",
            "Updated data saved to: /content/drive/MyDrive/ame_updated_dataset.csv\n"
          ]
        }
      ],
      "source": [
        "import re\n",
        "import os\n",
        "import gc\n",
        "import pandas as pd\n",
        "\n",
        "pd.set_option('display.max_colwidth', None)\n",
        "pd.set_option('display.width', 1200)\n",
        "\n",
        "script_dir = \"/content/drive/MyDrive\"\n",
        "updated_file = os.path.join(script_dir, \"ame_updated_dataset.csv\")\n",
        "replace_slang_file = os.path.join(script_dir, \"ame_replace_slang.csv\")\n",
        "\n",
        "# load dataset\n",
        "df = pd.read_csv(updated_file, encoding=\"utf-8\", index_col=0)\n",
        "\n",
        "# dictionary of slang replacements\n",
        "slang_dict = {\n",
        "    \"meh\": \"disappointed\", \"ya\": \"you\", \"ghetto\": \"basic\", \"duct-taped-together\": \"dunky\", \"label whore\": \"brand-conscious buyer\",\n",
        "    \"amped\": \"amplified\", \"egh\": \"eh\", \"carpola\": \"nonsense\", \"tad\": \"little\", \"lol\": \"laughing out loud\", \"btw \": \"by the way\",\n",
        "    \"asap\": \"as soon as possible\", \"omg\": \"oh my god\", \"fyi\": \"for your information\",\"b4\": \"before\"\n",
        "}\n",
        "\n",
        "def replace_slang(review):\n",
        "    if isinstance(review, str):\n",
        "        modified = False\n",
        "        original_review = review  # keep original review for comparison\n",
        "        for slang, replacement in slang_dict.items():\n",
        "            if re.search(rf'\\b{re.escape(slang)}\\b', review, flags=re.IGNORECASE):\n",
        "                modified = True  # mark as modified\n",
        "                review = re.sub(rf'\\b{re.escape(slang)}\\b', replacement, review, flags=re.IGNORECASE)\n",
        "        return review if modified else None  # return None if no slang replaced\n",
        "    return None\n",
        "\n",
        "# apply function to replace slang\n",
        "df['replaced_slang_review'] = df['review_body'].apply(replace_slang)\n",
        "\n",
        "# keep only rows where slang was replaced\n",
        "df_slang_replaced = df.dropna(subset=['replaced_slang_review'])[['review_body', 'replaced_slang_review']]\n",
        "\n",
        "# save only affected rows (with slang replaced)\n",
        "df_slang_replaced.to_csv(replace_slang_file, index=True)\n",
        "print(f\"Replaced slang words saved to: {replace_slang_file}\")\n",
        "print(df_slang_replaced.head())  # print affected rows\n",
        "\n",
        "# update 'review_body' with replaced slang reviews\n",
        "df.loc[df[\"replaced_slang_review\"].notna(), \"review_body\"] = df[\"replaced_slang_review\"]\n",
        "\n",
        "# drop temporary column before saving updated dataset\n",
        "df.drop(columns=[\"replaced_slang_review\"], inplace=True)\n",
        "\n",
        "# save updated dataset (with replaced slang)\n",
        "df.to_csv(updated_file, index=False)\n",
        "print(f\"\\nUpdated data saved to: {updated_file}\")\n",
        "\n",
        "del df\n",
        "_ = gc.collect()"
      ]
    },
    {
      "cell_type": "markdown",
      "metadata": {
        "id": "2vkwHMvtI858"
      },
      "source": [
        "### **Convert currency sign into word format**"
      ]
    },
    {
      "cell_type": "code",
      "execution_count": null,
      "metadata": {
        "colab": {
          "base_uri": "https://localhost:8080/"
        },
        "id": "K9xF6Co28j3G",
        "outputId": "0d49ab44-88d9-45cb-de46-5e78b1959c7b"
      },
      "outputs": [
        {
          "output_type": "stream",
          "name": "stdout",
          "text": [
            "Converted dollar signs saved to: /content/drive/MyDrive/ame_replace_currency_sign.csv\n",
            "                                                                                                                                                                                                                                                                                                                                                                                                                                                                                                                 review_body\n",
            "Unnamed: 0                                                                                                                                                                                                                                                                                                                                                                                                                                                                                                                  \n",
            "413                                                                                                                                                                                                                                                                                                                     really cool design it came on time and it was 10 dollar free shipping! once you peel it off once or twice after you put it back on the stickiness rubs off and leaves bubbles anyways great product!\n",
            "414                                                                                                                                                                                                                                                                                                                                                                                                                                                                                                  it is a wonderful thing\n",
            "415         i bought the medge leather case with hinges but read that many customers have noticed cracked cases as a result i bought the sleeve as a second option despite the fact that i have a feeling cracked cases come from folding the covers back i tend to read my kindle without the case though because it is more comfortable i love the sleeve case and its style it fits in my purse school bag etc it is snug enough to keep it safe too this case is just as secure as the one with hinges i bought the hing\n",
            "\n",
            "Updated data saved to: /content/drive/MyDrive/ame_updated_dataset.csv\n"
          ]
        }
      ],
      "source": [
        "import re\n",
        "import os\n",
        "import gc\n",
        "import pandas as pd\n",
        "\n",
        "pd.set_option('display.max_colwidth', None)\n",
        "pd.set_option('display.width', 1200)\n",
        "\n",
        "script_dir = \"/content/drive/MyDrive\"\n",
        "updated_file = os.path.join(script_dir, \"ame_updated_dataset.csv\")\n",
        "replace_currency_sign_file = os.path.join(script_dir, \"ame_replace_currency_sign.csv\")\n",
        "\n",
        "# load dataset\n",
        "df = pd.read_csv(updated_file, encoding=\"utf-8-sig\", index_col=0)\n",
        "\n",
        "def replace_currency_sign(review):\n",
        "    if isinstance(review, str):\n",
        "      # swap positions if currency symbol is followed by a number\n",
        "      review = re.sub(r'\\$(\\d+(?:\\.\\d{2})?)', r'\\1 dollar', review)  # convert \"$80\" → \"80 dollar\" and \"$80.00\" → \"80 dollar\"\n",
        "      review = re.sub(r'£(\\d+)(?:\\.00)?', r'\\1 pound', review)       # convert \"£50\" → \"50 pound\" and \"£50.00\" → \"50 pound\"\n",
        "\n",
        "    return review\n",
        "\n",
        "# apply function\n",
        "df['currency_converted_review'] = df['review_body'].apply(replace_currency_sign)\n",
        "\n",
        "# save to replace_dollar_file first\n",
        "df.to_csv(replace_currency_sign_file, index=True)\n",
        "print(f\"Converted dollar signs saved to: {replace_currency_sign_file}\")\n",
        "\n",
        "# update `review_body` with modified version\n",
        "df[\"review_body\"] = df[\"currency_converted_review\"]\n",
        "\n",
        "# drop extra column bfr saving main dataset\n",
        "df.drop(columns=[\"currency_converted_review\"], inplace=True)\n",
        "\n",
        "# save updated dataset\n",
        "df.to_csv(updated_file, index=True)\n",
        "print(df[['review_body']].iloc[413:416])\n",
        "print(f\"\\nUpdated data saved to: {updated_file}\")\n",
        "\n",
        "del df\n",
        "_ = gc.collect()"
      ]
    },
    {
      "cell_type": "markdown",
      "metadata": {
        "id": "eKelf_RAHR5Y"
      },
      "source": [
        "### **Convert  measurement unit into word format**"
      ]
    },
    {
      "cell_type": "code",
      "execution_count": null,
      "metadata": {
        "colab": {
          "base_uri": "https://localhost:8080/"
        },
        "id": "y0u5a0KcHVr0",
        "outputId": "0ec085b3-15c1-4c24-caa3-4109fd7aceee"
      },
      "outputs": [
        {
          "output_type": "stream",
          "name": "stdout",
          "text": [
            "Converted measurement units saved to: /content/drive/MyDrive/ame_convert_munit.csv\n",
            "                                                                                                                                                                                                                                                                                                                                                                                                                                                                                                                 review_body\n",
            "Unnamed: 0                                                                                                                                                                                                                                                                                                                                                                                                                                                                                                                  \n",
            "117         i really want a hard case so i can pack my prs350 for extreme abuse this case does not fit the sony prs350 ereader the 350 is about half inch too small to fit snugly in the case as is the case will not protect your 350 it may even damage it the case is designed for an ereader about half inch larger than the 350 the pictures show are not the case received please check the customer pictures for an actual picture of the case sent the box says prs350 the picture on the box show a 350 but the pro\n",
            "118                     my seller was happymart from hong kong and the product turned out great i still have not tried out the cable but i did like the adapter it word great with my own cable so i would not give this a bad review but yeah since the shipping was free it took about 2 to 3 weeks you know what! do not buy from happymart! because of them i lost faith in the chinese companies and the cable stopped working but adapter still worked though but it was my fault not theirs because it broke when i w\n",
            "119                                                                                                                                                                                                                                                                                                                                                                                       the pill by itself sounds great but is a little awkward to place in various locations it can roll the dude is functional and cute!\n",
            "\n",
            "Updated dataset saved to: /content/drive/MyDrive/ame_updated_dataset.csv\n"
          ]
        }
      ],
      "source": [
        "import re\n",
        "import os\n",
        "import gc\n",
        "import pandas as pd\n",
        "\n",
        "pd.set_option('display.max_colwidth', None)\n",
        "pd.set_option('display.width', 1200)\n",
        "\n",
        "script_dir = \"/content/drive/MyDrive\"\n",
        "updated_file = os.path.join(script_dir, \"ame_updated_dataset.csv\")\n",
        "convert_munit_file = os.path.join(script_dir, \"ame_convert_munit.csv\")\n",
        "\n",
        "df_sample = pd.read_csv(updated_file, encoding=\"utf-8\", index_col=0)\n",
        "\n",
        "def convert_unit(review):\n",
        "    if isinstance(review, str):\n",
        "      # convert only 1/2\" to \"half inch\"\n",
        "      review = re.sub(r'\\b1 or 2\\b', 'half inch', review)\n",
        "\n",
        "      # ft -> feet\n",
        "      review = re.sub(r'\\bft\\b', 'feet', review)\n",
        "\n",
        "      # remove double quotes from non-measurement words\n",
        "      review = re.sub(r'(?<!\\d)\"(?!\\d)', '', review)         # remove \" if not part of a number\n",
        "\n",
        "      # make sure multiple spaces replaced with a single space\n",
        "      review = re.sub(r'\\s+', ' ', review).strip()\n",
        "\n",
        "    return review\n",
        "\n",
        "# apply function & store results in a new column\n",
        "df_sample['converted_munit'] = df_sample['review_body'].apply(convert_unit)\n",
        "\n",
        "# save to new file first\n",
        "df_sample.to_csv(convert_munit_file, index=True, encoding=\"utf-8-sig\")\n",
        "print(f\"Converted measurement units saved to: {convert_munit_file}\")\n",
        "\n",
        "# update main dataset with latest changes\n",
        "df_sample[\"review_body\"] = df_sample[\"converted_munit\"]\n",
        "df_sample.drop(columns=[\"converted_munit\"], inplace=True)  # remove extra column\n",
        "\n",
        "df_sample.to_csv(updated_file, index=True, encoding=\"utf-8-sig\")\n",
        "print(df_sample[['review_body']].iloc[117:120])\n",
        "print(f\"\\nUpdated dataset saved to: {updated_file}\")\n",
        "\n",
        "del df_sample\n",
        "_ = gc.collect()"
      ]
    },
    {
      "cell_type": "markdown",
      "metadata": {
        "id": "syu_FvfqImbP"
      },
      "source": [
        "### **Detect very short reviews**"
      ]
    },
    {
      "cell_type": "code",
      "execution_count": null,
      "metadata": {
        "colab": {
          "base_uri": "https://localhost:8080/"
        },
        "id": "8PlCCHQvI6yQ",
        "outputId": "04662679-f740-442c-be52-9700870fe8ab"
      },
      "outputs": [
        {
          "name": "stdout",
          "output_type": "stream",
          "text": [
            "\n",
            "Detected short unclear reviews at indices: [38, 77, 87, 103, 162, 237, 278, 288, 309, 310, 339, 412, 419, 484, 525, 572, 609, 652, 673, 690, 699, 707, 788, 868, 874, 911, 1069, 1198, 1240, 1268, 1311, 1318, 1383, 1395, 1405, 1447, 1516, 1584, 1588, 1720, 1741, 1748, 1751, 1763, 1919, 1926, 1936, 1975, 2000, 2027, 2060, 2062, 2073, 2114, 2121, 2159, 2218, 2223, 2231, 2237, 2276, 2278, 2295, 2296, 2305, 2437, 2473, 2527, 2561, 2649, 2715, 2752, 2837, 2860, 2861, 2910, 2982, 2999, 3068, 3080, 3108, 3158, 3168, 3169, 3198, 3259, 3269, 3388, 3454, 3471, 3511, 3518, 3568, 3594, 3604, 3616, 3702, 3785, 3803, 3813, 3840, 3857, 3859, 3872, 3931, 3952, 3957, 3959, 3984, 4036, 4091, 4120, 4142, 4235, 4245, 4274, 4288, 4296, 4300, 4318, 4400, 4434, 4441, 4525, 4538, 4579, 4771, 4802, 4843, 4965, 4995]\n",
            "\n",
            "Flagged Reviews:\n",
            "     index     original_review\n",
            "0       38           nice unit\n",
            "1       77    awesome seller a\n",
            "2       87      never did work\n",
            "3      103  poor sound quality\n",
            "4      162             works!!\n",
            "..     ...                 ...\n",
            "126   4771        good quality\n",
            "127   4802             exelent\n",
            "128   4843       excellent cam\n",
            "129   4965        does the job\n",
            "130   4995          excelentes\n",
            "\n",
            "[131 rows x 2 columns]\n",
            "\n",
            "Flagged short reviews saved to: /content/drive/MyDrive/ame_short_review.csv\n",
            "\n",
            "Updated dataset saved to: /content/drive/MyDrive/ame_updated_dataset.csv\n"
          ]
        }
      ],
      "source": [
        "import os\n",
        "import gc\n",
        "import pandas as pd\n",
        "\n",
        "pd.set_option('display.max_colwidth', None)\n",
        "pd.set_option('display.width', 2200)\n",
        "\n",
        "script_dir = '/content/drive/MyDrive'\n",
        "updated_file = os.path.join(script_dir, 'ame_updated_dataset.csv')\n",
        "short_review_file = os.path.join(script_dir, 'ame_short_review.csv')\n",
        "\n",
        "# define set of meaningful short reviews\n",
        "meaningful_short_reviews = {\n",
        "    \"poor quality\",\n",
        "    \"wonderful\",\n",
        "    \"good deal\",\n",
        "    \"cracked too easy\"\n",
        "}\n",
        "\n",
        "# load dataset\n",
        "df = pd.read_csv(updated_file, encoding=\"utf-8-sig\")\n",
        "\n",
        "# list to store flagged review indices and original flagged reviews\n",
        "flagged_reviews = []\n",
        "\n",
        "def filter_short_reviews(review, index):\n",
        "    \"\"\"Keeps only predefined meaningful short reviews, flags others.\"\"\"\n",
        "    if isinstance(review, str):\n",
        "        review_cleaned = review.strip()  # no need for .lower() since all reviews are alrdy in lowercase\n",
        "        if review_cleaned in meaningful_short_reviews:\n",
        "            return review  # keep meaningful short reviews\n",
        "        elif len(review_cleaned.split()) <= 3:   # flag short but unclear reviews\n",
        "            flagged_reviews.append((index, review))  # store index & original text\n",
        "            return \"[FLAGGED: Short & Unclear]\"\n",
        "    return review  # keep other longer reviews unchanged\n",
        "\n",
        "# apply filtering while tracking flagged indices\n",
        "df['review_body'] = [filter_short_reviews(review, idx) for idx, review in enumerate(df['review_body'])]\n",
        "\n",
        "# convert flagged reviews list to DataFrame\n",
        "if flagged_reviews:\n",
        "    flagged_df = pd.DataFrame(flagged_reviews, columns=[\"index\", \"original_review\"])\n",
        "    print(f\"\\nDetected short unclear reviews at indices: {list(flagged_df['index'])}\")\n",
        "    print(\"\\nFlagged Reviews:\")\n",
        "    print(flagged_df)\n",
        "\n",
        "    flagged_df.set_index(\"index\", inplace=True)\n",
        "    # save flagged reviews separately\n",
        "    flagged_df.to_csv(short_review_file, index=True)\n",
        "    print(f\"\\nFlagged short reviews saved to: {short_review_file}\")\n",
        "else:\n",
        "    print(\"\\nNo flagged short reviews found.\")\n",
        "\n",
        "# save updated dataset to updated_file\n",
        "df.to_csv(updated_file, index=False)\n",
        "print(f\"\\nUpdated dataset saved to: {updated_file}\")\n",
        "# for data up till last step of preprocessing, without token-, lemma-, stopword removal\n",
        "df.to_csv(\"/content/drive/MyDrive/no_stopword_removed_data_v2.csv\", index=False)\n",
        "\n",
        "del df\n",
        "_ = gc.collect()"
      ]
    },
    {
      "cell_type": "markdown",
      "metadata": {
        "id": "nWXr-S9fOadj"
      },
      "source": [
        "### **Tokenization**"
      ]
    },
    {
      "cell_type": "code",
      "execution_count": null,
      "metadata": {
        "colab": {
          "base_uri": "https://localhost:8080/"
        },
        "id": "Xf2WifaXr7uH",
        "outputId": "695cf12b-c613-4848-8ed5-106928212e8b"
      },
      "outputs": [
        {
          "output_type": "stream",
          "name": "stdout",
          "text": [
            "                                                                                                                                                                                                                        review_body                                                                                                                                                                                                                                                                   tokenized_review\n",
            "0                                                                                                                                      item was as discribed was shipped fast and function very well would do business with again a                                                                                                                                                                     [item, was, as, discribed, was, shipped, fast, and, function, very, well, would, do, business, with, again, a]\n",
            "1                                                                                                                                                                                                   came in perfect works perfectly                                                                                                                                                                                                                                              [came, in, perfect, works, perfectly]\n",
            "2                                                                     good quality came with out the extra boom mic cushion and the cord holder that the manufacturer promotes on the included parts off the product product manual                                                                                          [good, quality, came, with, out, the, extra, boom, mic, cushion, and, the, cord, holder, that, the, manufacturer, promotes, on, the, included, parts, off, the, product, product, manual]\n",
            "3  i do not like reading my kindle in a case so this sleeve is great good protection for my kindle the front pocket is small i use it to keep a list of series books you could keep your charger in it but the pocket will stick up  [i, do, not, like, reading, my, kindle, in, a, case, so, this, sleeve, is, great, good, protection, for, my, kindle, the, front, pocket, is, small, i, use, it, to, keep, a, list, of, series, books, you, could, keep, your, charger, in, it, but, the, pocket, will, stick, up]\n",
            "4                                                                                   the case came 3 days after i ordered it it fits my ipod really well and the colors are really cute only issue was the missing screen protectors                                                                                                       [the, case, came, 3, days, after, i, ordered, it, it, fits, my, ipod, really, well, and, the, colors, are, really, cute, only, issue, was, the, missing, screen, protectors]\n"
          ]
        }
      ],
      "source": [
        "import nltk\n",
        "import os\n",
        "import pandas as pd\n",
        "from nltk.tokenize import word_tokenize\n",
        "\n",
        "# set nltk data path to gdrive\n",
        "nltk_data_path = '/content/drive/MyDrive/nltk_data'\n",
        "os.makedirs(nltk_data_path, exist_ok=True)\n",
        "\n",
        "# add nlkt path if nt added yet\n",
        "if nltk_data_path not in nltk.data.path:\n",
        "  nltk.data.path.append(nltk_data_path)\n",
        "\n",
        "# download nltk resources if nt yet download)\n",
        "if not os.path.exists(os.path.join(nltk_data_path, 'tokenizers/punkt')):\n",
        "  nltk.download('punkt', download_dir=nltk_data_path)\n",
        "\n",
        "if not os.path.exists(os.path.join(nltk_data_path, 'tokenizers/punkt_tab')):\n",
        "  nltk.download('punkt_tab', download_dir=nltk_data_path)\n",
        "\n",
        "# load dataset\n",
        "updated_file = '/content/drive/MyDrive/ame_updated_dataset.csv'\n",
        "df = pd.read_csv(updated_file)[['review_body', 'star_rating', 'star_rating_label']]\n",
        "\n",
        "# tokenization func\n",
        "def tokenize(text):\n",
        "  return word_tokenize(text)\n",
        "\n",
        "# apply tokenization\n",
        "df['tokenized_review'] = df['review_body'].apply(tokenize)\n",
        "\n",
        "# save updated df with tokenized reviews\n",
        "df.to_csv(updated_file, index=False)\n",
        "\n",
        "print(df[['review_body', 'tokenized_review']].head())"
      ]
    },
    {
      "cell_type": "markdown",
      "metadata": {
        "id": "zOBDNZJF2KY7"
      },
      "source": [
        "### **Lemmatization**"
      ]
    },
    {
      "cell_type": "code",
      "execution_count": null,
      "metadata": {
        "colab": {
          "base_uri": "https://localhost:8080/"
        },
        "id": "Rb99Z2U783A5",
        "outputId": "87f0d6b2-12b7-463c-801f-6db10665d117"
      },
      "outputs": [
        {
          "output_type": "stream",
          "name": "stdout",
          "text": [
            "                                                                                                                                                                                                                        review_body                                                                                                                                                                                                                                                                              token                                                                                                                                                                                                                                                                              pos                                                                                                                                                                                                                                                                     lemmatized  noun  verb  adj  adv\n",
            "0                                                                                                                                      item was as discribed was shipped fast and function very well would do business with again a                                                                                                                                                                     [item, was, as, discribed, was, shipped, fast, and, function, very, well, would, do, business, with, again, a]                                                                                                                                                                                   [NOUN, AUX, ADV, VERB, AUX, VERB, ADV, CCONJ, VERB, ADV, ADV, AUX, VERB, NOUN, ADP, ADV, PRON]                                                                                                                                                                       [item, be, as, discribe, be, ship, fast, and, function, very, well, would, do, business, with, again, a]     2     4    0    5\n",
            "1                                                                                                                                                                                                   came in perfect works perfectly                                                                                                                                                                                                                                              [came, in, perfect, works, perfectly]                                                                                                                                                                                                                                                      [VERB, ADP, ADJ, NOUN, ADV]                                                                                                                                                                                                                                           [come, in, perfect, work, perfectly]     1     1    1    1\n",
            "2                                                                     good quality came with out the extra boom mic cushion and the cord holder that the manufacturer promotes on the included parts off the product product manual                                                                                          [good, quality, came, with, out, the, extra, boom, mic, cushion, and, the, cord, holder, that, the, manufacturer, promotes, on, the, included, parts, off, the, product, product, manual]                                                                                                                         [ADJ, NOUN, VERB, ADP, ADP, DET, ADJ, NOUN, ADJ, NOUN, CCONJ, DET, NOUN, NOUN, SCONJ, DET, NOUN, VERB, ADP, DET, VERB, NOUN, ADP, DET, NOUN, NOUN, NOUN]                                                                                         [good, quality, come, with, out, the, extra, boom, mic, cushion, and, the, cord, holder, that, the, manufacturer, promote, on, the, include, part, off, the, product, product, manual]    10     3    3    0\n",
            "3  i do not like reading my kindle in a case so this sleeve is great good protection for my kindle the front pocket is small i use it to keep a list of series books you could keep your charger in it but the pocket will stick up  [i, do, not, like, reading, my, kindle, in, a, case, so, this, sleeve, is, great, good, protection, for, my, kindle, the, front, pocket, is, small, i, use, it, to, keep, a, list, of, series, books, you, could, keep, your, charger, in, it, but, the, pocket, will, stick, up]  [PRON, AUX, PART, VERB, VERB, PRON, NOUN, ADP, DET, NOUN, SCONJ, DET, NOUN, AUX, ADJ, ADJ, NOUN, ADP, PRON, NOUN, DET, ADJ, NOUN, AUX, ADJ, PRON, VERB, PRON, PART, VERB, DET, NOUN, ADP, NOUN, NOUN, PRON, AUX, VERB, PRON, NOUN, ADP, PRON, CCONJ, DET, NOUN, AUX, VERB, ADP]  [i, do, not, like, read, my, kindle, in, a, case, so, this, sleeve, be, great, good, protection, for, my, kindle, the, front, pocket, be, small, i, use, it, to, keep, a, list, of, series, book, you, could, keep, your, charger, in, it, but, the, pocket, will, stick, up]    11     6    4    0\n",
            "4                                                                                   the case came 3 days after i ordered it it fits my ipod really well and the colors are really cute only issue was the missing screen protectors                                                                                                       [the, case, came, 3, days, after, i, ordered, it, it, fits, my, ipod, really, well, and, the, colors, are, really, cute, only, issue, was, the, missing, screen, protectors]                                                                                                                  [DET, NOUN, VERB, NUM, NOUN, SCONJ, PRON, VERB, PRON, PRON, VERB, PRON, ADJ, ADV, INTJ, CCONJ, DET, NOUN, AUX, ADV, ADJ, ADJ, NOUN, AUX, DET, VERB, NOUN, NOUN]                                                                                                              [the, case, come, 3, day, after, i, order, it, it, fit, my, ipod, really, well, and, the, color, be, really, cute, only, issue, be, the, miss, screen, protector]     6     4    3    2\n"
          ]
        }
      ],
      "source": [
        "# spacy faster than nltk for large dataset\n",
        "\n",
        "import spacy\n",
        "import pandas as pd\n",
        "\n",
        "# load spacy english model\n",
        "nlp = spacy.load(\"en_core_web_sm\")\n",
        "\n",
        "updated_file = '/content/drive/MyDrive/ame_updated_dataset.csv'\n",
        "df = pd.read_csv(updated_file)[['review_body', 'star_rating', 'star_rating_label']]\n",
        "\n",
        "tokens = []\n",
        "pos_tags = []\n",
        "lemmas = []\n",
        "\n",
        "# process all using spacy's nlp pipe\n",
        "for doc in nlp.pipe(df['review_body'], batch_size=100):     # 5k data used in future, 64-128 is suggested. 100 balance speed & memory\n",
        "  tokens.append([token.text for token in doc])\n",
        "  pos_tags.append([token.pos_ for token in doc])\n",
        "  lemmas.append([token.lemma_.lower() for token in doc])   # .lower(): to lowercase letter\n",
        "\n",
        "# assign to df\n",
        "df['token'] = tokens\n",
        "df['pos'] = pos_tags\n",
        "df['lemmatized'] = lemmas\n",
        "\n",
        "# count pos tags\n",
        "df['noun'] = df['pos'].apply(lambda x: x.count('NOUN'))\n",
        "df['verb'] = df['pos'].apply(lambda x: x.count('VERB'))\n",
        "df['adj'] = df['pos'].apply(lambda x: x.count('ADJ'))\n",
        "df['adv'] = df['pos'].apply(lambda x: x.count('ADV'))\n",
        "\n",
        "df.to_csv(updated_file, index=False)\n",
        "\n",
        "print(df[['review_body', 'token', 'pos', 'lemmatized', 'noun', 'verb', 'adj', 'adv']].head())"
      ]
    },
    {
      "cell_type": "markdown",
      "metadata": {
        "id": "iHX2O2STPLL6"
      },
      "source": [
        "### **Lemmatization**"
      ]
    },
    {
      "cell_type": "code",
      "execution_count": null,
      "metadata": {
        "id": "KSbVHW5vroZ4"
      },
      "outputs": [],
      "source": [
        "import nltk\n",
        "nltk.download('wordnet')\n",
        "nltk.download('averaged_perceptron_tagger')\n",
        "from nltk.corpus import wordnet\n",
        "from nltk.stem import WordNetLemmatizer\n",
        "from nltk import pos_tag\n",
        "import pandas as pd\n",
        "\n",
        "df = pd.read_csv(updated_file)\n",
        "\n",
        "df['tokenized_review'] = df['tokenized_review'].apply(lambda x: ast.literal_eval(x) if isinstance(x, str) else x)\n",
        "\n",
        "lemmatizer = WordNetLemmatizer()\n",
        "\n",
        "def wordnet_pos(tag):\n",
        "  tag = nltk.pos_tag([word])[0][1][0].upper()\n",
        "  tag_dict = {\n",
        "      \"J\": wordnet.ADJ,\n",
        "      \"N\": wordnet.NOUN,\n",
        "      \"V\": wordnet.VERB,\n",
        "      \"R\": wordnet.ADV,\n",
        "  }\n",
        "  return tag_dict.get(tag, wordnet.NOUN)\n",
        "\n",
        "def lemmatize_token(token):\n",
        "  tagged = pos_tag(token)\n",
        "  return [lemmatizer.lemmatize(word, wordnet_pos(pos)) for word, pos in tagged]\n",
        "\n",
        "df['lemmatized_review'] = df['tokenized_review'].apply(lemmatize_token)\n",
        "\n",
        "# save updated df with lemmatized reviews\n",
        "df.to_csv(updated_file, index=False)\n",
        "\n",
        "print(df[['tokenized_review', 'lemmatized_review']].head())"
      ]
    },
    {
      "cell_type": "markdown",
      "metadata": {
        "id": "jBiRkQLtSz_L"
      },
      "source": [
        "### **Stopwords removal**"
      ]
    },
    {
      "cell_type": "code",
      "execution_count": null,
      "metadata": {
        "colab": {
          "base_uri": "https://localhost:8080/"
        },
        "id": "mNAeVUcfSzeZ",
        "outputId": "3a3344b0-c8e1-487b-fc98-b06091221d21"
      },
      "outputs": [
        {
          "output_type": "stream",
          "name": "stderr",
          "text": [
            "100%|██████████| 4999/4999 [00:00<00:00, 99791.19it/s]\n"
          ]
        },
        {
          "output_type": "stream",
          "name": "stdout",
          "text": [
            "\n",
            "\n",
            "                                                                                                                                                                                                                        review_body                                                                                                                                                                                                                                                                     lemmatized                                                                                                           stopword_removed_review\n",
            "0                                                                                                                                      item was as discribed was shipped fast and function very well would do business with again a                                                                                                                                                                       [item, be, as, discribe, be, ship, fast, and, function, very, well, would, do, business, with, again, a]                                                                      item discribe ship fast function very well would do business\n",
            "1                                                                                                                                                                                                   came in perfect works perfectly                                                                                                                                                                                                                                           [come, in, perfect, work, perfectly]                                                                                                       come perfect work perfectly\n",
            "2                                                                     good quality came with out the extra boom mic cushion and the cord holder that the manufacturer promotes on the included parts off the product product manual                                                                                         [good, quality, come, with, out, the, extra, boom, mic, cushion, and, the, cord, holder, that, the, manufacturer, promote, on, the, include, part, off, the, product, product, manual]                          good quality come extra boom mic cushion cord holder manufacturer promote include product product manual\n",
            "3  i do not like reading my kindle in a case so this sleeve is great good protection for my kindle the front pocket is small i use it to keep a list of series books you could keep your charger in it but the pocket will stick up  [i, do, not, like, read, my, kindle, in, a, case, so, this, sleeve, be, great, good, protection, for, my, kindle, the, front, pocket, be, small, i, use, it, to, keep, a, list, of, series, book, you, could, keep, your, charger, in, it, but, the, pocket, will, stick, up]  do not like read kindle case so sleeve great good protection kindle pocket small use list series book could charger pocket stick\n",
            "4                                                                                   the case came 3 days after i ordered it it fits my ipod really well and the colors are really cute only issue was the missing screen protectors                                                                                                              [the, case, come, 3, day, after, i, order, it, it, fit, my, ipod, really, well, and, the, color, be, really, cute, only, issue, be, the, miss, screen, protector]                                     case come 3 day order fit ipod really well color really cute only issue miss screen protector\n"
          ]
        }
      ],
      "source": [
        "import pandas as pd\n",
        "import ast\n",
        "from spacy.lang.en.stop_words import STOP_WORDS\n",
        "from tqdm import tqdm   # to show progress bar\n",
        "\n",
        "updated_file = '/content/drive/MyDrive/ame_updated_dataset.csv'\n",
        "df = pd.read_csv(updated_file)[['review_body', 'star_rating_label', 'lemmatized']]\n",
        "\n",
        "# progress bar for spacy processing\n",
        "tqdm.pandas()\n",
        "\n",
        "# convert lemmatized column from string to list\n",
        "df['lemmatized'] = df['lemmatized'].apply(ast.literal_eval)\n",
        "\n",
        "# define stop words related to sentiment\n",
        "stopwords_keywords = {\n",
        "    'never', 'no', 'not',\n",
        "    'can', 'could',\n",
        "    'do', 'does', 'did',\n",
        "    'was', 'were', 'is', 'are', 'am',\n",
        "    'very', 'too', 'so', 'really',\n",
        "    'almost', 'well', 'hardly'\n",
        "    'quite', 'even', 'just', 'rather',\n",
        "    'more', 'less', 'most', 'least',\n",
        "    'always', 'seldom', 'rarely', 'barely',\n",
        "    'might', 'may', 'would', 'should',\n",
        "    'only', 'still', 'anymore', 'yet'\n",
        "}\n",
        "\n",
        "# create filtered stop word list\n",
        "custom_stopwords = STOP_WORDS - stopwords_keywords\n",
        "\n",
        "# func to clean review\n",
        "def clean_review(lemmas):\n",
        "  return ' '.join([lemma for lemma in lemmas if lemma not in custom_stopwords])\n",
        "\n",
        "# apply func to all rows\n",
        "df['stopword_removed_review'] = df['lemmatized'].progress_apply(clean_review)\n",
        "\n",
        "# save updated df with cleaned reviews\n",
        "df.to_csv(updated_file, index=False)\n",
        "# save separate version for data up till stopword removal\n",
        "df.to_csv(\"/content/drive/MyDrive/stopword_removed_data_v1.csv\", index=False)\n",
        "\n",
        "print(\"\\n\")\n",
        "\n",
        "# print first 5 rows\n",
        "print(df[['review_body', 'lemmatized', 'stopword_removed_review']].head())"
      ]
    },
    {
      "cell_type": "markdown",
      "metadata": {
        "id": "5vH4x9-2nG5v"
      },
      "source": [
        "### **Train-test split (Initial)**\n"
      ]
    },
    {
      "cell_type": "code",
      "execution_count": null,
      "metadata": {
        "colab": {
          "base_uri": "https://localhost:8080/"
        },
        "id": "xpvDUZB1nGe1",
        "outputId": "9dcaacfb-b434-41b9-d715-088eb094be6c"
      },
      "outputs": [
        {
          "name": "stdout",
          "output_type": "stream",
          "text": [
            "------Training Data Sample: X_train and y_train------\n",
            "                                                                                                                                                                                                                                                                                                                                                                                                                                                                                                   review_body star_rating_label\n",
            "2878                                                                                                                                                                                                                                                                                                                                                                                                                                                                                      good meter for price          positive\n",
            "2624  i posted this review to the another battery vendor on amazon they look like the same battery but this is the vendor i actually purchased from since i am a prime member after delicate battery transplant surgery my kindle lives ironically i had just ordered my wife a kindle touch to replace her kindle android app because the app will not do library lending i then picked up my kindle 3 i e kindle keyboard to show her lending but my kindle had died nothing but a picture of john steinbeck          positive\n",
            "1621                                                                                                                                                                                                                   i have not used it enough to get super familiar with it but i did find like another reviewer that it can be very static at times there are not a lot of instructions for how to find the station that you will run your device through but all in all i am satisfied with this purchase          negative\n",
            "4046                                                                                                                                                                                                                                                                                                                                                                                                                     i have had it now for a year and a half and it is still working i love it buy it too!          positive\n",
            "3866                                                                                                                                                                                                                                                                                                                                                                                                    bought this crazy looking cover for my kid kid loves it thinks it is great which makes me a great mom!          positive \n",
            "\n",
            "------Testing Data Sample: X_test and y_test------\n",
            "                                                                                                                                                                                                                                                                                                                                                                                                                                                                                                                         review_body star_rating_label\n",
            "3854                                                                                                                                                                                                                                                                        i am happy i made this purchase it works beautifully the tv reception is fantastic i would not hesitate to recommend this product to anyone my kids are having fun watching their movies while we travel to the country and the picture quality is great          positive\n",
            "4274                                                                                                                                                                                                                                                                                                                                                                                                                                                                                                      [FLAGGED: Short & Unclear]          positive\n",
            "4587  i had my doubts for this product i thought that the quality of the music would be sub par due to the incoming static interference seeing as how this is a radio adapter or charger but i was pleasantly surprise my music comes in very clear with no static at all! the adapter that plugs into the iphone itself is pretty durable a little light but durable the cord that plugs into the charger however is flimsy and a little short it does charge your phone or ipod but it cannot be jostled around too much otherwise          positive\n",
            "779                                                                                                                                                                                                                                      arrived as how it was described except the screen protector is way bigger than the mp3 itself so i had to cut it off to fit the screen the case is very useful and wellprotected but for those who wants a look rather than the performance sony walkman gives it is not highly recommended          positive\n",
            "4688                                                                                                                                                                                                                                                                                                                                                   this was really a great deal it works great and the price was amazing thanks for the cheap price i recommend this product for anyone trying to save money and get a good deal          positive \n",
            "\n",
            "Completed train-test split for Version 1 (up till stopword removal). Files saved.\n"
          ]
        }
      ],
      "source": [
        "# 70:30\n",
        "\n",
        "import numpy as np\n",
        "import pandas as pd\n",
        "from sklearn.model_selection import train_test_split\n",
        "\n",
        "df = pd.read_csv(\"/content/drive/MyDrive/stopword_removed_data_v1.csv\")\n",
        "\n",
        "# need to divide data into X & y, define features (X) and target/label (y)\n",
        "X=df['review_body']        # review text column\n",
        "y=df['star_rating_label']   # sentiment positive/negative column\n",
        "\n",
        "# use train test split function\n",
        "X_train, X_test, y_train, y_test = train_test_split(\n",
        "    X, y, test_size=0.3, random_state=42, stratify=y, shuffle=True    # test set 30% = 0.3, remaining 0.7 auto assigned to train set\n",
        ")\n",
        "\n",
        "# convert split data into DataFrames\n",
        "train_data = pd.DataFrame({\"review_body\": X_train, \"star_rating_label\": y_train})\n",
        "test_data = pd.DataFrame({\"review_body\": X_test, \"star_rating_label\": y_test})\n",
        "\n",
        "# print sample train and test data\n",
        "print(\"------Training Data Sample: X_train and y_train------\")\n",
        "print(train_data.head(), \"\\n\")\n",
        "\n",
        "print(\"------Testing Data Sample: X_test and y_test------\")\n",
        "print(test_data.head(), \"\\n\")\n",
        "\n",
        "# save training and testing sets for later use\n",
        "train_data.to_csv(\"/content/drive/MyDrive/train_data_v1_70.csv\", index=False)\n",
        "test_data.to_csv(\"/content/drive/MyDrive/test_data_v1_30.csv\", index=False)\n",
        "\n",
        "print(\"Completed train-test split for Version 1 (up till stopword removal). Files saved.\")"
      ]
    },
    {
      "cell_type": "markdown",
      "metadata": {
        "id": "DyliyjtqH2Hj"
      },
      "source": [
        "### **Model training (Initial)**"
      ]
    },
    {
      "cell_type": "code",
      "execution_count": null,
      "metadata": {
        "colab": {
          "base_uri": "https://localhost:8080/"
        },
        "id": "EyGNAnDuA24D",
        "outputId": "35b43a3e-8f44-418e-f24f-00b5fb17b11d"
      },
      "outputs": [
        {
          "name": "stdout",
          "output_type": "stream",
          "text": [
            "                                                                                                                                                                                                                                                                                                                                                                                                                                                                                                review_body star_rating_label\n",
            "0                                                                                                                                                                                                                                                                                                                                                                                                                                                                                      good meter for price          positive\n",
            "1  i posted this review to the another battery vendor on amazon they look like the same battery but this is the vendor i actually purchased from since i am a prime member after delicate battery transplant surgery my kindle lives ironically i had just ordered my wife a kindle touch to replace her kindle android app because the app will not do library lending i then picked up my kindle 3 i e kindle keyboard to show her lending but my kindle had died nothing but a picture of john steinbeck          positive\n",
            "2                                                                                                                                                                                                                   i have not used it enough to get super familiar with it but i did find like another reviewer that it can be very static at times there are not a lot of instructions for how to find the station that you will run your device through but all in all i am satisfied with this purchase          negative\n",
            "3                                                                                                                                                                                                                                                                                                                                                                                                                     i have had it now for a year and a half and it is still working i love it buy it too!          positive\n",
            "4                                                                                                                                                                                                                                                                                                                                                                                                    bought this crazy looking cover for my kid kid loves it thinks it is great which makes me a great mom!          positive\n"
          ]
        },
        {
          "name": "stderr",
          "output_type": "stream",
          "text": [
            "100%|██████████| 700/700 [07:26<00:00,  1.57it/s]"
          ]
        },
        {
          "name": "stdout",
          "output_type": "stream",
          "text": [
            "\n",
            "GPT sentiment classification saved with batching and caching!\n"
          ]
        },
        {
          "name": "stderr",
          "output_type": "stream",
          "text": [
            "\n"
          ]
        }
      ],
      "source": [
        "# use batching, send reviews in batch instead of 1 review per API call\n",
        "\n",
        "import openai\n",
        "import os\n",
        "import pandas as pd\n",
        "from tqdm import tqdm\n",
        "from google.colab import userdata\n",
        "\n",
        "# get api key securely\n",
        "api_key = userdata.get('SECRET_KEY')\n",
        "client = openai.OpenAI(api_key=api_key)\n",
        "\n",
        "# load training data\n",
        "train_data_path = \"/content/drive/MyDrive/train_data_v1_80.csv\"\n",
        "train_data = pd.read_csv(train_data_path)\n",
        "# check sample data\n",
        "print(train_data.head())\n",
        "\n",
        "# load cache if exist\n",
        "cache_path = \"/content/drive/MyDrive/gpt_cache_v1_train_80_20.csv\"\n",
        "if os.path.exists(cache_path):\n",
        "  cache_df = pd.read_csv(cache_path)\n",
        "  cache_dict = dict(zip(cache_df[\"review_body\"], cache_df[\"gpt_sentiment\"]))\n",
        "else:\n",
        "  cache_dict = {}\n",
        "\n",
        "# create prompt\n",
        "def create_batch_prompts(reviews, batch_size=5):\n",
        "  for i in range(0, len(reviews), batch_size):\n",
        "    batch = reviews[i:i+batch_size]\n",
        "    batch_dict = {idx: review for idx, review in batch.items() if review not in cache_dict}\n",
        "    if batch_dict:\n",
        "      yield batch_dict\n",
        "\n",
        "# create compressed prompt\n",
        "def create_prompt(batch_dict):\n",
        "  prompt = \"Classify sentiment (Positive or Negative):\\n\"\n",
        "  for i, (idx, review) in enumerate(batch_dict.items(), 1):\n",
        "    prompt += f\"{i}. {review}\\n\"\n",
        "  prompt += \"\\nRespond in the format: 1. Positive, 2. Negative, ...\"\n",
        "  return prompt\n",
        "\n",
        "# apply gpt\n",
        "def batch_sentiment(prompt, batch_size):\n",
        "  try:\n",
        "    response = client.chat.completions.create(\n",
        "        model = \"gpt-3.5-turbo\",\n",
        "        messages=[{\"role\": \"user\", \"content\": prompt}],\n",
        "        temperature = 0,\n",
        "        max_tokens = batch_size * 10\n",
        "    )\n",
        "    return response.choices[0].message.content.strip()\n",
        "  except Exception as e:\n",
        "    print(f\"Error: {e}\")\n",
        "    return None\n",
        "\n",
        "# start batching & call gpt\n",
        "tqdm.pandas()\n",
        "batch_size = 5\n",
        "review_series = train_data[\"review_body\"]\n",
        "\n",
        "for batch_dict in tqdm(create_batch_prompts(review_series, batch_size=batch_size), total=len(train_data)//batch_size + 1):\n",
        "  prompt = create_prompt(batch_dict)\n",
        "  output = batch_sentiment(prompt, batch_size)\n",
        "\n",
        "  if output:\n",
        "    # handle both comma-separated & newline-separated formats\n",
        "    if \", \" in output:\n",
        "        results = output.split(\", \")\n",
        "    else:\n",
        "        # fallback to newline splitting\n",
        "        results = [line.strip() for line in output.strip().split(\"\\n\") if line.strip()]\n",
        "\n",
        "    for i, (idx, _) in enumerate(batch_dict.items()):\n",
        "        if i < len(results):\n",
        "            parts = results[i].split(\". \")\n",
        "            sentiment = parts[1].strip() if len(parts) == 2 else results[i].strip()\n",
        "            cache_dict[train_data.loc[idx, \"review_body\"]] = sentiment\n",
        "\n",
        "# save cache\n",
        "cache_df = pd.DataFrame(list(cache_dict.items()), columns=[\"review_body\", \"gpt_sentiment\"])\n",
        "cache_df.to_csv(cache_path, index=False)\n",
        "\n",
        "# merge results into train_data\n",
        "train_data[\"gpt_sentiment\"] = train_data[\"review_body\"].map(cache_dict)\n",
        "\n",
        "# save results\n",
        "output_path = \"/content/drive/MyDrive/train_data_gptsentiment.csv\"\n",
        "train_data.to_csv(output_path, index=False)\n",
        "print(\"\\nGPT sentiment classification saved with batching and caching!\")"
      ]
    },
    {
      "cell_type": "markdown",
      "metadata": {
        "id": "Y6erlixNJn6c"
      },
      "source": [
        "### **Model evaluation (Initial)**\n",
        "For testing metrics differences between 1,000 & 5,000 samples with 70:30 split"
      ]
    },
    {
      "cell_type": "code",
      "execution_count": null,
      "metadata": {
        "id": "LSB28eT6Zm6T"
      },
      "outputs": [],
      "source": [
        "# 70:30\n",
        "# run 1st preprocessing remove irrelevant cell for 1000/5000 data, then run this cell for the same 70:30 split\n",
        "\n",
        "import openai\n",
        "import pandas as pd\n",
        "from tqdm import tqdm\n",
        "from sklearn.metrics import accuracy_score, precision_score, recall_score, f1_score\n",
        "from google.colab import userdata\n",
        "\n",
        "# load secret api key\n",
        "api_key = userdata.get('SECRET_KEY')\n",
        "client = openai.OpenAI(api_key=api_key)\n",
        "\n",
        "# load test data\n",
        "test_data_path = \"/content/drive/MyDrive/test_data_v1_30.csv\"\n",
        "test_data = pd.read_csv(test_data_path)\n",
        "print(\"Test data sample:\\n\", test_data.head())\n",
        "\n",
        "# create prompt for each review\n",
        "def test_prompt(review):\n",
        "  return f\"You are a helpful assistant. Classify the sentiment of the reviews as Positive or Negative:\\n\\n\\\"{review}\\\"\"\n",
        "\n",
        "test_data['prompt'] = test_data['review_body'].apply(test_prompt)\n",
        "\n",
        "# progress bar\n",
        "print(\"\\nGenerating GPT sentiment predictions...\\n\")\n",
        "tqdm.pandas()\n",
        "\n",
        "# func to get sentiment from gpt\n",
        "def get_sentiment(prompt):\n",
        "  try:\n",
        "    response = client.chat.completions.create(\n",
        "      model=\"gpt-3.5-turbo\",\n",
        "      messages=[{\"role\": \"user\", \"content\": prompt}],\n",
        "      temperature=0,\n",
        "      max_tokens=10\n",
        "    )\n",
        "    return response.choices[0].message.content.strip()\n",
        "  except Exception as e:\n",
        "    print(f\"Error: {e}\")\n",
        "    return \"Error\"\n",
        "\n",
        "# apply gpt sentiment classification\n",
        "test_data['gpt_sentiment'] = test_data['prompt'].progress_apply(get_sentiment)\n",
        "\n",
        "# normalize gpt sentiment output\n",
        "test_data['gpt_sentiment_clean'] = (\n",
        "    test_data['gpt_sentiment']\n",
        "    .str.lower()\n",
        "    .str.strip('.')\n",
        "    .str.strip()\n",
        ")\n",
        "\n",
        "# map true labels & predictions to binary values\n",
        "test_data['True'] = test_data['star_rating_label'].map({'negative': 0, 'positive': 1})\n",
        "test_data['Predicted'] = test_data['gpt_sentiment_clean'].map({'negative': 0, 'positive': 1})\n",
        "\n",
        "# fill missing predictions with 0 (treat as negative)\n",
        "test_data['Predicted'] = test_data['Predicted'].fillna(0)\n",
        "\n",
        "# check for api error\n",
        "error_count = (test_data['gpt_sentiment_clean'] == 'error').sum()\n",
        "print(f\"\\nNumber of API errors during prediction: {error_count}\")\n",
        "\n",
        "# create result df\n",
        "result_df = test_data[['True', 'Predicted']]\n",
        "\n",
        "# calc metrics\n",
        "accuracy = accuracy_score(result_df['True'], result_df['Predicted'])\n",
        "# pos_label=1: treat 1 as the class of interest = preferred predicted sentiment\n",
        "# use 1 if wanna focus on how well model predicts + sentiment\n",
        "precision = precision_score(result_df['True'], result_df['Predicted'], pos_label=1)\n",
        "recall = recall_score(result_df['True'], result_df['Predicted'], pos_label=1)\n",
        "f1 = f1_score(result_df['True'], result_df['Predicted'], pos_label=1)\n",
        "\n",
        "print(f\"\\nEvaluation Metrics:\")\n",
        "print(f\"Accuracy: {accuracy:.4f}\")\n",
        "print(f\"Precision: {precision:.4f}\")\n",
        "print(f\"Recall: {recall:.4f}\")\n",
        "print(f\"F1 Score: {f1:.4f}\")\n",
        "\n",
        "# save results with gpt sentiment\n",
        "output_path = \"/content/drive/MyDrive/testdata_gptresults_v1.csv\"\n",
        "test_data.to_csv(output_path, index=False)\n",
        "\n",
        "print(\"\\nGPT sentiment classification saved!\")"
      ]
    },
    {
      "cell_type": "markdown",
      "metadata": {
        "id": "Vguoi9loLUeD"
      },
      "source": [
        "### **Comparison of evaluation metrics across 3 train-test split using 5,000 samples**"
      ]
    },
    {
      "cell_type": "markdown",
      "metadata": {
        "id": "mAvpquN9MakT"
      },
      "source": [
        "### **70:30 train-test split**"
      ]
    },
    {
      "cell_type": "code",
      "execution_count": null,
      "metadata": {
        "colab": {
          "base_uri": "https://localhost:8080/"
        },
        "id": "0ctKU_5AMW2o",
        "outputId": "e946e9c5-2397-473b-b357-565113897916"
      },
      "outputs": [
        {
          "name": "stdout",
          "output_type": "stream",
          "text": [
            "------Training Data Sample: X_train and y_train------\n",
            "                                                                                                                                                                                                                                                                                                                                                                                                                                                                                                   review_body star_rating_label\n",
            "2878                                                                                                                                                                                                                                                                                                                                                                                                                                                                                      good meter for price          positive\n",
            "2624  i posted this review to the another battery vendor on amazon they look like the same battery but this is the vendor i actually purchased from since i am a prime member after delicate battery transplant surgery my kindle lives ironically i had just ordered my wife a kindle touch to replace her kindle android app because the app will not do library lending i then picked up my kindle 3 i e kindle keyboard to show her lending but my kindle had died nothing but a picture of john steinbeck          positive\n",
            "1621                                                                                                                                                                                                                   i have not used it enough to get super familiar with it but i did find like another reviewer that it can be very static at times there are not a lot of instructions for how to find the station that you will run your device through but all in all i am satisfied with this purchase          negative\n",
            "4046                                                                                                                                                                                                                                                                                                                                                                                                                     i have had it now for a year and a half and it is still working i love it buy it too!          positive\n",
            "3866                                                                                                                                                                                                                                                                                                                                                                                                    bought this crazy looking cover for my kid kid loves it thinks it is great which makes me a great mom!          positive \n",
            "\n",
            "------Testing Data Sample: X_test and y_test------\n",
            "                                                                                                                                                                                                                                                                                                                                                                                                                                                                                                                         review_body star_rating_label\n",
            "3854                                                                                                                                                                                                                                                                        i am happy i made this purchase it works beautifully the tv reception is fantastic i would not hesitate to recommend this product to anyone my kids are having fun watching their movies while we travel to the country and the picture quality is great          positive\n",
            "4274                                                                                                                                                                                                                                                                                                                                                                                                                                                                                                      [FLAGGED: Short & Unclear]          positive\n",
            "4587  i had my doubts for this product i thought that the quality of the music would be sub par due to the incoming static interference seeing as how this is a radio adapter or charger but i was pleasantly surprise my music comes in very clear with no static at all! the adapter that plugs into the iphone itself is pretty durable a little light but durable the cord that plugs into the charger however is flimsy and a little short it does charge your phone or ipod but it cannot be jostled around too much otherwise          positive\n",
            "779                                                                                                                                                                                                                                      arrived as how it was described except the screen protector is way bigger than the mp3 itself so i had to cut it off to fit the screen the case is very useful and wellprotected but for those who wants a look rather than the performance sony walkman gives it is not highly recommended          positive\n",
            "4688                                                                                                                                                                                                                                                                                                                                                   this was really a great deal it works great and the price was amazing thanks for the cheap price i recommend this product for anyone trying to save money and get a good deal          positive \n",
            "\n",
            "Completed train-test split for Version 1 (up till stopword removal). Files saved.\n"
          ]
        }
      ],
      "source": [
        "# 70:30\n",
        "\n",
        "import numpy as np\n",
        "import pandas as pd\n",
        "from sklearn.model_selection import train_test_split\n",
        "\n",
        "df = pd.read_csv(\"/content/drive/MyDrive/stopword_removed_data_v1.csv\")\n",
        "\n",
        "# need to divide data into X & y, define features (X) and target/label (y)\n",
        "X=df['review_body']        # review text column\n",
        "y=df['star_rating_label']   # sentiment positive/negative column\n",
        "\n",
        "# use train test split function\n",
        "X_train, X_test, y_train, y_test = train_test_split(\n",
        "    X, y, test_size=0.3, random_state=42, stratify=y, shuffle=True    # test set 30% = 0.3, remaining 0.7 auto assigned to train set\n",
        ")\n",
        "\n",
        "# convert split data into DataFrames\n",
        "train_data = pd.DataFrame({\"review_body\": X_train, \"star_rating_label\": y_train})\n",
        "test_data = pd.DataFrame({\"review_body\": X_test, \"star_rating_label\": y_test})\n",
        "\n",
        "# print sample train and test data\n",
        "print(\"------Training Data Sample: X_train and y_train------\")\n",
        "print(train_data.head(), \"\\n\")\n",
        "\n",
        "print(\"------Testing Data Sample: X_test and y_test------\")\n",
        "print(test_data.head(), \"\\n\")\n",
        "\n",
        "# save training and testing sets for later use\n",
        "train_data.to_csv(\"/content/drive/MyDrive/train_data_v1_70(2).csv\", index=False)\n",
        "test_data.to_csv(\"/content/drive/MyDrive/test_data_v1_30(2).csv\", index=False)\n",
        "\n",
        "print(\"Completed train-test split for Version 1 (up till stopword removal). Files saved.\")"
      ]
    },
    {
      "cell_type": "markdown",
      "metadata": {
        "id": "ZrUPmnAOMiLW"
      },
      "source": [
        "### **Model evaluation for 70:30 split using 5,000 samples**"
      ]
    },
    {
      "cell_type": "code",
      "execution_count": null,
      "metadata": {
        "id": "t7esj99ZJiMi"
      },
      "outputs": [],
      "source": [
        "# 70:30\n",
        "\n",
        "import openai\n",
        "import pandas as pd\n",
        "from tqdm import tqdm\n",
        "from sklearn.metrics import accuracy_score, precision_score, recall_score, f1_score\n",
        "from google.colab import userdata\n",
        "\n",
        "# load secret api key\n",
        "api_key = userdata.get('SECRET_KEY')\n",
        "client = openai.OpenAI(api_key=api_key)\n",
        "\n",
        "# load test data\n",
        "test_data_path = \"/content/drive/MyDrive/test_data_v1.csv\"\n",
        "test_data = pd.read_csv(test_data_path)\n",
        "print(\"Test data sample:\\n\", test_data.head())\n",
        "\n",
        "# create prompt for each review\n",
        "def test_prompt(review):\n",
        "  return f\"You are a helpful assistant. Classify the sentiment of the reviews as Positive or Negative:\\n\\n\\\"{review}\\\"\"\n",
        "\n",
        "test_data['prompt'] = test_data['review_body'].apply(test_prompt)\n",
        "\n",
        "# progress bar\n",
        "print(\"\\nGenerating GPT sentiment predictions...\\n\")\n",
        "tqdm.pandas()\n",
        "\n",
        "# func to get sentiment from gpt\n",
        "def get_sentiment(prompt):\n",
        "  try:\n",
        "    response = client.chat.completions.create(\n",
        "      model=\"gpt-3.5-turbo\",\n",
        "      messages=[{\"role\": \"user\", \"content\": prompt}],\n",
        "      temperature=0,\n",
        "      max_tokens=10\n",
        "    )\n",
        "    return response.choices[0].message.content.strip()\n",
        "  except Exception as e:\n",
        "    print(f\"Error: {e}\")\n",
        "    return \"Error\"\n",
        "\n",
        "# apply gpt sentiment classification\n",
        "test_data['gpt_sentiment'] = test_data['prompt'].progress_apply(get_sentiment)\n",
        "\n",
        "# normalize gpt sentiment output\n",
        "test_data['gpt_sentiment_clean'] = (\n",
        "    test_data['gpt_sentiment']\n",
        "    .str.lower()\n",
        "    .str.strip('.')\n",
        "    .str.strip()\n",
        ")\n",
        "\n",
        "# map true labels & predictions to binary values\n",
        "test_data['True'] = test_data['star_rating_label'].map({'negative': 0, 'positive': 1})\n",
        "test_data['Predicted'] = test_data['gpt_sentiment_clean'].map({'negative': 0, 'positive': 1})\n",
        "\n",
        "# fill missing predictions with 0 (treat as negative)\n",
        "test_data['Predicted'] = test_data['Predicted'].fillna(0)\n",
        "\n",
        "# check for api error\n",
        "error_count = (test_data['gpt_sentiment_clean'] == 'error').sum()\n",
        "print(f\"\\nNumber of API errors during prediction: {error_count}\")\n",
        "\n",
        "# create result df\n",
        "result_df = test_data[['True', 'Predicted']]\n",
        "\n",
        "# calc metrics\n",
        "accuracy = accuracy_score(result_df['True'], result_df['Predicted'])\n",
        "# pos_label=1: treat 1 as the class of interest = preferred predicted sentiment\n",
        "# use 1 if wanna focus on how well model predicts + sentiment\n",
        "precision = precision_score(result_df['True'], result_df['Predicted'], pos_label=1)\n",
        "recall = recall_score(result_df['True'], result_df['Predicted'], pos_label=1)\n",
        "f1 = f1_score(result_df['True'], result_df['Predicted'], pos_label=1)\n",
        "\n",
        "print(f\"\\nEvaluation Metrics:\")\n",
        "print(f\"Accuracy: {accuracy:.4f}\")\n",
        "print(f\"Precision: {precision:.4f}\")\n",
        "print(f\"Recall: {recall:.4f}\")\n",
        "print(f\"F1 Score: {f1:.4f}\")\n",
        "\n",
        "# save results with gpt sentiment\n",
        "output_path = \"/content/drive/MyDrive/testdata_gptresults_v1.csv\"\n",
        "test_data.to_csv(output_path, index=False)\n",
        "\n",
        "print(\"\\nGPT sentiment classification saved!\")"
      ]
    },
    {
      "cell_type": "markdown",
      "metadata": {
        "id": "SgFXr3SmNK3j"
      },
      "source": [
        "### **60:40 train-test split**"
      ]
    },
    {
      "cell_type": "code",
      "execution_count": null,
      "metadata": {
        "colab": {
          "base_uri": "https://localhost:8080/"
        },
        "id": "QWo8-HbSNP5H",
        "outputId": "f0d4e245-a55d-4ba1-bd6a-1b938d48e9ad"
      },
      "outputs": [
        {
          "name": "stdout",
          "output_type": "stream",
          "text": [
            "------Training Data Sample: X_train and y_train------\n",
            "                                                                                                                                                                                                             review_body star_rating_label\n",
            "4511                                                                                                                                                                                   grate starter sub for my sunfire!          positive\n",
            "4003                                                                                                                                                                                          stiff bottoms but works ok          negative\n",
            "1012  i bought 2 of these and the first one quit after a few hours of operation vendor will not respond to my inquiry on how to service second one is ok so far tried to call the help line in china absolutely hopeless          negative\n",
            "4841                                                                                        great coverage for my reader stay close magnetic closure turns it off slim design that is not too bulky to hold when reading          positive\n",
            "1620                                                                                                              i saw other customer's comment about open box warranty and very poor services by sq trade?? so no good          negative \n",
            "\n",
            "------Testing Data Sample: X_test and y_test------\n",
            "                                                                                                                                                                                                                                                                                                                                                                                                                                                                         review_body star_rating_label\n",
            "2514  pro all the features you need for dash cam come with hardwire cable to be safe you need to buy 2 adda circuit did not come with cigarette adapter but seller sent it right after contacted gps cutoff voltage parking mode con blurry video default uv filter already off video bit rate 11000kbps audio bit rate 256kbps 16 khz compares to a118 i had for short period of time video bit rate 15000kbps audio bit rate 512kbps 32khz inconvenience when need to change the s          negative\n",
            "1695                                                                                                                                                                                                                                                                                                                                     why are the cables so small need to be inch longer to match with power dock 5 to be able to charge ipads amazon said a match well it is not          negative\n",
            "4455                                                                                                                                                                                                                                                                                                                                 pros good sounding speaker on the go cons as for turning it off and on i find it easier taking the batteries out then trying to twist the cover          positive\n",
            "325                                                                                                                                                                                                                                                                                                           never used this as i returned immediately and purchased the 5 channel version of this amp if the 4 is anything like the 5 channel then i would absolutely recommend it          positive\n",
            "4090                                                                                                                                                                                                                                                                                                                                                             this fm transmitter works great not just with a blackberry either i have a droid and it is working fine! i love it!          positive \n",
            "\n",
            "Completed train-test split for Version 1 (up till stopword removal). Files saved.\n"
          ]
        }
      ],
      "source": [
        "# 60:40\n",
        "\n",
        "import numpy as np\n",
        "import pandas as pd\n",
        "from sklearn.model_selection import train_test_split\n",
        "\n",
        "df = pd.read_csv(\"/content/drive/MyDrive/stopword_removed_data_v1.csv\")\n",
        "\n",
        "# need to divide data into X & y, define features (X) and target/label (y)\n",
        "X=df['review_body']        # review text column\n",
        "y=df['star_rating_label']   # sentiment positive/negative column\n",
        "\n",
        "# use train test split function\n",
        "X_train, X_test, y_train, y_test = train_test_split(\n",
        "    X, y, test_size=0.4, random_state=42, stratify=y, shuffle=True    # test set 40% = 0.4, remaining 0.6 auto assigned to train set\n",
        ")\n",
        "\n",
        "# convert split data into DataFrames\n",
        "train_data = pd.DataFrame({\"review_body\": X_train, \"star_rating_label\": y_train})\n",
        "test_data = pd.DataFrame({\"review_body\": X_test, \"star_rating_label\": y_test})\n",
        "\n",
        "# print sample train and test data\n",
        "print(\"------Training Data Sample: X_train and y_train------\")\n",
        "print(train_data.head(), \"\\n\")\n",
        "\n",
        "print(\"------Testing Data Sample: X_test and y_test------\")\n",
        "print(test_data.head(), \"\\n\")\n",
        "\n",
        "# save training and testing sets for later use\n",
        "train_data.to_csv(\"/content/drive/MyDrive/train_data_v1_60.csv\", index=False)\n",
        "test_data.to_csv(\"/content/drive/MyDrive/test_data_v1_40.csv\", index=False)\n",
        "\n",
        "print(\"Completed train-test split for Version 1 (up till stopword removal). Files saved.\")"
      ]
    },
    {
      "cell_type": "markdown",
      "metadata": {
        "id": "1__KEnD7NXRz"
      },
      "source": [
        "### **Model evaluation for 60:40 split using 5,000 samples**"
      ]
    },
    {
      "cell_type": "code",
      "execution_count": null,
      "metadata": {
        "id": "wJjqmM8BNfEU"
      },
      "outputs": [],
      "source": [
        "# 60:40\n",
        "\n",
        "import openai\n",
        "import pandas as pd\n",
        "from tqdm import tqdm\n",
        "from sklearn.metrics import accuracy_score, precision_score, recall_score, f1_score\n",
        "from google.colab import userdata\n",
        "\n",
        "# load secret api key\n",
        "api_key = userdata.get('SECRET_KEY')\n",
        "client = openai.OpenAI(api_key=api_key)\n",
        "\n",
        "# load test data\n",
        "test_data_path = \"/content/drive/MyDrive/test_data_v1.csv\"\n",
        "test_data = pd.read_csv(test_data_path)\n",
        "print(\"Test data sample:\\n\", test_data.head())\n",
        "\n",
        "# create prompt for each review\n",
        "def test_prompt(review):\n",
        "  return f\"You are a helpful assistant. Classify the sentiment of the reviews as Positive or Negative:\\n\\n\\\"{review}\\\"\"\n",
        "\n",
        "test_data['prompt'] = test_data['review_body'].apply(test_prompt)\n",
        "\n",
        "# progress bar\n",
        "print(\"\\nGenerating GPT sentiment predictions...\\n\")\n",
        "tqdm.pandas()\n",
        "\n",
        "# func to get sentiment from gpt\n",
        "def get_sentiment(prompt):\n",
        "  try:\n",
        "    response = client.chat.completions.create(\n",
        "      model=\"gpt-3.5-turbo\",\n",
        "      messages=[{\"role\": \"user\", \"content\": prompt}],\n",
        "      temperature=0,\n",
        "      max_tokens=10\n",
        "    )\n",
        "    return response.choices[0].message.content.strip()\n",
        "  except Exception as e:\n",
        "    print(f\"Error: {e}\")\n",
        "    return \"Error\"\n",
        "\n",
        "# apply gpt sentiment classification\n",
        "test_data['gpt_sentiment'] = test_data['prompt'].progress_apply(get_sentiment)\n",
        "\n",
        "# normalize gpt sentiment output\n",
        "test_data['gpt_sentiment_clean'] = (\n",
        "    test_data['gpt_sentiment']\n",
        "    .str.lower()\n",
        "    .str.strip('.')\n",
        "    .str.strip()\n",
        ")\n",
        "\n",
        "# map true labels & predictions to binary values\n",
        "test_data['True'] = test_data['star_rating_label'].map({'negative': 0, 'positive': 1})\n",
        "test_data['Predicted'] = test_data['gpt_sentiment_clean'].map({'negative': 0, 'positive': 1})\n",
        "\n",
        "# fill missing predictions with 0 (treat as negative)\n",
        "test_data['Predicted'] = test_data['Predicted'].fillna(0)\n",
        "\n",
        "# check for api error\n",
        "error_count = (test_data['gpt_sentiment_clean'] == 'error').sum()\n",
        "print(f\"\\nNumber of API errors during prediction: {error_count}\")\n",
        "\n",
        "# create result df\n",
        "result_df = test_data[['True', 'Predicted']]\n",
        "\n",
        "# calc metrics\n",
        "accuracy = accuracy_score(result_df['True'], result_df['Predicted'])\n",
        "# pos_label=1: treat 1 as the class of interest = preferred predicted sentiment\n",
        "# use 1 if wanna focus on how well model predicts + sentiment\n",
        "precision = precision_score(result_df['True'], result_df['Predicted'], pos_label=1)\n",
        "recall = recall_score(result_df['True'], result_df['Predicted'], pos_label=1)\n",
        "f1 = f1_score(result_df['True'], result_df['Predicted'], pos_label=1)\n",
        "\n",
        "print(f\"\\nEvaluation Metrics:\")\n",
        "print(f\"Accuracy: {accuracy:.4f}\")\n",
        "print(f\"Precision: {precision:.4f}\")\n",
        "print(f\"Recall: {recall:.4f}\")\n",
        "print(f\"F1 Score: {f1:.4f}\")\n",
        "\n",
        "# save results with gpt sentiment\n",
        "output_path = \"/content/drive/MyDrive/testdata_gptresults_v1.csv\"\n",
        "test_data.to_csv(output_path, index=False)\n",
        "\n",
        "print(\"\\nGPT sentiment classification saved!\")"
      ]
    },
    {
      "cell_type": "markdown",
      "metadata": {
        "id": "TVelXJHHOCEC"
      },
      "source": [
        "### **80:20 train-test split**"
      ]
    },
    {
      "cell_type": "code",
      "execution_count": null,
      "metadata": {
        "colab": {
          "base_uri": "https://localhost:8080/"
        },
        "id": "Ei3Yl_XGOGt3",
        "outputId": "70e512e7-303a-4a0d-b867-6f5709d55676"
      },
      "outputs": [
        {
          "name": "stdout",
          "output_type": "stream",
          "text": [
            "------Training Data Sample: X_train and y_train------\n",
            "                                                                                                                                                                                                                                                                                                                                                     review_body star_rating_label\n",
            "263                               after trying this unit out that my son had bought i decided to get a pair for each of my cars they work awesome only problem is that they are identified as the same unit within bluetooth so a device that goes from one to the other leaves you wondering which one to sync to but only a problem if you have multiple units          positive\n",
            "580   love this! it is perfect for earbuds but also useful for my tablet charger which i keep losing! this keeps me organized and i can find my charger without frustration good to take on an airplane trip as it is easy to access and easy to find in a purse or carry on it is a great case for anything small that you can lose in your purse or bag easily          positive\n",
            "4572                                                                                                                                                this little speaker has great sound quality for the price it was easy to setup just turned it on and linked right up with my blue tooth devices i have used it with my phone and computer without any issues          positive\n",
            "1068                                                                                                                                                                                                                   i bought this inverter to add with two other one i have different brand this one puts out double the watts as the others works flawlessly          positive\n",
            "4244                                                                                                                                                                                                         in fact the carcam works perfectly fine overall i am completely satisfied with this product and would recommend it to anyone looking for a dash cam          positive \n",
            "\n",
            "------Testing Data Sample: X_test and y_test------\n",
            "                                                                                                                                                                                                                                                                                                                                                                                                   review_body star_rating_label\n",
            "3705  make sure they send you the right mount for this gps! i got mine and was excited until i realized that in now way was the gps screen fitting on the mount they sent with it looked like the mount belonged to a 5\" gps? not too sure but very disappointed have not even gotten to charge and turn on because i am going to immediately return it is just a bad ipad or tablet if it cannot go in my car          negative\n",
            "1890                                                                                                                                                                                                                                                                                                     the cover case is very cute my daughter like it but it fit big for her ipod she uses it on a occasion          negative\n",
            "3079                                                                                                                                   not a lot to mention here but only that it works perfect for those seeking a 2nd key for their toyotas just followed simple steps listed in a youtube video titled toyota camry key programming and the new key started the car after it was cut for free at home depot          positive\n",
            "194                                                                                                                                                                                                                                                                                       this thing is great i previously had a wire that went from my phone to my studio this is so much cleaner and clearer          positive\n",
            "4670                                                                                                                                       worked as well as the factory unit which i left in a rental car much better price than the factory unit plus this bundle came with the power cord which i already had from my tomtom just the factory mount or charger cost double what i paid for both at the time          positive \n",
            "\n",
            "Completed train-test split for Version 1 (up till stopword removal). Files saved.\n"
          ]
        }
      ],
      "source": [
        "# 80:20\n",
        "\n",
        "import numpy as np\n",
        "import pandas as pd\n",
        "from sklearn.model_selection import train_test_split\n",
        "\n",
        "df = pd.read_csv(\"/content/drive/MyDrive/stopword_removed_data_v1.csv\")\n",
        "\n",
        "# need to divide data into X & y, define features (X) and target/label (y)\n",
        "X=df['review_body']        # review text column\n",
        "y=df['star_rating_label']   # sentiment positive/negative column\n",
        "\n",
        "# use train test split function\n",
        "X_train, X_test, y_train, y_test = train_test_split(\n",
        "    X, y, test_size=0.2, random_state=42, stratify=y, shuffle=True    # test set 20% = 0.2, remaining 0.8 auto assigned to train set\n",
        ")\n",
        "\n",
        "# convert split data into DataFrames\n",
        "train_data = pd.DataFrame({\"review_body\": X_train, \"star_rating_label\": y_train})\n",
        "test_data = pd.DataFrame({\"review_body\": X_test, \"star_rating_label\": y_test})\n",
        "\n",
        "# print sample train and test data\n",
        "print(\"------Training Data Sample: X_train and y_train------\")\n",
        "print(train_data.head(), \"\\n\")\n",
        "\n",
        "print(\"------Testing Data Sample: X_test and y_test------\")\n",
        "print(test_data.head(), \"\\n\")\n",
        "\n",
        "# save training and testing sets for later use\n",
        "train_data.to_csv(\"/content/drive/MyDrive/train_data_v1_80.csv\", index=False)\n",
        "test_data.to_csv(\"/content/drive/MyDrive/test_data_v1_20.csv\", index=False)\n",
        "\n",
        "print(\"Completed train-test split for Version 1 (up till stopword removal). Files saved.\")"
      ]
    },
    {
      "cell_type": "markdown",
      "metadata": {
        "id": "Fy5-je96OItq"
      },
      "source": [
        "### **Model evaluation for 80:20 split using 5,000 samples**"
      ]
    },
    {
      "cell_type": "code",
      "execution_count": null,
      "metadata": {
        "id": "N79JsqlkOLlH"
      },
      "outputs": [],
      "source": [
        "# 80:20\n",
        "\n",
        "import openai\n",
        "import pandas as pd\n",
        "from tqdm import tqdm\n",
        "from sklearn.metrics import accuracy_score, precision_score, recall_score, f1_score\n",
        "from google.colab import userdata\n",
        "\n",
        "# load secret api key\n",
        "api_key = userdata.get('SECRET_KEY')\n",
        "client = openai.OpenAI(api_key=api_key)\n",
        "\n",
        "# load test data\n",
        "test_data_path = \"/content/drive/MyDrive/test_data_v1.csv\"\n",
        "test_data = pd.read_csv(test_data_path)\n",
        "print(\"Test data sample:\\n\", test_data.head())\n",
        "\n",
        "# create prompt for each review\n",
        "def test_prompt(review):\n",
        "  return f\"You are a helpful assistant. Classify the sentiment of the reviews as Positive or Negative:\\n\\n\\\"{review}\\\"\"\n",
        "\n",
        "test_data['prompt'] = test_data['review_body'].apply(test_prompt)\n",
        "\n",
        "# progress bar\n",
        "print(\"\\nGenerating GPT sentiment predictions...\\n\")\n",
        "tqdm.pandas()\n",
        "\n",
        "# func to get sentiment from gpt\n",
        "def get_sentiment(prompt):\n",
        "  try:\n",
        "    response = client.chat.completions.create(\n",
        "      model=\"gpt-3.5-turbo\",\n",
        "      messages=[{\"role\": \"user\", \"content\": prompt}],\n",
        "      temperature=0,\n",
        "      max_tokens=10\n",
        "    )\n",
        "    return response.choices[0].message.content.strip()\n",
        "  except Exception as e:\n",
        "    print(f\"Error: {e}\")\n",
        "    return \"Error\"\n",
        "\n",
        "# apply gpt sentiment classification\n",
        "test_data['gpt_sentiment'] = test_data['prompt'].progress_apply(get_sentiment)\n",
        "\n",
        "# normalize gpt sentiment output\n",
        "test_data['gpt_sentiment_clean'] = (\n",
        "    test_data['gpt_sentiment']\n",
        "    .str.lower()\n",
        "    .str.strip('.')\n",
        "    .str.strip()\n",
        ")\n",
        "\n",
        "# map true labels & predictions to binary values\n",
        "test_data['True'] = test_data['star_rating_label'].map({'negative': 0, 'positive': 1})\n",
        "test_data['Predicted'] = test_data['gpt_sentiment_clean'].map({'negative': 0, 'positive': 1})\n",
        "\n",
        "# fill missing predictions with 0 (treat as negative)\n",
        "test_data['Predicted'] = test_data['Predicted'].fillna(0)\n",
        "\n",
        "# check for api error\n",
        "error_count = (test_data['gpt_sentiment_clean'] == 'error').sum()\n",
        "print(f\"\\nNumber of API errors during prediction: {error_count}\")\n",
        "\n",
        "# create result df\n",
        "result_df = test_data[['True', 'Predicted']]\n",
        "\n",
        "# calc metrics\n",
        "accuracy = accuracy_score(result_df['True'], result_df['Predicted'])\n",
        "# pos_label=1: treat 1 as the class of interest = preferred predicted sentiment\n",
        "# use 1 if wanna focus on how well model predicts + sentiment\n",
        "precision = precision_score(result_df['True'], result_df['Predicted'], pos_label=1)\n",
        "recall = recall_score(result_df['True'], result_df['Predicted'], pos_label=1)\n",
        "f1 = f1_score(result_df['True'], result_df['Predicted'], pos_label=1)\n",
        "\n",
        "print(f\"\\nEvaluation Metrics:\")\n",
        "print(f\"Accuracy: {accuracy:.4f}\")\n",
        "print(f\"Precision: {precision:.4f}\")\n",
        "print(f\"Recall: {recall:.4f}\")\n",
        "print(f\"F1 Score: {f1:.4f}\")\n",
        "\n",
        "# save results with gpt sentiment\n",
        "output_path = \"/content/drive/MyDrive/testdata_gptresults_v1.csv\"\n",
        "test_data.to_csv(output_path, index=False)\n",
        "\n",
        "print(\"\\nGPT sentiment classification saved!\")"
      ]
    },
    {
      "cell_type": "markdown",
      "metadata": {
        "id": "YU83hjPCOxjb"
      },
      "source": [
        "### **Improved workflow approach: Perform GPT sentiment classification once on entire dataset, split train-test, and evaluate model’s performance**"
      ]
    },
    {
      "cell_type": "markdown",
      "metadata": {
        "id": "YIe3-Tcfu_ZF"
      },
      "source": [
        "### **Train gpt-3.5 model**\n",
        "\n"
      ]
    },
    {
      "cell_type": "code",
      "execution_count": null,
      "metadata": {
        "colab": {
          "base_uri": "https://localhost:8080/",
          "height": 373
        },
        "id": "gjTRWG40bgbW",
        "outputId": "289ff3eb-c5df-4725-b0a5-2d82d592b80d"
      },
      "outputs": [
        {
          "output_type": "stream",
          "name": "stderr",
          "text": [
            "  2%|▏         | 16/1000 [00:14<14:23,  1.14it/s]\n"
          ]
        },
        {
          "output_type": "error",
          "ename": "KeyboardInterrupt",
          "evalue": "",
          "traceback": [
            "\u001b[0;31m---------------------------------------------------------------------------\u001b[0m",
            "\u001b[0;31mKeyboardInterrupt\u001b[0m                         Traceback (most recent call last)",
            "\u001b[0;32m<ipython-input-19-2677456676>\u001b[0m in \u001b[0;36m<cell line: 0>\u001b[0;34m()\u001b[0m\n\u001b[1;32m     52\u001b[0m \u001b[0;32mfor\u001b[0m \u001b[0mbatch_dict\u001b[0m \u001b[0;32min\u001b[0m \u001b[0mtqdm\u001b[0m\u001b[0;34m(\u001b[0m\u001b[0mcreate_batch_prompts\u001b[0m\u001b[0;34m(\u001b[0m\u001b[0mreviews\u001b[0m\u001b[0;34m,\u001b[0m \u001b[0mbatch_size\u001b[0m\u001b[0;34m=\u001b[0m\u001b[0mbatch_size\u001b[0m\u001b[0;34m)\u001b[0m\u001b[0;34m,\u001b[0m \u001b[0mtotal\u001b[0m\u001b[0;34m=\u001b[0m\u001b[0;34m(\u001b[0m\u001b[0mlen\u001b[0m\u001b[0;34m(\u001b[0m\u001b[0mdf\u001b[0m\u001b[0;34m)\u001b[0m \u001b[0;34m//\u001b[0m \u001b[0mbatch_size\u001b[0m\u001b[0;34m)\u001b[0m \u001b[0;34m+\u001b[0m \u001b[0;36m1\u001b[0m\u001b[0;34m)\u001b[0m\u001b[0;34m:\u001b[0m\u001b[0;34m\u001b[0m\u001b[0;34m\u001b[0m\u001b[0m\n\u001b[1;32m     53\u001b[0m     \u001b[0mprompt\u001b[0m \u001b[0;34m=\u001b[0m \u001b[0mcreate_prompt\u001b[0m\u001b[0;34m(\u001b[0m\u001b[0mbatch_dict\u001b[0m\u001b[0;34m)\u001b[0m\u001b[0;34m\u001b[0m\u001b[0;34m\u001b[0m\u001b[0m\n\u001b[0;32m---> 54\u001b[0;31m     \u001b[0moutput\u001b[0m \u001b[0;34m=\u001b[0m \u001b[0mbatch_sentiment\u001b[0m\u001b[0;34m(\u001b[0m\u001b[0mprompt\u001b[0m\u001b[0;34m,\u001b[0m \u001b[0mbatch_size\u001b[0m\u001b[0;34m)\u001b[0m\u001b[0;34m\u001b[0m\u001b[0;34m\u001b[0m\u001b[0m\n\u001b[0m\u001b[1;32m     55\u001b[0m \u001b[0;34m\u001b[0m\u001b[0m\n\u001b[1;32m     56\u001b[0m     \u001b[0;32mif\u001b[0m \u001b[0moutput\u001b[0m\u001b[0;34m:\u001b[0m\u001b[0;34m\u001b[0m\u001b[0;34m\u001b[0m\u001b[0m\n",
            "\u001b[0;32m<ipython-input-19-2677456676>\u001b[0m in \u001b[0;36mbatch_sentiment\u001b[0;34m(prompt, batch_size)\u001b[0m\n\u001b[1;32m     35\u001b[0m \u001b[0;32mdef\u001b[0m \u001b[0mbatch_sentiment\u001b[0m\u001b[0;34m(\u001b[0m\u001b[0mprompt\u001b[0m\u001b[0;34m,\u001b[0m \u001b[0mbatch_size\u001b[0m\u001b[0;34m)\u001b[0m\u001b[0;34m:\u001b[0m\u001b[0;34m\u001b[0m\u001b[0;34m\u001b[0m\u001b[0m\n\u001b[1;32m     36\u001b[0m     \u001b[0;32mtry\u001b[0m\u001b[0;34m:\u001b[0m\u001b[0;34m\u001b[0m\u001b[0;34m\u001b[0m\u001b[0m\n\u001b[0;32m---> 37\u001b[0;31m         response = client.chat.completions.create(\n\u001b[0m\u001b[1;32m     38\u001b[0m             \u001b[0mmodel\u001b[0m\u001b[0;34m=\u001b[0m\u001b[0;34m\"gpt-3.5-turbo\"\u001b[0m\u001b[0;34m,\u001b[0m\u001b[0;34m\u001b[0m\u001b[0;34m\u001b[0m\u001b[0m\n\u001b[1;32m     39\u001b[0m             \u001b[0mmessages\u001b[0m\u001b[0;34m=\u001b[0m\u001b[0;34m[\u001b[0m\u001b[0;34m{\u001b[0m\u001b[0;34m\"role\"\u001b[0m\u001b[0;34m:\u001b[0m \u001b[0;34m\"user\"\u001b[0m\u001b[0;34m,\u001b[0m \u001b[0;34m\"content\"\u001b[0m\u001b[0;34m:\u001b[0m \u001b[0mprompt\u001b[0m\u001b[0;34m}\u001b[0m\u001b[0;34m]\u001b[0m\u001b[0;34m,\u001b[0m\u001b[0;34m\u001b[0m\u001b[0;34m\u001b[0m\u001b[0m\n",
            "\u001b[0;32m/usr/local/lib/python3.11/dist-packages/openai/_utils/_utils.py\u001b[0m in \u001b[0;36mwrapper\u001b[0;34m(*args, **kwargs)\u001b[0m\n\u001b[1;32m    285\u001b[0m                         \u001b[0mmsg\u001b[0m \u001b[0;34m=\u001b[0m \u001b[0;34mf\"Missing required argument: {quote(missing[0])}\"\u001b[0m\u001b[0;34m\u001b[0m\u001b[0;34m\u001b[0m\u001b[0m\n\u001b[1;32m    286\u001b[0m                 \u001b[0;32mraise\u001b[0m \u001b[0mTypeError\u001b[0m\u001b[0;34m(\u001b[0m\u001b[0mmsg\u001b[0m\u001b[0;34m)\u001b[0m\u001b[0;34m\u001b[0m\u001b[0;34m\u001b[0m\u001b[0m\n\u001b[0;32m--> 287\u001b[0;31m             \u001b[0;32mreturn\u001b[0m \u001b[0mfunc\u001b[0m\u001b[0;34m(\u001b[0m\u001b[0;34m*\u001b[0m\u001b[0margs\u001b[0m\u001b[0;34m,\u001b[0m \u001b[0;34m**\u001b[0m\u001b[0mkwargs\u001b[0m\u001b[0;34m)\u001b[0m\u001b[0;34m\u001b[0m\u001b[0;34m\u001b[0m\u001b[0m\n\u001b[0m\u001b[1;32m    288\u001b[0m \u001b[0;34m\u001b[0m\u001b[0m\n\u001b[1;32m    289\u001b[0m         \u001b[0;32mreturn\u001b[0m \u001b[0mwrapper\u001b[0m  \u001b[0;31m# type: ignore\u001b[0m\u001b[0;34m\u001b[0m\u001b[0;34m\u001b[0m\u001b[0m\n",
            "\u001b[0;32m/usr/local/lib/python3.11/dist-packages/openai/resources/chat/completions/completions.py\u001b[0m in \u001b[0;36mcreate\u001b[0;34m(self, messages, model, audio, frequency_penalty, function_call, functions, logit_bias, logprobs, max_completion_tokens, max_tokens, metadata, modalities, n, parallel_tool_calls, prediction, presence_penalty, reasoning_effort, response_format, seed, service_tier, stop, store, stream, stream_options, temperature, tool_choice, tools, top_logprobs, top_p, user, web_search_options, extra_headers, extra_query, extra_body, timeout)\u001b[0m\n\u001b[1;32m    923\u001b[0m     ) -> ChatCompletion | Stream[ChatCompletionChunk]:\n\u001b[1;32m    924\u001b[0m         \u001b[0mvalidate_response_format\u001b[0m\u001b[0;34m(\u001b[0m\u001b[0mresponse_format\u001b[0m\u001b[0;34m)\u001b[0m\u001b[0;34m\u001b[0m\u001b[0;34m\u001b[0m\u001b[0m\n\u001b[0;32m--> 925\u001b[0;31m         return self._post(\n\u001b[0m\u001b[1;32m    926\u001b[0m             \u001b[0;34m\"/chat/completions\"\u001b[0m\u001b[0;34m,\u001b[0m\u001b[0;34m\u001b[0m\u001b[0;34m\u001b[0m\u001b[0m\n\u001b[1;32m    927\u001b[0m             body=maybe_transform(\n",
            "\u001b[0;32m/usr/local/lib/python3.11/dist-packages/openai/_base_client.py\u001b[0m in \u001b[0;36mpost\u001b[0;34m(self, path, cast_to, body, options, files, stream, stream_cls)\u001b[0m\n\u001b[1;32m   1240\u001b[0m             \u001b[0mmethod\u001b[0m\u001b[0;34m=\u001b[0m\u001b[0;34m\"post\"\u001b[0m\u001b[0;34m,\u001b[0m \u001b[0murl\u001b[0m\u001b[0;34m=\u001b[0m\u001b[0mpath\u001b[0m\u001b[0;34m,\u001b[0m \u001b[0mjson_data\u001b[0m\u001b[0;34m=\u001b[0m\u001b[0mbody\u001b[0m\u001b[0;34m,\u001b[0m \u001b[0mfiles\u001b[0m\u001b[0;34m=\u001b[0m\u001b[0mto_httpx_files\u001b[0m\u001b[0;34m(\u001b[0m\u001b[0mfiles\u001b[0m\u001b[0;34m)\u001b[0m\u001b[0;34m,\u001b[0m \u001b[0;34m**\u001b[0m\u001b[0moptions\u001b[0m\u001b[0;34m\u001b[0m\u001b[0;34m\u001b[0m\u001b[0m\n\u001b[1;32m   1241\u001b[0m         )\n\u001b[0;32m-> 1242\u001b[0;31m         \u001b[0;32mreturn\u001b[0m \u001b[0mcast\u001b[0m\u001b[0;34m(\u001b[0m\u001b[0mResponseT\u001b[0m\u001b[0;34m,\u001b[0m \u001b[0mself\u001b[0m\u001b[0;34m.\u001b[0m\u001b[0mrequest\u001b[0m\u001b[0;34m(\u001b[0m\u001b[0mcast_to\u001b[0m\u001b[0;34m,\u001b[0m \u001b[0mopts\u001b[0m\u001b[0;34m,\u001b[0m \u001b[0mstream\u001b[0m\u001b[0;34m=\u001b[0m\u001b[0mstream\u001b[0m\u001b[0;34m,\u001b[0m \u001b[0mstream_cls\u001b[0m\u001b[0;34m=\u001b[0m\u001b[0mstream_cls\u001b[0m\u001b[0;34m)\u001b[0m\u001b[0;34m)\u001b[0m\u001b[0;34m\u001b[0m\u001b[0;34m\u001b[0m\u001b[0m\n\u001b[0m\u001b[1;32m   1243\u001b[0m \u001b[0;34m\u001b[0m\u001b[0m\n\u001b[1;32m   1244\u001b[0m     def patch(\n",
            "\u001b[0;32m/usr/local/lib/python3.11/dist-packages/openai/_base_client.py\u001b[0m in \u001b[0;36mrequest\u001b[0;34m(self, cast_to, options, stream, stream_cls)\u001b[0m\n\u001b[1;32m    970\u001b[0m             \u001b[0mresponse\u001b[0m \u001b[0;34m=\u001b[0m \u001b[0;32mNone\u001b[0m\u001b[0;34m\u001b[0m\u001b[0;34m\u001b[0m\u001b[0m\n\u001b[1;32m    971\u001b[0m             \u001b[0;32mtry\u001b[0m\u001b[0;34m:\u001b[0m\u001b[0;34m\u001b[0m\u001b[0;34m\u001b[0m\u001b[0m\n\u001b[0;32m--> 972\u001b[0;31m                 response = self._client.send(\n\u001b[0m\u001b[1;32m    973\u001b[0m                     \u001b[0mrequest\u001b[0m\u001b[0;34m,\u001b[0m\u001b[0;34m\u001b[0m\u001b[0;34m\u001b[0m\u001b[0m\n\u001b[1;32m    974\u001b[0m                     \u001b[0mstream\u001b[0m\u001b[0;34m=\u001b[0m\u001b[0mstream\u001b[0m \u001b[0;32mor\u001b[0m \u001b[0mself\u001b[0m\u001b[0;34m.\u001b[0m\u001b[0m_should_stream_response_body\u001b[0m\u001b[0;34m(\u001b[0m\u001b[0mrequest\u001b[0m\u001b[0;34m=\u001b[0m\u001b[0mrequest\u001b[0m\u001b[0;34m)\u001b[0m\u001b[0;34m,\u001b[0m\u001b[0;34m\u001b[0m\u001b[0;34m\u001b[0m\u001b[0m\n",
            "\u001b[0;32m/usr/local/lib/python3.11/dist-packages/httpx/_client.py\u001b[0m in \u001b[0;36msend\u001b[0;34m(self, request, stream, auth, follow_redirects)\u001b[0m\n\u001b[1;32m    912\u001b[0m         \u001b[0mauth\u001b[0m \u001b[0;34m=\u001b[0m \u001b[0mself\u001b[0m\u001b[0;34m.\u001b[0m\u001b[0m_build_request_auth\u001b[0m\u001b[0;34m(\u001b[0m\u001b[0mrequest\u001b[0m\u001b[0;34m,\u001b[0m \u001b[0mauth\u001b[0m\u001b[0;34m)\u001b[0m\u001b[0;34m\u001b[0m\u001b[0;34m\u001b[0m\u001b[0m\n\u001b[1;32m    913\u001b[0m \u001b[0;34m\u001b[0m\u001b[0m\n\u001b[0;32m--> 914\u001b[0;31m         response = self._send_handling_auth(\n\u001b[0m\u001b[1;32m    915\u001b[0m             \u001b[0mrequest\u001b[0m\u001b[0;34m,\u001b[0m\u001b[0;34m\u001b[0m\u001b[0;34m\u001b[0m\u001b[0m\n\u001b[1;32m    916\u001b[0m             \u001b[0mauth\u001b[0m\u001b[0;34m=\u001b[0m\u001b[0mauth\u001b[0m\u001b[0;34m,\u001b[0m\u001b[0;34m\u001b[0m\u001b[0;34m\u001b[0m\u001b[0m\n",
            "\u001b[0;32m/usr/local/lib/python3.11/dist-packages/httpx/_client.py\u001b[0m in \u001b[0;36m_send_handling_auth\u001b[0;34m(self, request, auth, follow_redirects, history)\u001b[0m\n\u001b[1;32m    940\u001b[0m \u001b[0;34m\u001b[0m\u001b[0m\n\u001b[1;32m    941\u001b[0m             \u001b[0;32mwhile\u001b[0m \u001b[0;32mTrue\u001b[0m\u001b[0;34m:\u001b[0m\u001b[0;34m\u001b[0m\u001b[0;34m\u001b[0m\u001b[0m\n\u001b[0;32m--> 942\u001b[0;31m                 response = self._send_handling_redirects(\n\u001b[0m\u001b[1;32m    943\u001b[0m                     \u001b[0mrequest\u001b[0m\u001b[0;34m,\u001b[0m\u001b[0;34m\u001b[0m\u001b[0;34m\u001b[0m\u001b[0m\n\u001b[1;32m    944\u001b[0m                     \u001b[0mfollow_redirects\u001b[0m\u001b[0;34m=\u001b[0m\u001b[0mfollow_redirects\u001b[0m\u001b[0;34m,\u001b[0m\u001b[0;34m\u001b[0m\u001b[0;34m\u001b[0m\u001b[0m\n",
            "\u001b[0;32m/usr/local/lib/python3.11/dist-packages/httpx/_client.py\u001b[0m in \u001b[0;36m_send_handling_redirects\u001b[0;34m(self, request, follow_redirects, history)\u001b[0m\n\u001b[1;32m    977\u001b[0m                 \u001b[0mhook\u001b[0m\u001b[0;34m(\u001b[0m\u001b[0mrequest\u001b[0m\u001b[0;34m)\u001b[0m\u001b[0;34m\u001b[0m\u001b[0;34m\u001b[0m\u001b[0m\n\u001b[1;32m    978\u001b[0m \u001b[0;34m\u001b[0m\u001b[0m\n\u001b[0;32m--> 979\u001b[0;31m             \u001b[0mresponse\u001b[0m \u001b[0;34m=\u001b[0m \u001b[0mself\u001b[0m\u001b[0;34m.\u001b[0m\u001b[0m_send_single_request\u001b[0m\u001b[0;34m(\u001b[0m\u001b[0mrequest\u001b[0m\u001b[0;34m)\u001b[0m\u001b[0;34m\u001b[0m\u001b[0;34m\u001b[0m\u001b[0m\n\u001b[0m\u001b[1;32m    980\u001b[0m             \u001b[0;32mtry\u001b[0m\u001b[0;34m:\u001b[0m\u001b[0;34m\u001b[0m\u001b[0;34m\u001b[0m\u001b[0m\n\u001b[1;32m    981\u001b[0m                 \u001b[0;32mfor\u001b[0m \u001b[0mhook\u001b[0m \u001b[0;32min\u001b[0m \u001b[0mself\u001b[0m\u001b[0;34m.\u001b[0m\u001b[0m_event_hooks\u001b[0m\u001b[0;34m[\u001b[0m\u001b[0;34m\"response\"\u001b[0m\u001b[0;34m]\u001b[0m\u001b[0;34m:\u001b[0m\u001b[0;34m\u001b[0m\u001b[0;34m\u001b[0m\u001b[0m\n",
            "\u001b[0;32m/usr/local/lib/python3.11/dist-packages/httpx/_client.py\u001b[0m in \u001b[0;36m_send_single_request\u001b[0;34m(self, request)\u001b[0m\n\u001b[1;32m   1012\u001b[0m \u001b[0;34m\u001b[0m\u001b[0m\n\u001b[1;32m   1013\u001b[0m         \u001b[0;32mwith\u001b[0m \u001b[0mrequest_context\u001b[0m\u001b[0;34m(\u001b[0m\u001b[0mrequest\u001b[0m\u001b[0;34m=\u001b[0m\u001b[0mrequest\u001b[0m\u001b[0;34m)\u001b[0m\u001b[0;34m:\u001b[0m\u001b[0;34m\u001b[0m\u001b[0;34m\u001b[0m\u001b[0m\n\u001b[0;32m-> 1014\u001b[0;31m             \u001b[0mresponse\u001b[0m \u001b[0;34m=\u001b[0m \u001b[0mtransport\u001b[0m\u001b[0;34m.\u001b[0m\u001b[0mhandle_request\u001b[0m\u001b[0;34m(\u001b[0m\u001b[0mrequest\u001b[0m\u001b[0;34m)\u001b[0m\u001b[0;34m\u001b[0m\u001b[0;34m\u001b[0m\u001b[0m\n\u001b[0m\u001b[1;32m   1015\u001b[0m \u001b[0;34m\u001b[0m\u001b[0m\n\u001b[1;32m   1016\u001b[0m         \u001b[0;32massert\u001b[0m \u001b[0misinstance\u001b[0m\u001b[0;34m(\u001b[0m\u001b[0mresponse\u001b[0m\u001b[0;34m.\u001b[0m\u001b[0mstream\u001b[0m\u001b[0;34m,\u001b[0m \u001b[0mSyncByteStream\u001b[0m\u001b[0;34m)\u001b[0m\u001b[0;34m\u001b[0m\u001b[0;34m\u001b[0m\u001b[0m\n",
            "\u001b[0;32m/usr/local/lib/python3.11/dist-packages/httpx/_transports/default.py\u001b[0m in \u001b[0;36mhandle_request\u001b[0;34m(self, request)\u001b[0m\n\u001b[1;32m    248\u001b[0m         )\n\u001b[1;32m    249\u001b[0m         \u001b[0;32mwith\u001b[0m \u001b[0mmap_httpcore_exceptions\u001b[0m\u001b[0;34m(\u001b[0m\u001b[0;34m)\u001b[0m\u001b[0;34m:\u001b[0m\u001b[0;34m\u001b[0m\u001b[0;34m\u001b[0m\u001b[0m\n\u001b[0;32m--> 250\u001b[0;31m             \u001b[0mresp\u001b[0m \u001b[0;34m=\u001b[0m \u001b[0mself\u001b[0m\u001b[0;34m.\u001b[0m\u001b[0m_pool\u001b[0m\u001b[0;34m.\u001b[0m\u001b[0mhandle_request\u001b[0m\u001b[0;34m(\u001b[0m\u001b[0mreq\u001b[0m\u001b[0;34m)\u001b[0m\u001b[0;34m\u001b[0m\u001b[0;34m\u001b[0m\u001b[0m\n\u001b[0m\u001b[1;32m    251\u001b[0m \u001b[0;34m\u001b[0m\u001b[0m\n\u001b[1;32m    252\u001b[0m         \u001b[0;32massert\u001b[0m \u001b[0misinstance\u001b[0m\u001b[0;34m(\u001b[0m\u001b[0mresp\u001b[0m\u001b[0;34m.\u001b[0m\u001b[0mstream\u001b[0m\u001b[0;34m,\u001b[0m \u001b[0mtyping\u001b[0m\u001b[0;34m.\u001b[0m\u001b[0mIterable\u001b[0m\u001b[0;34m)\u001b[0m\u001b[0;34m\u001b[0m\u001b[0;34m\u001b[0m\u001b[0m\n",
            "\u001b[0;32m/usr/local/lib/python3.11/dist-packages/httpcore/_sync/connection_pool.py\u001b[0m in \u001b[0;36mhandle_request\u001b[0;34m(self, request)\u001b[0m\n\u001b[1;32m    254\u001b[0m \u001b[0;34m\u001b[0m\u001b[0m\n\u001b[1;32m    255\u001b[0m             \u001b[0mself\u001b[0m\u001b[0;34m.\u001b[0m\u001b[0m_close_connections\u001b[0m\u001b[0;34m(\u001b[0m\u001b[0mclosing\u001b[0m\u001b[0;34m)\u001b[0m\u001b[0;34m\u001b[0m\u001b[0;34m\u001b[0m\u001b[0m\n\u001b[0;32m--> 256\u001b[0;31m             \u001b[0;32mraise\u001b[0m \u001b[0mexc\u001b[0m \u001b[0;32mfrom\u001b[0m \u001b[0;32mNone\u001b[0m\u001b[0;34m\u001b[0m\u001b[0;34m\u001b[0m\u001b[0m\n\u001b[0m\u001b[1;32m    257\u001b[0m \u001b[0;34m\u001b[0m\u001b[0m\n\u001b[1;32m    258\u001b[0m         \u001b[0;31m# Return the response. Note that in this case we still have to manage\u001b[0m\u001b[0;34m\u001b[0m\u001b[0;34m\u001b[0m\u001b[0m\n",
            "\u001b[0;32m/usr/local/lib/python3.11/dist-packages/httpcore/_sync/connection_pool.py\u001b[0m in \u001b[0;36mhandle_request\u001b[0;34m(self, request)\u001b[0m\n\u001b[1;32m    234\u001b[0m                 \u001b[0;32mtry\u001b[0m\u001b[0;34m:\u001b[0m\u001b[0;34m\u001b[0m\u001b[0;34m\u001b[0m\u001b[0m\n\u001b[1;32m    235\u001b[0m                     \u001b[0;31m# Send the request on the assigned connection.\u001b[0m\u001b[0;34m\u001b[0m\u001b[0;34m\u001b[0m\u001b[0m\n\u001b[0;32m--> 236\u001b[0;31m                     response = connection.handle_request(\n\u001b[0m\u001b[1;32m    237\u001b[0m                         \u001b[0mpool_request\u001b[0m\u001b[0;34m.\u001b[0m\u001b[0mrequest\u001b[0m\u001b[0;34m\u001b[0m\u001b[0;34m\u001b[0m\u001b[0m\n\u001b[1;32m    238\u001b[0m                     )\n",
            "\u001b[0;32m/usr/local/lib/python3.11/dist-packages/httpcore/_sync/connection.py\u001b[0m in \u001b[0;36mhandle_request\u001b[0;34m(self, request)\u001b[0m\n\u001b[1;32m    101\u001b[0m             \u001b[0;32mraise\u001b[0m \u001b[0mexc\u001b[0m\u001b[0;34m\u001b[0m\u001b[0;34m\u001b[0m\u001b[0m\n\u001b[1;32m    102\u001b[0m \u001b[0;34m\u001b[0m\u001b[0m\n\u001b[0;32m--> 103\u001b[0;31m         \u001b[0;32mreturn\u001b[0m \u001b[0mself\u001b[0m\u001b[0;34m.\u001b[0m\u001b[0m_connection\u001b[0m\u001b[0;34m.\u001b[0m\u001b[0mhandle_request\u001b[0m\u001b[0;34m(\u001b[0m\u001b[0mrequest\u001b[0m\u001b[0;34m)\u001b[0m\u001b[0;34m\u001b[0m\u001b[0;34m\u001b[0m\u001b[0m\n\u001b[0m\u001b[1;32m    104\u001b[0m \u001b[0;34m\u001b[0m\u001b[0m\n\u001b[1;32m    105\u001b[0m     \u001b[0;32mdef\u001b[0m \u001b[0m_connect\u001b[0m\u001b[0;34m(\u001b[0m\u001b[0mself\u001b[0m\u001b[0;34m,\u001b[0m \u001b[0mrequest\u001b[0m\u001b[0;34m:\u001b[0m \u001b[0mRequest\u001b[0m\u001b[0;34m)\u001b[0m \u001b[0;34m->\u001b[0m \u001b[0mNetworkStream\u001b[0m\u001b[0;34m:\u001b[0m\u001b[0;34m\u001b[0m\u001b[0;34m\u001b[0m\u001b[0m\n",
            "\u001b[0;32m/usr/local/lib/python3.11/dist-packages/httpcore/_sync/http11.py\u001b[0m in \u001b[0;36mhandle_request\u001b[0;34m(self, request)\u001b[0m\n\u001b[1;32m    134\u001b[0m                 \u001b[0;32mwith\u001b[0m \u001b[0mTrace\u001b[0m\u001b[0;34m(\u001b[0m\u001b[0;34m\"response_closed\"\u001b[0m\u001b[0;34m,\u001b[0m \u001b[0mlogger\u001b[0m\u001b[0;34m,\u001b[0m \u001b[0mrequest\u001b[0m\u001b[0;34m)\u001b[0m \u001b[0;32mas\u001b[0m \u001b[0mtrace\u001b[0m\u001b[0;34m:\u001b[0m\u001b[0;34m\u001b[0m\u001b[0;34m\u001b[0m\u001b[0m\n\u001b[1;32m    135\u001b[0m                     \u001b[0mself\u001b[0m\u001b[0;34m.\u001b[0m\u001b[0m_response_closed\u001b[0m\u001b[0;34m(\u001b[0m\u001b[0;34m)\u001b[0m\u001b[0;34m\u001b[0m\u001b[0;34m\u001b[0m\u001b[0m\n\u001b[0;32m--> 136\u001b[0;31m             \u001b[0;32mraise\u001b[0m \u001b[0mexc\u001b[0m\u001b[0;34m\u001b[0m\u001b[0;34m\u001b[0m\u001b[0m\n\u001b[0m\u001b[1;32m    137\u001b[0m \u001b[0;34m\u001b[0m\u001b[0m\n\u001b[1;32m    138\u001b[0m     \u001b[0;31m# Sending the request...\u001b[0m\u001b[0;34m\u001b[0m\u001b[0;34m\u001b[0m\u001b[0m\n",
            "\u001b[0;32m/usr/local/lib/python3.11/dist-packages/httpcore/_sync/http11.py\u001b[0m in \u001b[0;36mhandle_request\u001b[0;34m(self, request)\u001b[0m\n\u001b[1;32m    104\u001b[0m                     \u001b[0mheaders\u001b[0m\u001b[0;34m,\u001b[0m\u001b[0;34m\u001b[0m\u001b[0;34m\u001b[0m\u001b[0m\n\u001b[1;32m    105\u001b[0m                     \u001b[0mtrailing_data\u001b[0m\u001b[0;34m,\u001b[0m\u001b[0;34m\u001b[0m\u001b[0;34m\u001b[0m\u001b[0m\n\u001b[0;32m--> 106\u001b[0;31m                 ) = self._receive_response_headers(**kwargs)\n\u001b[0m\u001b[1;32m    107\u001b[0m                 trace.return_value = (\n\u001b[1;32m    108\u001b[0m                     \u001b[0mhttp_version\u001b[0m\u001b[0;34m,\u001b[0m\u001b[0;34m\u001b[0m\u001b[0;34m\u001b[0m\u001b[0m\n",
            "\u001b[0;32m/usr/local/lib/python3.11/dist-packages/httpcore/_sync/http11.py\u001b[0m in \u001b[0;36m_receive_response_headers\u001b[0;34m(self, request)\u001b[0m\n\u001b[1;32m    175\u001b[0m \u001b[0;34m\u001b[0m\u001b[0m\n\u001b[1;32m    176\u001b[0m         \u001b[0;32mwhile\u001b[0m \u001b[0;32mTrue\u001b[0m\u001b[0;34m:\u001b[0m\u001b[0;34m\u001b[0m\u001b[0;34m\u001b[0m\u001b[0m\n\u001b[0;32m--> 177\u001b[0;31m             \u001b[0mevent\u001b[0m \u001b[0;34m=\u001b[0m \u001b[0mself\u001b[0m\u001b[0;34m.\u001b[0m\u001b[0m_receive_event\u001b[0m\u001b[0;34m(\u001b[0m\u001b[0mtimeout\u001b[0m\u001b[0;34m=\u001b[0m\u001b[0mtimeout\u001b[0m\u001b[0;34m)\u001b[0m\u001b[0;34m\u001b[0m\u001b[0;34m\u001b[0m\u001b[0m\n\u001b[0m\u001b[1;32m    178\u001b[0m             \u001b[0;32mif\u001b[0m \u001b[0misinstance\u001b[0m\u001b[0;34m(\u001b[0m\u001b[0mevent\u001b[0m\u001b[0;34m,\u001b[0m \u001b[0mh11\u001b[0m\u001b[0;34m.\u001b[0m\u001b[0mResponse\u001b[0m\u001b[0;34m)\u001b[0m\u001b[0;34m:\u001b[0m\u001b[0;34m\u001b[0m\u001b[0;34m\u001b[0m\u001b[0m\n\u001b[1;32m    179\u001b[0m                 \u001b[0;32mbreak\u001b[0m\u001b[0;34m\u001b[0m\u001b[0;34m\u001b[0m\u001b[0m\n",
            "\u001b[0;32m/usr/local/lib/python3.11/dist-packages/httpcore/_sync/http11.py\u001b[0m in \u001b[0;36m_receive_event\u001b[0;34m(self, timeout)\u001b[0m\n\u001b[1;32m    215\u001b[0m \u001b[0;34m\u001b[0m\u001b[0m\n\u001b[1;32m    216\u001b[0m             \u001b[0;32mif\u001b[0m \u001b[0mevent\u001b[0m \u001b[0;32mis\u001b[0m \u001b[0mh11\u001b[0m\u001b[0;34m.\u001b[0m\u001b[0mNEED_DATA\u001b[0m\u001b[0;34m:\u001b[0m\u001b[0;34m\u001b[0m\u001b[0;34m\u001b[0m\u001b[0m\n\u001b[0;32m--> 217\u001b[0;31m                 data = self._network_stream.read(\n\u001b[0m\u001b[1;32m    218\u001b[0m                     \u001b[0mself\u001b[0m\u001b[0;34m.\u001b[0m\u001b[0mREAD_NUM_BYTES\u001b[0m\u001b[0;34m,\u001b[0m \u001b[0mtimeout\u001b[0m\u001b[0;34m=\u001b[0m\u001b[0mtimeout\u001b[0m\u001b[0;34m\u001b[0m\u001b[0;34m\u001b[0m\u001b[0m\n\u001b[1;32m    219\u001b[0m                 )\n",
            "\u001b[0;32m/usr/local/lib/python3.11/dist-packages/httpcore/_backends/sync.py\u001b[0m in \u001b[0;36mread\u001b[0;34m(self, max_bytes, timeout)\u001b[0m\n\u001b[1;32m    126\u001b[0m         \u001b[0;32mwith\u001b[0m \u001b[0mmap_exceptions\u001b[0m\u001b[0;34m(\u001b[0m\u001b[0mexc_map\u001b[0m\u001b[0;34m)\u001b[0m\u001b[0;34m:\u001b[0m\u001b[0;34m\u001b[0m\u001b[0;34m\u001b[0m\u001b[0m\n\u001b[1;32m    127\u001b[0m             \u001b[0mself\u001b[0m\u001b[0;34m.\u001b[0m\u001b[0m_sock\u001b[0m\u001b[0;34m.\u001b[0m\u001b[0msettimeout\u001b[0m\u001b[0;34m(\u001b[0m\u001b[0mtimeout\u001b[0m\u001b[0;34m)\u001b[0m\u001b[0;34m\u001b[0m\u001b[0;34m\u001b[0m\u001b[0m\n\u001b[0;32m--> 128\u001b[0;31m             \u001b[0;32mreturn\u001b[0m \u001b[0mself\u001b[0m\u001b[0;34m.\u001b[0m\u001b[0m_sock\u001b[0m\u001b[0;34m.\u001b[0m\u001b[0mrecv\u001b[0m\u001b[0;34m(\u001b[0m\u001b[0mmax_bytes\u001b[0m\u001b[0;34m)\u001b[0m\u001b[0;34m\u001b[0m\u001b[0;34m\u001b[0m\u001b[0m\n\u001b[0m\u001b[1;32m    129\u001b[0m \u001b[0;34m\u001b[0m\u001b[0m\n\u001b[1;32m    130\u001b[0m     \u001b[0;32mdef\u001b[0m \u001b[0mwrite\u001b[0m\u001b[0;34m(\u001b[0m\u001b[0mself\u001b[0m\u001b[0;34m,\u001b[0m \u001b[0mbuffer\u001b[0m\u001b[0;34m:\u001b[0m \u001b[0mbytes\u001b[0m\u001b[0;34m,\u001b[0m \u001b[0mtimeout\u001b[0m\u001b[0;34m:\u001b[0m \u001b[0mfloat\u001b[0m \u001b[0;34m|\u001b[0m \u001b[0;32mNone\u001b[0m \u001b[0;34m=\u001b[0m \u001b[0;32mNone\u001b[0m\u001b[0;34m)\u001b[0m \u001b[0;34m->\u001b[0m \u001b[0;32mNone\u001b[0m\u001b[0;34m:\u001b[0m\u001b[0;34m\u001b[0m\u001b[0;34m\u001b[0m\u001b[0m\n",
            "\u001b[0;32m/usr/lib/python3.11/ssl.py\u001b[0m in \u001b[0;36mrecv\u001b[0;34m(self, buflen, flags)\u001b[0m\n\u001b[1;32m   1293\u001b[0m                     \u001b[0;34m\"non-zero flags not allowed in calls to recv() on %s\"\u001b[0m \u001b[0;34m%\u001b[0m\u001b[0;34m\u001b[0m\u001b[0;34m\u001b[0m\u001b[0m\n\u001b[1;32m   1294\u001b[0m                     self.__class__)\n\u001b[0;32m-> 1295\u001b[0;31m             \u001b[0;32mreturn\u001b[0m \u001b[0mself\u001b[0m\u001b[0;34m.\u001b[0m\u001b[0mread\u001b[0m\u001b[0;34m(\u001b[0m\u001b[0mbuflen\u001b[0m\u001b[0;34m)\u001b[0m\u001b[0;34m\u001b[0m\u001b[0;34m\u001b[0m\u001b[0m\n\u001b[0m\u001b[1;32m   1296\u001b[0m         \u001b[0;32melse\u001b[0m\u001b[0;34m:\u001b[0m\u001b[0;34m\u001b[0m\u001b[0;34m\u001b[0m\u001b[0m\n\u001b[1;32m   1297\u001b[0m             \u001b[0;32mreturn\u001b[0m \u001b[0msuper\u001b[0m\u001b[0;34m(\u001b[0m\u001b[0;34m)\u001b[0m\u001b[0;34m.\u001b[0m\u001b[0mrecv\u001b[0m\u001b[0;34m(\u001b[0m\u001b[0mbuflen\u001b[0m\u001b[0;34m,\u001b[0m \u001b[0mflags\u001b[0m\u001b[0;34m)\u001b[0m\u001b[0;34m\u001b[0m\u001b[0;34m\u001b[0m\u001b[0m\n",
            "\u001b[0;32m/usr/lib/python3.11/ssl.py\u001b[0m in \u001b[0;36mread\u001b[0;34m(self, len, buffer)\u001b[0m\n\u001b[1;32m   1166\u001b[0m                 \u001b[0;32mreturn\u001b[0m \u001b[0mself\u001b[0m\u001b[0;34m.\u001b[0m\u001b[0m_sslobj\u001b[0m\u001b[0;34m.\u001b[0m\u001b[0mread\u001b[0m\u001b[0;34m(\u001b[0m\u001b[0mlen\u001b[0m\u001b[0;34m,\u001b[0m \u001b[0mbuffer\u001b[0m\u001b[0;34m)\u001b[0m\u001b[0;34m\u001b[0m\u001b[0;34m\u001b[0m\u001b[0m\n\u001b[1;32m   1167\u001b[0m             \u001b[0;32melse\u001b[0m\u001b[0;34m:\u001b[0m\u001b[0;34m\u001b[0m\u001b[0;34m\u001b[0m\u001b[0m\n\u001b[0;32m-> 1168\u001b[0;31m                 \u001b[0;32mreturn\u001b[0m \u001b[0mself\u001b[0m\u001b[0;34m.\u001b[0m\u001b[0m_sslobj\u001b[0m\u001b[0;34m.\u001b[0m\u001b[0mread\u001b[0m\u001b[0;34m(\u001b[0m\u001b[0mlen\u001b[0m\u001b[0;34m)\u001b[0m\u001b[0;34m\u001b[0m\u001b[0;34m\u001b[0m\u001b[0m\n\u001b[0m\u001b[1;32m   1169\u001b[0m         \u001b[0;32mexcept\u001b[0m \u001b[0mSSLError\u001b[0m \u001b[0;32mas\u001b[0m \u001b[0mx\u001b[0m\u001b[0;34m:\u001b[0m\u001b[0;34m\u001b[0m\u001b[0;34m\u001b[0m\u001b[0m\n\u001b[1;32m   1170\u001b[0m             \u001b[0;32mif\u001b[0m \u001b[0mx\u001b[0m\u001b[0;34m.\u001b[0m\u001b[0margs\u001b[0m\u001b[0;34m[\u001b[0m\u001b[0;36m0\u001b[0m\u001b[0;34m]\u001b[0m \u001b[0;34m==\u001b[0m \u001b[0mSSL_ERROR_EOF\u001b[0m \u001b[0;32mand\u001b[0m \u001b[0mself\u001b[0m\u001b[0;34m.\u001b[0m\u001b[0msuppress_ragged_eofs\u001b[0m\u001b[0;34m:\u001b[0m\u001b[0;34m\u001b[0m\u001b[0;34m\u001b[0m\u001b[0m\n",
            "\u001b[0;31mKeyboardInterrupt\u001b[0m: "
          ]
        }
      ],
      "source": [
        "# generate GPT sentiment predictions once on the full dataset in batches\n",
        "\n",
        "import openai\n",
        "import os\n",
        "import pandas as pd\n",
        "from tqdm import tqdm\n",
        "from google.colab import userdata\n",
        "\n",
        "api_key = userdata.get('SECRET_KEY')\n",
        "client = openai.OpenAI(api_key=api_key)\n",
        "\n",
        "# load full dataset with reviews\n",
        "data_path = \"/content/drive/MyDrive/stopword_removed_data_v1.csv\"\n",
        "df = pd.read_csv(data_path)\n",
        "reviews = df[\"review_body\"]  # only reviews are passed in batches to gpt model for s.classification\n",
        "\n",
        "# set gpt batch size\n",
        "batch_size = 5\n",
        "\n",
        "# func to create batch prompts\n",
        "def create_batch_prompts(reviews, batch_size=5):\n",
        "    for i in range(0, len(reviews), batch_size):\n",
        "        batch = reviews[i:i+batch_size]\n",
        "        yield {idx: review for idx, review in batch.items()}\n",
        "\n",
        "# func to create a prompt from a batch dictionary of reviews\n",
        "def create_prompt(batch_dict):\n",
        "    prompt = \"Classify sentiment (Positive or Negative). If review seems ambiguous or neutral, infer based on subtle positive or negative clues in wording:\\n\"\n",
        "    for i, (idx, review) in enumerate(batch_dict.items(), 1):\n",
        "        prompt += f\"{i}. {review}\\n\"\n",
        "    prompt += \"\\nRespond in the format: 1. Positive, 2. Negative, ...\"\n",
        "    return prompt\n",
        "\n",
        "# funct to call gpt & get sentiment for a batch prompt\n",
        "def batch_sentiment(prompt, batch_size):\n",
        "    try:\n",
        "        response = client.chat.completions.create(\n",
        "            model=\"gpt-3.5-turbo\",\n",
        "            messages=[{\"role\": \"user\", \"content\": prompt}],\n",
        "            temperature=0,\n",
        "            max_tokens=batch_size * 10,\n",
        "        )\n",
        "        return response.choices[0].message.content.strip()\n",
        "    except Exception as e:\n",
        "        print(f\"Error calling GPT: {e}\")\n",
        "        return None\n",
        "\n",
        "# dictionary to store results\n",
        "sentiment_results = {}\n",
        "\n",
        "# run gpt on batches\n",
        "for batch_dict in tqdm(create_batch_prompts(reviews, batch_size=batch_size), total=(len(df) // batch_size) + 1):\n",
        "    prompt = create_prompt(batch_dict)\n",
        "    output = batch_sentiment(prompt, batch_size)\n",
        "\n",
        "    if output:\n",
        "        # split output by comma or newline\n",
        "        if \", \" in output:\n",
        "            results = output.split(\", \")\n",
        "        else:\n",
        "            results = [line.strip() for line in output.strip().split(\"\\n\") if line.strip()]\n",
        "\n",
        "        for i, (idx, _) in enumerate(batch_dict.items()):\n",
        "            if i < len(results):\n",
        "                parts = results[i].split(\". \")\n",
        "                sentiment = parts[1].strip() if len(parts) == 2 else results[i].strip()\n",
        "                sentiment_results[idx] = sentiment\n",
        "\n",
        "# add gpt sentiment to dataframe & keep only required columns\n",
        "df['gpt_sentiment'] = df.index.map(sentiment_results)\n",
        "df = df[['review_body', 'star_rating_label', 'gpt_sentiment']]\n",
        "\n",
        "# save dataframe with GPT sentiments\n",
        "output_path = \"/content/drive/MyDrive/full_dataset_with_gpt_sentiment.csv\"\n",
        "df.to_csv(output_path, index=False)\n",
        "\n",
        "print(f\"\\nGPT sentiment classification complete. Results saved to: {output_path}\")"
      ]
    },
    {
      "cell_type": "markdown",
      "metadata": {
        "id": "OzKuH6tSdUby"
      },
      "source": [
        "### **Train-test split for 3 proportions**"
      ]
    },
    {
      "cell_type": "code",
      "execution_count": null,
      "metadata": {
        "colab": {
          "base_uri": "https://localhost:8080/"
        },
        "id": "EyQf-kkldU59",
        "outputId": "726730d2-13b7-44fe-d7ab-a138a22a9882"
      },
      "outputs": [
        {
          "output_type": "stream",
          "name": "stdout",
          "text": [
            "Splitted into train and test data. Results saved to: /content/drive/MyDrive/train_data_v1_70_30.csv and /content/drive/MyDrive/test_data_v1_70_30.csv\n",
            "Splitted into train and test data. Results saved to: /content/drive/MyDrive/train_data_v1_80_20.csv and /content/drive/MyDrive/test_data_v1_80_20.csv\n",
            "Splitted into train and test data. Results saved to: /content/drive/MyDrive/train_data_v1_60_40.csv and /content/drive/MyDrive/test_data_v1_60_40.csv\n"
          ]
        }
      ],
      "source": [
        "import pandas as pd\n",
        "from sklearn.model_selection import train_test_split\n",
        "\n",
        "df = pd.read_csv('/content/drive/MyDrive/full_dataset_with_gpt_sentiment.csv')\n",
        "\n",
        "star_df = pd.read_csv('/content/drive/MyDrive/amazon_mobile_electronics.csv')\n",
        "df = df.merge(star_df[['review_body', 'star_rating']], on='review_body', how='left')\n",
        "\n",
        "# normalize gpt sentiment\n",
        "df['gpt_sentiment_clean'] = df['gpt_sentiment'].str.lower().str.strip('.').str.strip()\n",
        "df['True'] = df['star_rating_label'].map({'negative': 0, 'positive': 1})\n",
        "df['Predicted'] = df['gpt_sentiment_clean'].map({'negative': 0, 'positive': 1}).fillna(0)\n",
        "\n",
        "# define split ratios\n",
        "splits = {\n",
        "    \"70_30\": 0.3,\n",
        "    \"80_20\": 0.2,\n",
        "    \"60_40\": 0.4\n",
        "}\n",
        "\n",
        "for name, test_size in splits.items():\n",
        "    # split using stratified sampling\n",
        "    train_df, test_df = train_test_split(df, test_size=test_size, stratify=df['True'], random_state=42)\n",
        "\n",
        "    # drop star_rating column from train set\n",
        "    train_df_nostar = train_df.drop(columns=[\"star_rating\"], errors='ignore')\n",
        "\n",
        "    # save train (no star_rating) and test (with star_rating)\n",
        "    output_path1 = f\"/content/drive/MyDrive/train_data_v1_{name}.csv\"\n",
        "    output_path2 = f\"/content/drive/MyDrive/test_data_v1_{name}.csv\"\n",
        "    train_df_nostar.to_csv(output_path1, index=False)\n",
        "    test_df.to_csv(output_path2, index=False)\n",
        "\n",
        "    print(f\"Splitted into train and test data. Results saved to: {output_path1} and {output_path2}\")"
      ]
    },
    {
      "cell_type": "markdown",
      "metadata": {
        "id": "-B4laYjtVDH5"
      },
      "source": [
        "### **Model evaluation for 3 data splits**"
      ]
    },
    {
      "cell_type": "code",
      "execution_count": null,
      "metadata": {
        "colab": {
          "base_uri": "https://localhost:8080/"
        },
        "id": "jaxasOQAao8g",
        "outputId": "485588e5-5478-4ead-869c-cd8ffa52e9a8"
      },
      "outputs": [
        {
          "output_type": "stream",
          "name": "stdout",
          "text": [
            "\n",
            "70:30 Split Evaluation\n",
            "Accuracy : 0.8973\n",
            "Precision: 0.9689\n",
            "Recall   : 0.8736\n",
            "F1 Score : 0.9188\n",
            "Star rating available in test set for reference.\n",
            "-------------------------------------------------------\n",
            "\n",
            "80:20 Split Evaluation\n",
            "Accuracy : 0.8930\n",
            "Precision: 0.9666\n",
            "Recall   : 0.8692\n",
            "F1 Score : 0.9153\n",
            "Star rating available in test set for reference.\n",
            "-------------------------------------------------------\n",
            "\n",
            "60:40 Split Evaluation\n",
            "Accuracy : 0.8970\n",
            "Precision: 0.9707\n",
            "Recall   : 0.8714\n",
            "F1 Score : 0.9184\n",
            "Star rating available in test set for reference.\n",
            "-------------------------------------------------------\n"
          ]
        }
      ],
      "source": [
        "import pandas as pd\n",
        "from sklearn.metrics import accuracy_score, precision_score, recall_score, f1_score\n",
        "\n",
        "splits = {\n",
        "    \"70_30\": 0.3,\n",
        "    \"80_20\": 0.2,\n",
        "    \"60_40\": 0.4\n",
        "}\n",
        "\n",
        "for name in splits:\n",
        "    # load test set\n",
        "    test = pd.read_csv(f\"/content/drive/MyDrive/test_data_v1_{name}.csv\")\n",
        "\n",
        "    # map predictions again\n",
        "    test['True'] = test['star_rating_label'].map({'negative': 0, 'positive': 1})\n",
        "    test['gpt_sentiment_clean'] = test['gpt_sentiment'].str.lower().str.strip('.').str.strip()\n",
        "    test['Predicted'] = test['gpt_sentiment_clean'].map({'negative': 0, 'positive': 1}).fillna(0)\n",
        "\n",
        "    # evaluation metrics\n",
        "    accuracy = accuracy_score(test['True'], test['Predicted'])\n",
        "    precision = precision_score(test['True'], test['Predicted'], pos_label=1)\n",
        "    recall = recall_score(test['True'], test['Predicted'], pos_label=1)\n",
        "    f1 = f1_score(test['True'], test['Predicted'], pos_label=1)\n",
        "\n",
        "    print(f\"\\n{name.replace('_', ':')} Split Evaluation\")\n",
        "    print(f\"Accuracy : {accuracy:.4f}\")\n",
        "    print(f\"Precision: {precision:.4f}\")\n",
        "    print(f\"Recall   : {recall:.4f}\")\n",
        "    print(f\"F1 Score : {f1:.4f}\")\n",
        "    print(f\"Star rating available in test set for reference.\")\n",
        "    print(\"-\" * 55)"
      ]
    },
    {
      "cell_type": "markdown",
      "metadata": {
        "id": "8aWw7l--P-cf"
      },
      "source": [
        "### **Improved Approach for Randomness Determined by the Random State Value**"
      ]
    },
    {
      "cell_type": "markdown",
      "metadata": {
        "id": "sWfkR3YRq6L8"
      },
      "source": [
        "### **Re-evaluating: Repeat 3 data splits with different random state value & model evaluation**"
      ]
    },
    {
      "cell_type": "code",
      "execution_count": null,
      "metadata": {
        "colab": {
          "base_uri": "https://localhost:8080/"
        },
        "id": "npcwKMGIq6oc",
        "outputId": "a8f23010-d2d2-4d67-923d-cd703a917ca3"
      },
      "outputs": [
        {
          "output_type": "stream",
          "name": "stdout",
          "text": [
            "\n",
            "70:30 Split Evaluation\n",
            "Average Accuracy: 0.8971\n",
            "Average Precision: 0.9721\n",
            "Average Recall: 0.8701\n",
            "Average F1-score: 0.9183\n",
            "\n",
            "Seed with closest F1 to average for confusion matrix: Seed 1, F1=0.9180\n",
            "\n",
            "Metrics for Seed 1:\n",
            "Accuracy:  0.8873\n",
            "Precision: 0.9683\n",
            "Recall:    0.8586\n",
            "F1-score:  0.9102\n",
            "----------------------------------------\n",
            "\n",
            "80:20 Split Evaluation\n",
            "Average Accuracy: 0.8977\n",
            "Average Precision: 0.9734\n",
            "Average Recall: 0.8699\n",
            "Average F1-score: 0.9187\n",
            "\n",
            "Seed with closest F1 to average for confusion matrix: Seed 8, F1=0.9182\n",
            "\n",
            "Metrics for Seed 8:\n",
            "Accuracy:  0.8930\n",
            "Precision: 0.9681\n",
            "Recall:    0.8677\n",
            "F1-score:  0.9151\n",
            "----------------------------------------\n",
            "\n",
            "60:40 Split Evaluation\n",
            "Average Accuracy: 0.8975\n",
            "Average Precision: 0.9725\n",
            "Average Recall: 0.8705\n",
            "Average F1-score: 0.9187\n",
            "\n",
            "Seed with closest F1 to average for confusion matrix: Seed 5, F1=0.9178\n",
            "\n",
            "Metrics for Seed 5:\n",
            "Accuracy:  0.8965\n",
            "Precision: 0.9730\n",
            "Recall:    0.8684\n",
            "F1-score:  0.9178\n",
            "----------------------------------------\n"
          ]
        }
      ],
      "source": [
        "import os\n",
        "import pandas as pd\n",
        "from sklearn.model_selection import train_test_split\n",
        "from sklearn.metrics import accuracy_score, precision_score, recall_score, f1_score\n",
        "\n",
        "# load full dataset with gpt sentiment predictions already done\n",
        "df = pd.read_csv(\"/content/drive/MyDrive/full_dataset_with_gpt_sentiment.csv\")\n",
        "output_dir = \"/content/drive/MyDrive/model_evaluation_output\"\n",
        "os.makedirs(output_dir, exist_ok=True)\n",
        "\n",
        "# clean & map gpt sentiment\n",
        "df['gpt_sentiment_clean'] = df['gpt_sentiment'].str.lower().str.strip('.').str.strip()\n",
        "df['True'] = df['star_rating_label'].map({'negative': 0, 'positive': 1})\n",
        "df['Predicted'] = df['gpt_sentiment_clean'].map({'negative': 0, 'positive': 1})\n",
        "df['Predicted'] = df['Predicted'].fillna(0)  # handle any missing predictions\n",
        "\n",
        "splits = {\n",
        "    \"70_30\": 0.3,\n",
        "    \"80_20\": 0.2,\n",
        "    \"60_40\": 0.4\n",
        "}\n",
        "seeds = range(10)  # run 10 times with different random_state values\n",
        "\n",
        "for name, test_size in splits.items():\n",
        "    print(f\"\\n{name.replace('_', ':')} Split Evaluation\")\n",
        "    metrics = []\n",
        "\n",
        "    for seed in seeds:\n",
        "        train, test = train_test_split(df, test_size=test_size, random_state=seed, stratify=df['True'])\n",
        "\n",
        "        acc = accuracy_score(test['True'], test['Predicted'])\n",
        "        prec = precision_score(test['True'], test['Predicted'])\n",
        "        rec = recall_score(test['True'], test['Predicted'])\n",
        "        f1 = f1_score(test['True'], test['Predicted'])\n",
        "\n",
        "        metrics.append({\n",
        "            \"seed\": seed,\n",
        "            \"accuracy\": round(acc, 4),\n",
        "            \"precision\": round(prec, 4),\n",
        "            \"recall\": round(rec, 4),\n",
        "            \"f1\": round(f1, 4)\n",
        "        })\n",
        "\n",
        "        # save true & predicted values\n",
        "        output_path = os.path.join(output_dir, f\"{name}_split_seed_{seed}.csv\")\n",
        "        test[['True', 'Predicted']].to_csv(output_path, index=False)\n",
        "\n",
        "    # calc average\n",
        "    avg_acc = sum(m['accuracy'] for m in metrics) / len(metrics)\n",
        "    avg_prec = sum(m['precision'] for m in metrics) / len(metrics)\n",
        "    avg_rec = sum(m['recall'] for m in metrics) / len(metrics)\n",
        "    avg_f1 = sum(m['f1'] for m in metrics) / len(metrics)\n",
        "\n",
        "    print(f\"Average Accuracy: {avg_acc:.4f}\")\n",
        "    print(f\"Average Precision: {avg_prec:.4f}\")\n",
        "    print(f\"Average Recall: {avg_rec:.4f}\")\n",
        "    print(f\"Average F1-score: {avg_f1:.4f}\")\n",
        "\n",
        "    # find seed closest to avg F1\n",
        "    closest_seed = min(metrics, key=lambda x: abs(x['f1'] - avg_f1))\n",
        "    print(f\"\\nSeed with closest F1 to average for confusion matrix: Seed {closest_seed['seed']}, F1={closest_seed['f1']:.4f}\")\n",
        "\n",
        "    seed_5_metrics = next((m for m in metrics if m['seed'] == 5), None)\n",
        "    if seed_5_metrics:\n",
        "      print(f\"\\nMetrics for Seed {closest_seed['seed']}:\")\n",
        "      print(f\"Accuracy:  {seed_5_metrics['accuracy']:.4f}\")\n",
        "      print(f\"Precision: {seed_5_metrics['precision']:.4f}\")\n",
        "      print(f\"Recall:    {seed_5_metrics['recall']:.4f}\")\n",
        "      print(f\"F1-score:  {seed_5_metrics['f1']:.4f}\")\n",
        "\n",
        "    print(\"-\" * 40)"
      ]
    },
    {
      "cell_type": "markdown",
      "metadata": {
        "id": "SLVtEgRIyue2"
      },
      "source": [
        "### **Result Visualization**\n"
      ]
    },
    {
      "cell_type": "markdown",
      "source": [
        "### **Line Chart: Evaluation Metrics Across All Splits**"
      ],
      "metadata": {
        "id": "RD46tYfAktth"
      }
    },
    {
      "cell_type": "code",
      "execution_count": null,
      "metadata": {
        "colab": {
          "base_uri": "https://localhost:8080/",
          "height": 517
        },
        "id": "dxoUajuiSps3",
        "outputId": "a124bc84-7694-467e-8c0e-94f0dd1f5d59"
      },
      "outputs": [
        {
          "data": {
            "text/html": [
              "<html>\n",
              "<head><meta charset=\"utf-8\" /></head>\n",
              "<body>\n",
              "    <div>            <script src=\"https://cdnjs.cloudflare.com/ajax/libs/mathjax/2.7.5/MathJax.js?config=TeX-AMS-MML_SVG\"></script><script type=\"text/javascript\">if (window.MathJax && window.MathJax.Hub && window.MathJax.Hub.Config) {window.MathJax.Hub.Config({SVG: {font: \"STIX-Web\"}});}</script>                <script type=\"text/javascript\">window.PlotlyConfig = {MathJaxConfig: 'local'};</script>\n",
              "        <script charset=\"utf-8\" src=\"https://cdn.plot.ly/plotly-2.35.2.min.js\"></script>                <div id=\"0e4fce00-0a84-4343-a38f-03557a3a31f1\" class=\"plotly-graph-div\" style=\"height:500px; width:900px;\"></div>            <script type=\"text/javascript\">                                    window.PLOTLYENV=window.PLOTLYENV || {};                                    if (document.getElementById(\"0e4fce00-0a84-4343-a38f-03557a3a31f1\")) {                    Plotly.newPlot(                        \"0e4fce00-0a84-4343-a38f-03557a3a31f1\",                        [{\"mode\":\"lines+markers\",\"name\":\"Accuracy\",\"x\":[\"60:40\",\"70:30\",\"80:20\"],\"y\":[0.9029,0.9013,0.9038],\"type\":\"scatter\"},{\"mode\":\"lines+markers\",\"name\":\"Precision\",\"x\":[\"60:40\",\"70:30\",\"80:20\"],\"y\":[0.9652,0.9642,0.967],\"type\":\"scatter\"},{\"mode\":\"lines+markers\",\"name\":\"Recall\",\"x\":[\"60:40\",\"70:30\",\"80:20\"],\"y\":[0.8859,0.8844,0.8856],\"type\":\"scatter\"},{\"mode\":\"lines+markers\",\"name\":\"F1 Score\",\"x\":[\"60:40\",\"70:30\",\"80:20\"],\"y\":[0.9238,0.9225,0.9245],\"type\":\"scatter\"}],                        {\"template\":{\"data\":{\"barpolar\":[{\"marker\":{\"line\":{\"color\":\"white\",\"width\":0.5},\"pattern\":{\"fillmode\":\"overlay\",\"size\":10,\"solidity\":0.2}},\"type\":\"barpolar\"}],\"bar\":[{\"error_x\":{\"color\":\"#2a3f5f\"},\"error_y\":{\"color\":\"#2a3f5f\"},\"marker\":{\"line\":{\"color\":\"white\",\"width\":0.5},\"pattern\":{\"fillmode\":\"overlay\",\"size\":10,\"solidity\":0.2}},\"type\":\"bar\"}],\"carpet\":[{\"aaxis\":{\"endlinecolor\":\"#2a3f5f\",\"gridcolor\":\"#C8D4E3\",\"linecolor\":\"#C8D4E3\",\"minorgridcolor\":\"#C8D4E3\",\"startlinecolor\":\"#2a3f5f\"},\"baxis\":{\"endlinecolor\":\"#2a3f5f\",\"gridcolor\":\"#C8D4E3\",\"linecolor\":\"#C8D4E3\",\"minorgridcolor\":\"#C8D4E3\",\"startlinecolor\":\"#2a3f5f\"},\"type\":\"carpet\"}],\"choropleth\":[{\"colorbar\":{\"outlinewidth\":0,\"ticks\":\"\"},\"type\":\"choropleth\"}],\"contourcarpet\":[{\"colorbar\":{\"outlinewidth\":0,\"ticks\":\"\"},\"type\":\"contourcarpet\"}],\"contour\":[{\"colorbar\":{\"outlinewidth\":0,\"ticks\":\"\"},\"colorscale\":[[0.0,\"#0d0887\"],[0.1111111111111111,\"#46039f\"],[0.2222222222222222,\"#7201a8\"],[0.3333333333333333,\"#9c179e\"],[0.4444444444444444,\"#bd3786\"],[0.5555555555555556,\"#d8576b\"],[0.6666666666666666,\"#ed7953\"],[0.7777777777777778,\"#fb9f3a\"],[0.8888888888888888,\"#fdca26\"],[1.0,\"#f0f921\"]],\"type\":\"contour\"}],\"heatmapgl\":[{\"colorbar\":{\"outlinewidth\":0,\"ticks\":\"\"},\"colorscale\":[[0.0,\"#0d0887\"],[0.1111111111111111,\"#46039f\"],[0.2222222222222222,\"#7201a8\"],[0.3333333333333333,\"#9c179e\"],[0.4444444444444444,\"#bd3786\"],[0.5555555555555556,\"#d8576b\"],[0.6666666666666666,\"#ed7953\"],[0.7777777777777778,\"#fb9f3a\"],[0.8888888888888888,\"#fdca26\"],[1.0,\"#f0f921\"]],\"type\":\"heatmapgl\"}],\"heatmap\":[{\"colorbar\":{\"outlinewidth\":0,\"ticks\":\"\"},\"colorscale\":[[0.0,\"#0d0887\"],[0.1111111111111111,\"#46039f\"],[0.2222222222222222,\"#7201a8\"],[0.3333333333333333,\"#9c179e\"],[0.4444444444444444,\"#bd3786\"],[0.5555555555555556,\"#d8576b\"],[0.6666666666666666,\"#ed7953\"],[0.7777777777777778,\"#fb9f3a\"],[0.8888888888888888,\"#fdca26\"],[1.0,\"#f0f921\"]],\"type\":\"heatmap\"}],\"histogram2dcontour\":[{\"colorbar\":{\"outlinewidth\":0,\"ticks\":\"\"},\"colorscale\":[[0.0,\"#0d0887\"],[0.1111111111111111,\"#46039f\"],[0.2222222222222222,\"#7201a8\"],[0.3333333333333333,\"#9c179e\"],[0.4444444444444444,\"#bd3786\"],[0.5555555555555556,\"#d8576b\"],[0.6666666666666666,\"#ed7953\"],[0.7777777777777778,\"#fb9f3a\"],[0.8888888888888888,\"#fdca26\"],[1.0,\"#f0f921\"]],\"type\":\"histogram2dcontour\"}],\"histogram2d\":[{\"colorbar\":{\"outlinewidth\":0,\"ticks\":\"\"},\"colorscale\":[[0.0,\"#0d0887\"],[0.1111111111111111,\"#46039f\"],[0.2222222222222222,\"#7201a8\"],[0.3333333333333333,\"#9c179e\"],[0.4444444444444444,\"#bd3786\"],[0.5555555555555556,\"#d8576b\"],[0.6666666666666666,\"#ed7953\"],[0.7777777777777778,\"#fb9f3a\"],[0.8888888888888888,\"#fdca26\"],[1.0,\"#f0f921\"]],\"type\":\"histogram2d\"}],\"histogram\":[{\"marker\":{\"pattern\":{\"fillmode\":\"overlay\",\"size\":10,\"solidity\":0.2}},\"type\":\"histogram\"}],\"mesh3d\":[{\"colorbar\":{\"outlinewidth\":0,\"ticks\":\"\"},\"type\":\"mesh3d\"}],\"parcoords\":[{\"line\":{\"colorbar\":{\"outlinewidth\":0,\"ticks\":\"\"}},\"type\":\"parcoords\"}],\"pie\":[{\"automargin\":true,\"type\":\"pie\"}],\"scatter3d\":[{\"line\":{\"colorbar\":{\"outlinewidth\":0,\"ticks\":\"\"}},\"marker\":{\"colorbar\":{\"outlinewidth\":0,\"ticks\":\"\"}},\"type\":\"scatter3d\"}],\"scattercarpet\":[{\"marker\":{\"colorbar\":{\"outlinewidth\":0,\"ticks\":\"\"}},\"type\":\"scattercarpet\"}],\"scattergeo\":[{\"marker\":{\"colorbar\":{\"outlinewidth\":0,\"ticks\":\"\"}},\"type\":\"scattergeo\"}],\"scattergl\":[{\"marker\":{\"colorbar\":{\"outlinewidth\":0,\"ticks\":\"\"}},\"type\":\"scattergl\"}],\"scattermapbox\":[{\"marker\":{\"colorbar\":{\"outlinewidth\":0,\"ticks\":\"\"}},\"type\":\"scattermapbox\"}],\"scatterpolargl\":[{\"marker\":{\"colorbar\":{\"outlinewidth\":0,\"ticks\":\"\"}},\"type\":\"scatterpolargl\"}],\"scatterpolar\":[{\"marker\":{\"colorbar\":{\"outlinewidth\":0,\"ticks\":\"\"}},\"type\":\"scatterpolar\"}],\"scatter\":[{\"fillpattern\":{\"fillmode\":\"overlay\",\"size\":10,\"solidity\":0.2},\"type\":\"scatter\"}],\"scatterternary\":[{\"marker\":{\"colorbar\":{\"outlinewidth\":0,\"ticks\":\"\"}},\"type\":\"scatterternary\"}],\"surface\":[{\"colorbar\":{\"outlinewidth\":0,\"ticks\":\"\"},\"colorscale\":[[0.0,\"#0d0887\"],[0.1111111111111111,\"#46039f\"],[0.2222222222222222,\"#7201a8\"],[0.3333333333333333,\"#9c179e\"],[0.4444444444444444,\"#bd3786\"],[0.5555555555555556,\"#d8576b\"],[0.6666666666666666,\"#ed7953\"],[0.7777777777777778,\"#fb9f3a\"],[0.8888888888888888,\"#fdca26\"],[1.0,\"#f0f921\"]],\"type\":\"surface\"}],\"table\":[{\"cells\":{\"fill\":{\"color\":\"#EBF0F8\"},\"line\":{\"color\":\"white\"}},\"header\":{\"fill\":{\"color\":\"#C8D4E3\"},\"line\":{\"color\":\"white\"}},\"type\":\"table\"}]},\"layout\":{\"annotationdefaults\":{\"arrowcolor\":\"#2a3f5f\",\"arrowhead\":0,\"arrowwidth\":1},\"autotypenumbers\":\"strict\",\"coloraxis\":{\"colorbar\":{\"outlinewidth\":0,\"ticks\":\"\"}},\"colorscale\":{\"diverging\":[[0,\"#8e0152\"],[0.1,\"#c51b7d\"],[0.2,\"#de77ae\"],[0.3,\"#f1b6da\"],[0.4,\"#fde0ef\"],[0.5,\"#f7f7f7\"],[0.6,\"#e6f5d0\"],[0.7,\"#b8e186\"],[0.8,\"#7fbc41\"],[0.9,\"#4d9221\"],[1,\"#276419\"]],\"sequential\":[[0.0,\"#0d0887\"],[0.1111111111111111,\"#46039f\"],[0.2222222222222222,\"#7201a8\"],[0.3333333333333333,\"#9c179e\"],[0.4444444444444444,\"#bd3786\"],[0.5555555555555556,\"#d8576b\"],[0.6666666666666666,\"#ed7953\"],[0.7777777777777778,\"#fb9f3a\"],[0.8888888888888888,\"#fdca26\"],[1.0,\"#f0f921\"]],\"sequentialminus\":[[0.0,\"#0d0887\"],[0.1111111111111111,\"#46039f\"],[0.2222222222222222,\"#7201a8\"],[0.3333333333333333,\"#9c179e\"],[0.4444444444444444,\"#bd3786\"],[0.5555555555555556,\"#d8576b\"],[0.6666666666666666,\"#ed7953\"],[0.7777777777777778,\"#fb9f3a\"],[0.8888888888888888,\"#fdca26\"],[1.0,\"#f0f921\"]]},\"colorway\":[\"#636efa\",\"#EF553B\",\"#00cc96\",\"#ab63fa\",\"#FFA15A\",\"#19d3f3\",\"#FF6692\",\"#B6E880\",\"#FF97FF\",\"#FECB52\"],\"font\":{\"color\":\"#2a3f5f\"},\"geo\":{\"bgcolor\":\"white\",\"lakecolor\":\"white\",\"landcolor\":\"white\",\"showlakes\":true,\"showland\":true,\"subunitcolor\":\"#C8D4E3\"},\"hoverlabel\":{\"align\":\"left\"},\"hovermode\":\"closest\",\"mapbox\":{\"style\":\"light\"},\"paper_bgcolor\":\"white\",\"plot_bgcolor\":\"white\",\"polar\":{\"angularaxis\":{\"gridcolor\":\"#EBF0F8\",\"linecolor\":\"#EBF0F8\",\"ticks\":\"\"},\"bgcolor\":\"white\",\"radialaxis\":{\"gridcolor\":\"#EBF0F8\",\"linecolor\":\"#EBF0F8\",\"ticks\":\"\"}},\"scene\":{\"xaxis\":{\"backgroundcolor\":\"white\",\"gridcolor\":\"#DFE8F3\",\"gridwidth\":2,\"linecolor\":\"#EBF0F8\",\"showbackground\":true,\"ticks\":\"\",\"zerolinecolor\":\"#EBF0F8\"},\"yaxis\":{\"backgroundcolor\":\"white\",\"gridcolor\":\"#DFE8F3\",\"gridwidth\":2,\"linecolor\":\"#EBF0F8\",\"showbackground\":true,\"ticks\":\"\",\"zerolinecolor\":\"#EBF0F8\"},\"zaxis\":{\"backgroundcolor\":\"white\",\"gridcolor\":\"#DFE8F3\",\"gridwidth\":2,\"linecolor\":\"#EBF0F8\",\"showbackground\":true,\"ticks\":\"\",\"zerolinecolor\":\"#EBF0F8\"}},\"shapedefaults\":{\"line\":{\"color\":\"#2a3f5f\"}},\"ternary\":{\"aaxis\":{\"gridcolor\":\"#DFE8F3\",\"linecolor\":\"#A2B1C6\",\"ticks\":\"\"},\"baxis\":{\"gridcolor\":\"#DFE8F3\",\"linecolor\":\"#A2B1C6\",\"ticks\":\"\"},\"bgcolor\":\"white\",\"caxis\":{\"gridcolor\":\"#DFE8F3\",\"linecolor\":\"#A2B1C6\",\"ticks\":\"\"}},\"title\":{\"x\":0.05},\"xaxis\":{\"automargin\":true,\"gridcolor\":\"#EBF0F8\",\"linecolor\":\"#EBF0F8\",\"ticks\":\"\",\"title\":{\"standoff\":15},\"zerolinecolor\":\"#EBF0F8\",\"zerolinewidth\":2},\"yaxis\":{\"automargin\":true,\"gridcolor\":\"#EBF0F8\",\"linecolor\":\"#EBF0F8\",\"ticks\":\"\",\"title\":{\"standoff\":15},\"zerolinecolor\":\"#EBF0F8\",\"zerolinewidth\":2}}},\"yaxis\":{\"title\":{\"text\":\"Score\"},\"range\":[0.85,1.0]},\"legend\":{\"x\":1.1,\"y\":0.05},\"title\":{\"text\":\"Model Evaluation Metrics by Split\"},\"xaxis\":{\"title\":{\"text\":\"Train-Test Split\"}},\"width\":900,\"height\":500},                        {\"responsive\": true}                    ).then(function(){\n",
              "                            \n",
              "var gd = document.getElementById('0e4fce00-0a84-4343-a38f-03557a3a31f1');\n",
              "var x = new MutationObserver(function (mutations, observer) {{\n",
              "        var display = window.getComputedStyle(gd).display;\n",
              "        if (!display || display === 'none') {{\n",
              "            console.log([gd, 'removed!']);\n",
              "            Plotly.purge(gd);\n",
              "            observer.disconnect();\n",
              "        }}\n",
              "}});\n",
              "\n",
              "// Listen for the removal of the full notebook cells\n",
              "var notebookContainer = gd.closest('#notebook-container');\n",
              "if (notebookContainer) {{\n",
              "    x.observe(notebookContainer, {childList: true});\n",
              "}}\n",
              "\n",
              "// Listen for the clearing of the current output cell\n",
              "var outputEl = gd.closest('.output');\n",
              "if (outputEl) {{\n",
              "    x.observe(outputEl, {childList: true});\n",
              "}}\n",
              "\n",
              "                        })                };                            </script>        </div>\n",
              "</body>\n",
              "</html>"
            ]
          },
          "metadata": {},
          "output_type": "display_data"
        }
      ],
      "source": [
        "import plotly.graph_objects as go\n",
        "\n",
        "splits = ['60:40', '70:30', '80:20']\n",
        "accuracies = [0.9029, 0.9013, 0.9038]\n",
        "precisions = [0.9652, 0.9642, 0.9670]\n",
        "recalls = [0.8859, 0.8844, 0.8856]\n",
        "f1s = [0.9238, 0.9225, 0.9245]\n",
        "\n",
        "fig = go.Figure()\n",
        "\n",
        "# add lines with markers for each metric\n",
        "fig.add_trace(go.Scatter(x=splits, y=accuracies, mode='lines+markers', name='Accuracy'))\n",
        "fig.add_trace(go.Scatter(x=splits, y=precisions, mode='lines+markers', name='Precision'))\n",
        "fig.add_trace(go.Scatter(x=splits, y=recalls, mode='lines+markers', name='Recall'))\n",
        "fig.add_trace(go.Scatter(x=splits, y=f1s, mode='lines+markers', name='F1 Score'))\n",
        "\n",
        "fig.update_layout(\n",
        "    title='Model Evaluation Metrics by Split',\n",
        "    xaxis_title='Train-Test Split',\n",
        "    yaxis_title='Score',\n",
        "    yaxis=dict(range=[0.85, 1.0]),   # sets the range of y-axis from 0.85 - 1.0\n",
        "    width=900,     # in pixels\n",
        "    height=500,\n",
        "    legend=dict(x=1.1, y=0.05),      # controls position of the legend, x: place at fat right edge, y: place 5% from bottom\n",
        "    template='plotly_white'\n",
        ")\n",
        "\n",
        "fig.show()"
      ]
    },
    {
      "cell_type": "markdown",
      "metadata": {
        "id": "lBIMykIFS-tV"
      },
      "source": [
        "### **Interactive Hoverable Bar Chart**"
      ]
    },
    {
      "cell_type": "code",
      "execution_count": null,
      "metadata": {
        "colab": {
          "base_uri": "https://localhost:8080/",
          "height": 542
        },
        "id": "ULJAEEVpyV6U",
        "outputId": "bc20239a-1380-4343-91aa-64d20f8640ab"
      },
      "outputs": [
        {
          "data": {
            "text/html": [
              "<html>\n",
              "<head><meta charset=\"utf-8\" /></head>\n",
              "<body>\n",
              "    <div>            <script src=\"https://cdnjs.cloudflare.com/ajax/libs/mathjax/2.7.5/MathJax.js?config=TeX-AMS-MML_SVG\"></script><script type=\"text/javascript\">if (window.MathJax && window.MathJax.Hub && window.MathJax.Hub.Config) {window.MathJax.Hub.Config({SVG: {font: \"STIX-Web\"}});}</script>                <script type=\"text/javascript\">window.PlotlyConfig = {MathJaxConfig: 'local'};</script>\n",
              "        <script charset=\"utf-8\" src=\"https://cdn.plot.ly/plotly-2.35.2.min.js\"></script>                <div id=\"d46abb4e-cf01-49c2-a30f-82b9d218245e\" class=\"plotly-graph-div\" style=\"height:525px; width:100%;\"></div>            <script type=\"text/javascript\">                                    window.PLOTLYENV=window.PLOTLYENV || {};                                    if (document.getElementById(\"d46abb4e-cf01-49c2-a30f-82b9d218245e\")) {                    Plotly.newPlot(                        \"d46abb4e-cf01-49c2-a30f-82b9d218245e\",                        [{\"name\":\"Accuracy\",\"text\":[\"0.9013\",\"0.9038\",\"0.9029\"],\"textposition\":\"auto\",\"x\":[\"70:30\",\"80:20\",\"60:40\"],\"y\":[0.9013,0.9038,0.9029],\"type\":\"bar\"},{\"name\":\"Precision\",\"text\":[\"0.9642\",\"0.967\",\"0.9652\"],\"textposition\":\"auto\",\"x\":[\"70:30\",\"80:20\",\"60:40\"],\"y\":[0.9642,0.967,0.9652],\"type\":\"bar\"},{\"name\":\"Recall\",\"text\":[\"0.8844\",\"0.8856\",\"0.8859\"],\"textposition\":\"auto\",\"x\":[\"70:30\",\"80:20\",\"60:40\"],\"y\":[0.8844,0.8856,0.8859],\"type\":\"bar\"},{\"name\":\"F1 Score\",\"text\":[\"0.9225\",\"0.9245\",\"0.9238\"],\"textposition\":\"auto\",\"x\":[\"70:30\",\"80:20\",\"60:40\"],\"y\":[0.9225,0.9245,0.9238],\"type\":\"bar\"}],                        {\"template\":{\"data\":{\"barpolar\":[{\"marker\":{\"line\":{\"color\":\"white\",\"width\":0.5},\"pattern\":{\"fillmode\":\"overlay\",\"size\":10,\"solidity\":0.2}},\"type\":\"barpolar\"}],\"bar\":[{\"error_x\":{\"color\":\"#2a3f5f\"},\"error_y\":{\"color\":\"#2a3f5f\"},\"marker\":{\"line\":{\"color\":\"white\",\"width\":0.5},\"pattern\":{\"fillmode\":\"overlay\",\"size\":10,\"solidity\":0.2}},\"type\":\"bar\"}],\"carpet\":[{\"aaxis\":{\"endlinecolor\":\"#2a3f5f\",\"gridcolor\":\"#C8D4E3\",\"linecolor\":\"#C8D4E3\",\"minorgridcolor\":\"#C8D4E3\",\"startlinecolor\":\"#2a3f5f\"},\"baxis\":{\"endlinecolor\":\"#2a3f5f\",\"gridcolor\":\"#C8D4E3\",\"linecolor\":\"#C8D4E3\",\"minorgridcolor\":\"#C8D4E3\",\"startlinecolor\":\"#2a3f5f\"},\"type\":\"carpet\"}],\"choropleth\":[{\"colorbar\":{\"outlinewidth\":0,\"ticks\":\"\"},\"type\":\"choropleth\"}],\"contourcarpet\":[{\"colorbar\":{\"outlinewidth\":0,\"ticks\":\"\"},\"type\":\"contourcarpet\"}],\"contour\":[{\"colorbar\":{\"outlinewidth\":0,\"ticks\":\"\"},\"colorscale\":[[0.0,\"#0d0887\"],[0.1111111111111111,\"#46039f\"],[0.2222222222222222,\"#7201a8\"],[0.3333333333333333,\"#9c179e\"],[0.4444444444444444,\"#bd3786\"],[0.5555555555555556,\"#d8576b\"],[0.6666666666666666,\"#ed7953\"],[0.7777777777777778,\"#fb9f3a\"],[0.8888888888888888,\"#fdca26\"],[1.0,\"#f0f921\"]],\"type\":\"contour\"}],\"heatmapgl\":[{\"colorbar\":{\"outlinewidth\":0,\"ticks\":\"\"},\"colorscale\":[[0.0,\"#0d0887\"],[0.1111111111111111,\"#46039f\"],[0.2222222222222222,\"#7201a8\"],[0.3333333333333333,\"#9c179e\"],[0.4444444444444444,\"#bd3786\"],[0.5555555555555556,\"#d8576b\"],[0.6666666666666666,\"#ed7953\"],[0.7777777777777778,\"#fb9f3a\"],[0.8888888888888888,\"#fdca26\"],[1.0,\"#f0f921\"]],\"type\":\"heatmapgl\"}],\"heatmap\":[{\"colorbar\":{\"outlinewidth\":0,\"ticks\":\"\"},\"colorscale\":[[0.0,\"#0d0887\"],[0.1111111111111111,\"#46039f\"],[0.2222222222222222,\"#7201a8\"],[0.3333333333333333,\"#9c179e\"],[0.4444444444444444,\"#bd3786\"],[0.5555555555555556,\"#d8576b\"],[0.6666666666666666,\"#ed7953\"],[0.7777777777777778,\"#fb9f3a\"],[0.8888888888888888,\"#fdca26\"],[1.0,\"#f0f921\"]],\"type\":\"heatmap\"}],\"histogram2dcontour\":[{\"colorbar\":{\"outlinewidth\":0,\"ticks\":\"\"},\"colorscale\":[[0.0,\"#0d0887\"],[0.1111111111111111,\"#46039f\"],[0.2222222222222222,\"#7201a8\"],[0.3333333333333333,\"#9c179e\"],[0.4444444444444444,\"#bd3786\"],[0.5555555555555556,\"#d8576b\"],[0.6666666666666666,\"#ed7953\"],[0.7777777777777778,\"#fb9f3a\"],[0.8888888888888888,\"#fdca26\"],[1.0,\"#f0f921\"]],\"type\":\"histogram2dcontour\"}],\"histogram2d\":[{\"colorbar\":{\"outlinewidth\":0,\"ticks\":\"\"},\"colorscale\":[[0.0,\"#0d0887\"],[0.1111111111111111,\"#46039f\"],[0.2222222222222222,\"#7201a8\"],[0.3333333333333333,\"#9c179e\"],[0.4444444444444444,\"#bd3786\"],[0.5555555555555556,\"#d8576b\"],[0.6666666666666666,\"#ed7953\"],[0.7777777777777778,\"#fb9f3a\"],[0.8888888888888888,\"#fdca26\"],[1.0,\"#f0f921\"]],\"type\":\"histogram2d\"}],\"histogram\":[{\"marker\":{\"pattern\":{\"fillmode\":\"overlay\",\"size\":10,\"solidity\":0.2}},\"type\":\"histogram\"}],\"mesh3d\":[{\"colorbar\":{\"outlinewidth\":0,\"ticks\":\"\"},\"type\":\"mesh3d\"}],\"parcoords\":[{\"line\":{\"colorbar\":{\"outlinewidth\":0,\"ticks\":\"\"}},\"type\":\"parcoords\"}],\"pie\":[{\"automargin\":true,\"type\":\"pie\"}],\"scatter3d\":[{\"line\":{\"colorbar\":{\"outlinewidth\":0,\"ticks\":\"\"}},\"marker\":{\"colorbar\":{\"outlinewidth\":0,\"ticks\":\"\"}},\"type\":\"scatter3d\"}],\"scattercarpet\":[{\"marker\":{\"colorbar\":{\"outlinewidth\":0,\"ticks\":\"\"}},\"type\":\"scattercarpet\"}],\"scattergeo\":[{\"marker\":{\"colorbar\":{\"outlinewidth\":0,\"ticks\":\"\"}},\"type\":\"scattergeo\"}],\"scattergl\":[{\"marker\":{\"colorbar\":{\"outlinewidth\":0,\"ticks\":\"\"}},\"type\":\"scattergl\"}],\"scattermapbox\":[{\"marker\":{\"colorbar\":{\"outlinewidth\":0,\"ticks\":\"\"}},\"type\":\"scattermapbox\"}],\"scatterpolargl\":[{\"marker\":{\"colorbar\":{\"outlinewidth\":0,\"ticks\":\"\"}},\"type\":\"scatterpolargl\"}],\"scatterpolar\":[{\"marker\":{\"colorbar\":{\"outlinewidth\":0,\"ticks\":\"\"}},\"type\":\"scatterpolar\"}],\"scatter\":[{\"fillpattern\":{\"fillmode\":\"overlay\",\"size\":10,\"solidity\":0.2},\"type\":\"scatter\"}],\"scatterternary\":[{\"marker\":{\"colorbar\":{\"outlinewidth\":0,\"ticks\":\"\"}},\"type\":\"scatterternary\"}],\"surface\":[{\"colorbar\":{\"outlinewidth\":0,\"ticks\":\"\"},\"colorscale\":[[0.0,\"#0d0887\"],[0.1111111111111111,\"#46039f\"],[0.2222222222222222,\"#7201a8\"],[0.3333333333333333,\"#9c179e\"],[0.4444444444444444,\"#bd3786\"],[0.5555555555555556,\"#d8576b\"],[0.6666666666666666,\"#ed7953\"],[0.7777777777777778,\"#fb9f3a\"],[0.8888888888888888,\"#fdca26\"],[1.0,\"#f0f921\"]],\"type\":\"surface\"}],\"table\":[{\"cells\":{\"fill\":{\"color\":\"#EBF0F8\"},\"line\":{\"color\":\"white\"}},\"header\":{\"fill\":{\"color\":\"#C8D4E3\"},\"line\":{\"color\":\"white\"}},\"type\":\"table\"}]},\"layout\":{\"annotationdefaults\":{\"arrowcolor\":\"#2a3f5f\",\"arrowhead\":0,\"arrowwidth\":1},\"autotypenumbers\":\"strict\",\"coloraxis\":{\"colorbar\":{\"outlinewidth\":0,\"ticks\":\"\"}},\"colorscale\":{\"diverging\":[[0,\"#8e0152\"],[0.1,\"#c51b7d\"],[0.2,\"#de77ae\"],[0.3,\"#f1b6da\"],[0.4,\"#fde0ef\"],[0.5,\"#f7f7f7\"],[0.6,\"#e6f5d0\"],[0.7,\"#b8e186\"],[0.8,\"#7fbc41\"],[0.9,\"#4d9221\"],[1,\"#276419\"]],\"sequential\":[[0.0,\"#0d0887\"],[0.1111111111111111,\"#46039f\"],[0.2222222222222222,\"#7201a8\"],[0.3333333333333333,\"#9c179e\"],[0.4444444444444444,\"#bd3786\"],[0.5555555555555556,\"#d8576b\"],[0.6666666666666666,\"#ed7953\"],[0.7777777777777778,\"#fb9f3a\"],[0.8888888888888888,\"#fdca26\"],[1.0,\"#f0f921\"]],\"sequentialminus\":[[0.0,\"#0d0887\"],[0.1111111111111111,\"#46039f\"],[0.2222222222222222,\"#7201a8\"],[0.3333333333333333,\"#9c179e\"],[0.4444444444444444,\"#bd3786\"],[0.5555555555555556,\"#d8576b\"],[0.6666666666666666,\"#ed7953\"],[0.7777777777777778,\"#fb9f3a\"],[0.8888888888888888,\"#fdca26\"],[1.0,\"#f0f921\"]]},\"colorway\":[\"#636efa\",\"#EF553B\",\"#00cc96\",\"#ab63fa\",\"#FFA15A\",\"#19d3f3\",\"#FF6692\",\"#B6E880\",\"#FF97FF\",\"#FECB52\"],\"font\":{\"color\":\"#2a3f5f\"},\"geo\":{\"bgcolor\":\"white\",\"lakecolor\":\"white\",\"landcolor\":\"white\",\"showlakes\":true,\"showland\":true,\"subunitcolor\":\"#C8D4E3\"},\"hoverlabel\":{\"align\":\"left\"},\"hovermode\":\"closest\",\"mapbox\":{\"style\":\"light\"},\"paper_bgcolor\":\"white\",\"plot_bgcolor\":\"white\",\"polar\":{\"angularaxis\":{\"gridcolor\":\"#EBF0F8\",\"linecolor\":\"#EBF0F8\",\"ticks\":\"\"},\"bgcolor\":\"white\",\"radialaxis\":{\"gridcolor\":\"#EBF0F8\",\"linecolor\":\"#EBF0F8\",\"ticks\":\"\"}},\"scene\":{\"xaxis\":{\"backgroundcolor\":\"white\",\"gridcolor\":\"#DFE8F3\",\"gridwidth\":2,\"linecolor\":\"#EBF0F8\",\"showbackground\":true,\"ticks\":\"\",\"zerolinecolor\":\"#EBF0F8\"},\"yaxis\":{\"backgroundcolor\":\"white\",\"gridcolor\":\"#DFE8F3\",\"gridwidth\":2,\"linecolor\":\"#EBF0F8\",\"showbackground\":true,\"ticks\":\"\",\"zerolinecolor\":\"#EBF0F8\"},\"zaxis\":{\"backgroundcolor\":\"white\",\"gridcolor\":\"#DFE8F3\",\"gridwidth\":2,\"linecolor\":\"#EBF0F8\",\"showbackground\":true,\"ticks\":\"\",\"zerolinecolor\":\"#EBF0F8\"}},\"shapedefaults\":{\"line\":{\"color\":\"#2a3f5f\"}},\"ternary\":{\"aaxis\":{\"gridcolor\":\"#DFE8F3\",\"linecolor\":\"#A2B1C6\",\"ticks\":\"\"},\"baxis\":{\"gridcolor\":\"#DFE8F3\",\"linecolor\":\"#A2B1C6\",\"ticks\":\"\"},\"bgcolor\":\"white\",\"caxis\":{\"gridcolor\":\"#DFE8F3\",\"linecolor\":\"#A2B1C6\",\"ticks\":\"\"}},\"title\":{\"x\":0.05},\"xaxis\":{\"automargin\":true,\"gridcolor\":\"#EBF0F8\",\"linecolor\":\"#EBF0F8\",\"ticks\":\"\",\"title\":{\"standoff\":15},\"zerolinecolor\":\"#EBF0F8\",\"zerolinewidth\":2},\"yaxis\":{\"automargin\":true,\"gridcolor\":\"#EBF0F8\",\"linecolor\":\"#EBF0F8\",\"ticks\":\"\",\"title\":{\"standoff\":15},\"zerolinecolor\":\"#EBF0F8\",\"zerolinewidth\":2}}},\"yaxis\":{\"title\":{\"text\":\"Score\"},\"range\":[0.85,1.0]},\"legend\":{\"x\":1.0,\"y\":0.05},\"barmode\":\"group\",\"title\":{\"text\":\"Model Evaluation Metrics by Split\"},\"xaxis\":{\"title\":{\"text\":\"Train-Test Split\"}}},                        {\"responsive\": true}                    ).then(function(){\n",
              "                            \n",
              "var gd = document.getElementById('d46abb4e-cf01-49c2-a30f-82b9d218245e');\n",
              "var x = new MutationObserver(function (mutations, observer) {{\n",
              "        var display = window.getComputedStyle(gd).display;\n",
              "        if (!display || display === 'none') {{\n",
              "            console.log([gd, 'removed!']);\n",
              "            Plotly.purge(gd);\n",
              "            observer.disconnect();\n",
              "        }}\n",
              "}});\n",
              "\n",
              "// Listen for the removal of the full notebook cells\n",
              "var notebookContainer = gd.closest('#notebook-container');\n",
              "if (notebookContainer) {{\n",
              "    x.observe(notebookContainer, {childList: true});\n",
              "}}\n",
              "\n",
              "// Listen for the clearing of the current output cell\n",
              "var outputEl = gd.closest('.output');\n",
              "if (outputEl) {{\n",
              "    x.observe(outputEl, {childList: true});\n",
              "}}\n",
              "\n",
              "                        })                };                            </script>        </div>\n",
              "</body>\n",
              "</html>"
            ]
          },
          "metadata": {},
          "output_type": "display_data"
        }
      ],
      "source": [
        "import plotly.graph_objects as go\n",
        "\n",
        "splits = ['70:30', '80:20', '60:40']\n",
        "accuracies = [0.9013, 0.9038, 0.9029]\n",
        "precisions = [0.9642, 0.9670, 0.9652]\n",
        "recalls = [0.8844, 0.8856, 0.8859]\n",
        "f1s = [0.9225, 0.9245, 0.9238]\n",
        "\n",
        "fig = go.Figure()\n",
        "\n",
        "fig.add_trace(go.Bar(x=splits, y=accuracies, name='Accuracy', text=accuracies, textposition='auto'))\n",
        "fig.add_trace(go.Bar(x=splits, y=precisions, name='Precision', text=precisions, textposition='auto'))\n",
        "fig.add_trace(go.Bar(x=splits, y=recalls, name='Recall', text=recalls, textposition='auto'))\n",
        "fig.add_trace(go.Bar(x=splits, y=f1s, name='F1 Score', text=f1s, textposition='auto'))\n",
        "\n",
        "fig.update_layout(\n",
        "    barmode='group',\n",
        "    title='Model Evaluation Metrics by Split',\n",
        "    xaxis_title='Train-Test Split',\n",
        "    yaxis_title='Score',\n",
        "    yaxis=dict(range=[0.85, 1.0]),\n",
        "    legend=dict(x=1.0, y=0.05),\n",
        "    template='plotly_white'\n",
        ")\n",
        "\n",
        "fig.show()"
      ]
    },
    {
      "cell_type": "markdown",
      "metadata": {
        "id": "HFS3fRx90wk5"
      },
      "source": [
        "### **Confusion Matrix Across All Splits: A Random Seed Selected for 60:40 Split**"
      ]
    },
    {
      "cell_type": "code",
      "execution_count": null,
      "metadata": {
        "colab": {
          "base_uri": "https://localhost:8080/",
          "height": 566
        },
        "id": "e0SXoYtQWynz",
        "outputId": "7411b19d-e50a-473a-c9c9-e21018fd2ff2"
      },
      "outputs": [
        {
          "name": "stdout",
          "output_type": "stream",
          "text": [
            "Confusion Matrix:\n",
            "[[1595   80]\n",
            " [ 519 2805]]\n",
            "\n",
            "Normalized Confusion Matrix:\n",
            "[[0.3191 0.016 ]\n",
            " [0.1038 0.5611]]\n",
            "\n",
            "\n"
          ]
        },
        {
          "data": {
            "image/png": "[encoded data removed]",
            "text/plain": [
              "<Figure size 600x400 with 2 Axes>"
            ]
          },
          "metadata": {},
          "output_type": "display_data"
        }
      ],
      "source": [
        "from sklearn.metrics import confusion_matrix, ConfusionMatrixDisplay\n",
        "import matplotlib.pyplot as plt\n",
        "import pandas as pd\n",
        "\n",
        "ground_truth = df['True'].tolist()\n",
        "predicted = df['Predicted'].tolist()\n",
        "\n",
        "# define consufion matrix\n",
        "confusion_matrix_raw = confusion_matrix(ground_truth, predicted)\n",
        "print(\"Confusion Matrix:\")\n",
        "print(confusion_matrix_raw)\n",
        "\n",
        "# define normalized confusion matrix\n",
        "confusion_matrix_norm = confusion_matrix(ground_truth, predicted, normalize=\"all\")\n",
        "print(\"\\nNormalized Confusion Matrix:\")\n",
        "print(confusion_matrix_norm)\n",
        "\n",
        "print(\"\\n\")\n",
        "\n",
        "fig, ax = plt.subplots(figsize=(6, 4))  # adjust c.m figure size\n",
        "\n",
        "# visualize c.m with sklearn metrics\n",
        "# define matrix & create labels\n",
        "cm_display = ConfusionMatrixDisplay(confusion_matrix=confusion_matrix_raw, display_labels=[\"Negative\", \"Positive\"])\n",
        "# plot c.m\n",
        "cm_display.plot(cmap=plt.cm.Blues, ax=ax)  # Add colormap for better visual\n",
        "plt.title(\"Confusion Matrix\")   # title of c.m\n",
        "plt.show()  # show the plot"
      ]
    },
    {
      "cell_type": "markdown",
      "metadata": {
        "id": "XUKebdsiXD-j"
      },
      "source": [
        "### **Seed 5 (Closest Avg to F1) Selected for 60:40 Split**"
      ]
    },
    {
      "cell_type": "code",
      "execution_count": null,
      "metadata": {
        "colab": {
          "base_uri": "https://localhost:8080/",
          "height": 566
        },
        "id": "goSMl3Ft0uZh",
        "outputId": "3dcd3bb1-db5b-4121-e63c-1168dd6d4294"
      },
      "outputs": [
        {
          "name": "stdout",
          "output_type": "stream",
          "text": [
            "Confusion Matrix:\n",
            "[[ 637   33]\n",
            " [ 204 1126]]\n",
            "\n",
            "Normalized Confusion Matrix:\n",
            "[[0.3185 0.0165]\n",
            " [0.102  0.563 ]]\n",
            "\n",
            "\n"
          ]
        },
        {
          "data": {
            "image/png": "[encoded data removed]",
            "text/plain": [
              "<Figure size 600x400 with 2 Axes>"
            ]
          },
          "metadata": {},
          "output_type": "display_data"
        }
      ],
      "source": [
        "from sklearn.metrics import confusion_matrix, ConfusionMatrixDisplay\n",
        "import matplotlib.pyplot as plt\n",
        "import pandas as pd\n",
        "\n",
        "df = pd.read_csv(\"/content/drive/MyDrive/model_evaluation_output/60_40_split_seed_5.csv\")\n",
        "\n",
        "ground_truth = df['True'].tolist()\n",
        "predicted = df['Predicted'].tolist()\n",
        "\n",
        "# define consufion matrix\n",
        "confusion_matrix_raw = confusion_matrix(ground_truth, predicted)\n",
        "print(\"Confusion Matrix:\")\n",
        "print(confusion_matrix_raw)\n",
        "\n",
        "# define normalized confusion matrix\n",
        "confusion_matrix_norm = confusion_matrix(ground_truth, predicted, normalize=\"all\")\n",
        "print(\"\\nNormalized Confusion Matrix:\")\n",
        "print(confusion_matrix_norm)\n",
        "\n",
        "print(\"\\n\")\n",
        "\n",
        "fig, ax = plt.subplots(figsize=(6, 4))  # adjust c.m figure size\n",
        "\n",
        "# visualize c.m with sklearn metrics\n",
        "# define matrix & create labels\n",
        "cm_display = ConfusionMatrixDisplay(confusion_matrix=confusion_matrix_raw, display_labels=[\"Negative\", \"Positive\"])\n",
        "# plot c.m\n",
        "cm_display.plot(cmap=plt.cm.Blues, ax=ax)  # Add colormap for better visual\n",
        "plt.title(\"Confusion Matrix\")   # title of c.m\n",
        "plt.show()  # show the plot"
      ]
    },
    {
      "cell_type": "markdown",
      "metadata": {
        "id": "glfAf0jleOJ5"
      },
      "source": [
        "### **Seed 6 (Closest Avg to F1) Selected for 70:30 Split**"
      ]
    },
    {
      "cell_type": "code",
      "execution_count": null,
      "metadata": {
        "colab": {
          "base_uri": "https://localhost:8080/",
          "height": 566
        },
        "id": "4OJZDeDreSsb",
        "outputId": "78028e57-e4d2-4158-e146-1481aa3ef2e3"
      },
      "outputs": [
        {
          "name": "stdout",
          "output_type": "stream",
          "text": [
            "Confusion Matrix:\n",
            "[[486  17]\n",
            " [153 844]]\n",
            "\n",
            "Normalized Confusion Matrix:\n",
            "[[0.324  0.0113]\n",
            " [0.102  0.5627]]\n",
            "\n",
            "\n"
          ]
        },
        {
          "data": {
            "image/png": "[encoded data removed]",
            "text/plain": [
              "<Figure size 600x400 with 2 Axes>"
            ]
          },
          "metadata": {},
          "output_type": "display_data"
        }
      ],
      "source": [
        "from sklearn.metrics import confusion_matrix, ConfusionMatrixDisplay\n",
        "import matplotlib.pyplot as plt\n",
        "import pandas as pd\n",
        "import numpy as np\n",
        "\n",
        "df = pd.read_csv(\"/content/drive/MyDrive/model_evaluation_output/70_30_split_seed_6.csv\")\n",
        "\n",
        "ground_truth = df['True'].tolist()\n",
        "predicted = df['Predicted'].tolist()\n",
        "\n",
        "# define consufion matrix\n",
        "confusion_matrix_raw = confusion_matrix(ground_truth, predicted)\n",
        "print(\"Confusion Matrix:\")\n",
        "print(confusion_matrix_raw)\n",
        "\n",
        "np.set_printoptions(precision=4, suppress=True)\n",
        "# define normalized confusion matrix\n",
        "confusion_matrix_norm = confusion_matrix(ground_truth, predicted, normalize=\"all\")\n",
        "print(\"\\nNormalized Confusion Matrix:\")\n",
        "print(confusion_matrix_norm)\n",
        "\n",
        "print(\"\\n\")\n",
        "\n",
        "fig, ax = plt.subplots(figsize=(6, 4))  # adjust c.m figure size\n",
        "\n",
        "# visualize c.m with sklearn metrics\n",
        "# define matrix & create labels\n",
        "cm_display = ConfusionMatrixDisplay(confusion_matrix=confusion_matrix_raw, display_labels=[\"Negative\", \"Positive\"])\n",
        "# plot c.m\n",
        "cm_display.plot(cmap=plt.cm.Oranges, ax=ax)  # Add colormap for better visual\n",
        "plt.title(\"Confusion Matrix\")   # title of c.m\n",
        "plt.show()  # show the plot"
      ]
    },
    {
      "cell_type": "markdown",
      "metadata": {
        "id": "cBD6rR-DeSTQ"
      },
      "source": [
        "### **Seed 2 (Closest Avg to F1) Selected for 80:20 Split**"
      ]
    },
    {
      "cell_type": "code",
      "execution_count": null,
      "metadata": {
        "colab": {
          "base_uri": "https://localhost:8080/",
          "height": 566
        },
        "id": "hhp93uQoeXaF",
        "outputId": "14df3c3e-7b24-4093-f71f-dfce4b3ef14d"
      },
      "outputs": [
        {
          "name": "stdout",
          "output_type": "stream",
          "text": [
            "Confusion Matrix:\n",
            "[[317  18]\n",
            " [ 98 567]]\n",
            "\n",
            "Normalized Confusion Matrix:\n",
            "[[0.317 0.018]\n",
            " [0.098 0.567]]\n",
            "\n",
            "\n"
          ]
        },
        {
          "data": {
            "image/png": "[encoded data removed]",
            "text/plain": [
              "<Figure size 600x400 with 2 Axes>"
            ]
          },
          "metadata": {},
          "output_type": "display_data"
        }
      ],
      "source": [
        "from sklearn.metrics import confusion_matrix, ConfusionMatrixDisplay\n",
        "import matplotlib.pyplot as plt\n",
        "import pandas as pd\n",
        "\n",
        "df = pd.read_csv(\"/content/drive/MyDrive/model_evaluation_output/80_20_split_seed_2.csv\")\n",
        "\n",
        "ground_truth = df['True'].tolist()\n",
        "predicted = df['Predicted'].tolist()\n",
        "\n",
        "# define consufion matrix\n",
        "confusion_matrix_raw = confusion_matrix(ground_truth, predicted)\n",
        "print(\"Confusion Matrix:\")\n",
        "print(confusion_matrix_raw)\n",
        "\n",
        "# define normalized confusion matrix\n",
        "confusion_matrix_norm = confusion_matrix(ground_truth, predicted, normalize=\"all\")\n",
        "print(\"\\nNormalized Confusion Matrix:\")\n",
        "print(confusion_matrix_norm)\n",
        "\n",
        "print(\"\\n\")\n",
        "\n",
        "fig, ax = plt.subplots(figsize=(6, 4))  # adjust c.m figure size\n",
        "\n",
        "# visualize c.m with sklearn metrics\n",
        "# define matrix & create labels\n",
        "cm_display = ConfusionMatrixDisplay(confusion_matrix=confusion_matrix_raw, display_labels=[\"Negative\", \"Positive\"])\n",
        "# plot c.m\n",
        "cm_display.plot(cmap=plt.cm.Greens, ax=ax)  # Add colormap for better visual\n",
        "plt.title(\"Confusion Matrix\")   # title of c.m\n",
        "plt.show()  # show the plot"
      ]
    },
    {
      "cell_type": "markdown",
      "metadata": {
        "id": "BeW3g5fObB1u"
      },
      "source": [
        "### **Streamlit Web Deployment**"
      ]
    },
    {
      "cell_type": "code",
      "execution_count": null,
      "metadata": {
        "colab": {
          "base_uri": "https://localhost:8080/",
          "height": 73
        },
        "id": "Ny_Cu8qNYPvo",
        "outputId": "d36ae03d-5a96-463b-e010-556970fe89aa"
      },
      "outputs": [
        {
          "output_type": "display_data",
          "data": {
            "text/plain": [
              "<IPython.core.display.HTML object>"
            ],
            "text/html": [
              "\n",
              "     <input type=\"file\" id=\"files-df5a7d40-7e4a-4d04-8228-4407c818bbf4\" name=\"files[]\" multiple disabled\n",
              "        style=\"border:none\" />\n",
              "     <output id=\"result-df5a7d40-7e4a-4d04-8228-4407c818bbf4\">\n",
              "      Upload widget is only available when the cell has been executed in the\n",
              "      current browser session. Please rerun this cell to enable.\n",
              "      </output>\n",
              "      <script>// Copyright 2017 Google LLC\n",
              "//\n",
              "// Licensed under the Apache License, Version 2.0 (the \"License\");\n",
              "// you may not use this file except in compliance with the License.\n",
              "// You may obtain a copy of the License at\n",
              "//\n",
              "//      http://www.apache.org/licenses/LICENSE-2.0\n",
              "//\n",
              "// Unless required by applicable law or agreed to in writing, software\n",
              "// distributed under the License is distributed on an \"AS IS\" BASIS,\n",
              "// WITHOUT WARRANTIES OR CONDITIONS OF ANY KIND, either express or implied.\n",
              "// See the License for the specific language governing permissions and\n",
              "// limitations under the License.\n",
              "\n",
              "/**\n",
              " * @fileoverview Helpers for google.colab Python module.\n",
              " */\n",
              "(function(scope) {\n",
              "function span(text, styleAttributes = {}) {\n",
              "  const element = document.createElement('span');\n",
              "  element.textContent = text;\n",
              "  for (const key of Object.keys(styleAttributes)) {\n",
              "    element.style[key] = styleAttributes[key];\n",
              "  }\n",
              "  return element;\n",
              "}\n",
              "\n",
              "// Max number of bytes which will be uploaded at a time.\n",
              "const MAX_PAYLOAD_SIZE = 100 * 1024;\n",
              "\n",
              "function _uploadFiles(inputId, outputId) {\n",
              "  const steps = uploadFilesStep(inputId, outputId);\n",
              "  const outputElement = document.getElementById(outputId);\n",
              "  // Cache steps on the outputElement to make it available for the next call\n",
              "  // to uploadFilesContinue from Python.\n",
              "  outputElement.steps = steps;\n",
              "\n",
              "  return _uploadFilesContinue(outputId);\n",
              "}\n",
              "\n",
              "// This is roughly an async generator (not supported in the browser yet),\n",
              "// where there are multiple asynchronous steps and the Python side is going\n",
              "// to poll for completion of each step.\n",
              "// This uses a Promise to block the python side on completion of each step,\n",
              "// then passes the result of the previous step as the input to the next step.\n",
              "function _uploadFilesContinue(outputId) {\n",
              "  const outputElement = document.getElementById(outputId);\n",
              "  const steps = outputElement.steps;\n",
              "\n",
              "  const next = steps.next(outputElement.lastPromiseValue);\n",
              "  return Promise.resolve(next.value.promise).then((value) => {\n",
              "    // Cache the last promise value to make it available to the next\n",
              "    // step of the generator.\n",
              "    outputElement.lastPromiseValue = value;\n",
              "    return next.value.response;\n",
              "  });\n",
              "}\n",
              "\n",
              "/**\n",
              " * Generator function which is called between each async step of the upload\n",
              " * process.\n",
              " * @param {string} inputId Element ID of the input file picker element.\n",
              " * @param {string} outputId Element ID of the output display.\n",
              " * @return {!Iterable<!Object>} Iterable of next steps.\n",
              " */\n",
              "function* uploadFilesStep(inputId, outputId) {\n",
              "  const inputElement = document.getElementById(inputId);\n",
              "  inputElement.disabled = false;\n",
              "\n",
              "  const outputElement = document.getElementById(outputId);\n",
              "  outputElement.innerHTML = '';\n",
              "\n",
              "  const pickedPromise = new Promise((resolve) => {\n",
              "    inputElement.addEventListener('change', (e) => {\n",
              "      resolve(e.target.files);\n",
              "    });\n",
              "  });\n",
              "\n",
              "  const cancel = document.createElement('button');\n",
              "  inputElement.parentElement.appendChild(cancel);\n",
              "  cancel.textContent = 'Cancel upload';\n",
              "  const cancelPromise = new Promise((resolve) => {\n",
              "    cancel.onclick = () => {\n",
              "      resolve(null);\n",
              "    };\n",
              "  });\n",
              "\n",
              "  // Wait for the user to pick the files.\n",
              "  const files = yield {\n",
              "    promise: Promise.race([pickedPromise, cancelPromise]),\n",
              "    response: {\n",
              "      action: 'starting',\n",
              "    }\n",
              "  };\n",
              "\n",
              "  cancel.remove();\n",
              "\n",
              "  // Disable the input element since further picks are not allowed.\n",
              "  inputElement.disabled = true;\n",
              "\n",
              "  if (!files) {\n",
              "    return {\n",
              "      response: {\n",
              "        action: 'complete',\n",
              "      }\n",
              "    };\n",
              "  }\n",
              "\n",
              "  for (const file of files) {\n",
              "    const li = document.createElement('li');\n",
              "    li.append(span(file.name, {fontWeight: 'bold'}));\n",
              "    li.append(span(\n",
              "        `(${file.type || 'n/a'}) - ${file.size} bytes, ` +\n",
              "        `last modified: ${\n",
              "            file.lastModifiedDate ? file.lastModifiedDate.toLocaleDateString() :\n",
              "                                    'n/a'} - `));\n",
              "    const percent = span('0% done');\n",
              "    li.appendChild(percent);\n",
              "\n",
              "    outputElement.appendChild(li);\n",
              "\n",
              "    const fileDataPromise = new Promise((resolve) => {\n",
              "      const reader = new FileReader();\n",
              "      reader.onload = (e) => {\n",
              "        resolve(e.target.result);\n",
              "      };\n",
              "      reader.readAsArrayBuffer(file);\n",
              "    });\n",
              "    // Wait for the data to be ready.\n",
              "    let fileData = yield {\n",
              "      promise: fileDataPromise,\n",
              "      response: {\n",
              "        action: 'continue',\n",
              "      }\n",
              "    };\n",
              "\n",
              "    // Use a chunked sending to avoid message size limits. See b/62115660.\n",
              "    let position = 0;\n",
              "    do {\n",
              "      const length = Math.min(fileData.byteLength - position, MAX_PAYLOAD_SIZE);\n",
              "      const chunk = new Uint8Array(fileData, position, length);\n",
              "      position += length;\n",
              "\n",
              "      const base64 = btoa(String.fromCharCode.apply(null, chunk));\n",
              "      yield {\n",
              "        response: {\n",
              "          action: 'append',\n",
              "          file: file.name,\n",
              "          data: base64,\n",
              "        },\n",
              "      };\n",
              "\n",
              "      let percentDone = fileData.byteLength === 0 ?\n",
              "          100 :\n",
              "          Math.round((position / fileData.byteLength) * 100);\n",
              "      percent.textContent = `${percentDone}% done`;\n",
              "\n",
              "    } while (position < fileData.byteLength);\n",
              "  }\n",
              "\n",
              "  // All done.\n",
              "  yield {\n",
              "    response: {\n",
              "      action: 'complete',\n",
              "    }\n",
              "  };\n",
              "}\n",
              "\n",
              "scope.google = scope.google || {};\n",
              "scope.google.colab = scope.google.colab || {};\n",
              "scope.google.colab._files = {\n",
              "  _uploadFiles,\n",
              "  _uploadFilesContinue,\n",
              "};\n",
              "})(self);\n",
              "</script> "
            ]
          },
          "metadata": {}
        },
        {
          "output_type": "stream",
          "name": "stdout",
          "text": [
            "Saving SECRET_KEY.env to SECRET_KEY.env\n"
          ]
        }
      ],
      "source": [
        "from google.colab import files\n",
        "\n",
        "#\n",
        "uploaded = files.upload()\n",
        "os.rename(\"SECRET_KEY.env\", \"/content/.env\")"
      ]
    },
    {
      "cell_type": "markdown",
      "metadata": {
        "id": "izDqcx5jlGbf"
      },
      "source": [
        "### **Code app.py**"
      ]
    },
    {
      "cell_type": "code",
      "execution_count": null,
      "metadata": {
        "colab": {
          "base_uri": "https://localhost:8080/"
        },
        "id": "J0GGgU_xbFwg",
        "outputId": "ae88eefd-9cac-4df8-acc9-5598a9cd13ee"
      },
      "outputs": [
        {
          "output_type": "stream",
          "name": "stdout",
          "text": [
            "Overwriting /content/drive/MyDrive/app.py\n"
          ]
        }
      ],
      "source": [
        "%%writefile /content/drive/MyDrive/app.py\n",
        "import streamlit as st\n",
        "import openai\n",
        "import os\n",
        "import re\n",
        "import nltk\n",
        "import contractions\n",
        "from nltk.tokenize import word_tokenize\n",
        "from spacy.lang.en.stop_words import STOP_WORDS\n",
        "from nltk.stem import WordNetLemmatizer\n",
        "from nltk.corpus import wordnet\n",
        "from nltk import pos_tag\n",
        "from dotenv import load_dotenv\n",
        "# dont use like previous de user.get data, that's only in colab environment\n",
        "\n",
        "# set nltk data path to gdrive\n",
        "nltk_data_path = '/content/drive/MyDrive/nltk_data'\n",
        "os.makedirs(nltk_data_path, exist_ok=True)\n",
        "# add nlkt path if nt added yet\n",
        "if nltk_data_path not in nltk.data.path:\n",
        "  nltk.data.path.append(nltk_data_path)\n",
        "# download nltk resources if nt yet download)\n",
        "if not os.path.exists(os.path.join(nltk_data_path, 'tokenizers/punkt')):\n",
        "  nltk.download('punkt', download_dir=nltk_data_path)\n",
        "if not os.path.exists(os.path.join(nltk_data_path, 'tokenizers/punkt_tab')):\n",
        "  nltk.download('punkt_tab', download_dir=nltk_data_path)\n",
        "\n",
        "nltk.download('stopwords')\n",
        "nltk.download('wordnet')\n",
        "nltk.download('averaged_perceptron_tagger')\n",
        "nltk.download('omw-1.4')\n",
        "\n",
        "# load .env file\n",
        "load_dotenv(\"/content/.env\")\n",
        "# get API key\n",
        "api_key = os.getenv(\"SECRET_KEY\")\n",
        "if not api_key:\n",
        "    st.error(\"SECRET_KEY not found in environment variables.\")\n",
        "    st.stop()\n",
        "# create openai client\n",
        "client = openai.OpenAI(api_key=api_key)\n",
        "\n",
        "# func clean user input bfr sending to gpt\n",
        "def clean_review(text):\n",
        "  text = contractions.fix(text)\n",
        "  text = text.lower()                                  # lowercasing\n",
        "  text = re.sub(r\"<.*?>\", \"\", text)                    # remove HTML tags\n",
        "  text = re.sub(r\"[^a-z0-9\\s]\", \"\", text)              # keep letters & numbers\n",
        "  text = re.sub(r\"\\s+\", \" \", text).strip()             # collapse multiple spaces\n",
        "  return text\n",
        "\n",
        "def tokenization(text):\n",
        "  return word_tokenize(text)\n",
        "\n",
        "# stopword removal\n",
        "# define sentiment-relevant stopwords to retain\n",
        "stopwords_keywords = {\n",
        "    'never', 'no', 'not',\n",
        "    'can', 'could',\n",
        "    'do', 'does', 'did',\n",
        "    'was', 'were', 'is', 'are', 'am',\n",
        "    'very', 'too', 'so', 'really',\n",
        "    'almost', 'well', 'hardly',\n",
        "    'quite', 'even', 'just', 'rather',\n",
        "    'more', 'less', 'most', 'least',\n",
        "    'always', 'seldom', 'rarely', 'barely',\n",
        "    'might', 'may', 'would', 'should',\n",
        "    'only', 'still', 'anymore', 'yet'\n",
        "}\n",
        "\n",
        "# customize stopword list (remove the sentiment words from STOP_WORDS)\n",
        "custom_stopwords = STOP_WORDS - stopwords_keywords\n",
        "\n",
        "# use spaCy-style stopword removal\n",
        "def removedStopwords(tokens):\n",
        "    return [word for word in tokens if word not in custom_stopwords]\n",
        "\n",
        "# lemmatization\n",
        "lemmatizer = WordNetLemmatizer()\n",
        "# map POS tag to wordnet format\n",
        "def wordnet_pos(tag):\n",
        "    tag_dict = {\n",
        "        \"J\": wordnet.ADJ,\n",
        "        \"N\": wordnet.NOUN,\n",
        "        \"V\": wordnet.VERB,\n",
        "        \"R\": wordnet.ADV,\n",
        "    }\n",
        "    return tag_dict.get(tag[0].upper(), wordnet.NOUN)\n",
        "# lemmatization with POS tagging\n",
        "def lemmatize_token(tokens):\n",
        "    tagged = pos_tag(tokens)\n",
        "    return [lemmatizer.lemmatize(word, wordnet_pos(pos)) for word, pos in tagged]\n",
        "\n",
        "#\n",
        "def sentence_reconstruction(tokens):\n",
        "    return ' '.join(tokens)\n",
        "\n",
        "# func simulate confidence score based on length/clarity (optional logic)\n",
        "def simulate_confidence(review):\n",
        "    length = len(review)\n",
        "    if length >= 100:\n",
        "        return 0.95\n",
        "    elif length >= 50:\n",
        "        return 0.90\n",
        "    elif length >= 20:\n",
        "        return 0.85\n",
        "    else:\n",
        "        return 0.80\n",
        "\n",
        "# streamlit ui\n",
        "st.title(\"Review Sentiment Analyzer for Amazon Mobile Electronics\")\n",
        "\n",
        "st.markdown(\n",
        "    \"\"\"\n",
        "    <style>\n",
        "    body {\n",
        "        background-color: #e6f2ff;\n",
        "    }\n",
        "    </style>\n",
        "    \"\"\",\n",
        "    unsafe_allow_html=True\n",
        ")\n",
        "\n",
        "try:\n",
        "    st.image(\"/content/drive/MyDrive/amazon_ecommerce_market.jpg\", caption=\"Amazon E-commerce Image\", use_container_width=True)\n",
        "except Exception as e:\n",
        "    st.warning(f\"Image could not be loaded: {e}\")\n",
        "\n",
        "# instructions to the user\n",
        "st.write(\"**Instructions:**\")\n",
        "st.info(\"Enter a review text and click on the **Analyze Sentiment** button to predict sentiment. \")\n",
        "\n",
        "st.subheader(\"Write review text to analyze:\")\n",
        "user_input = st.text_area(\"Enter your product review here\", height=200)\n",
        "\n",
        "# sentiment analysis when the button is clicked\n",
        "if st.button('Analyze Sentiment'):\n",
        "    if user_input.strip() != \"\":\n",
        "      with st.spinner(\"Cleaning text and analyzing sentiment...\"):\n",
        "          try:\n",
        "                # full preprocessing pipeline\n",
        "                raw_text = user_input\n",
        "                cleaned = clean_review(raw_text)\n",
        "                tokens = tokenization(cleaned)\n",
        "                tokens = removedStopwords(tokens)\n",
        "                tokens = lemmatize_token(tokens)\n",
        "                final_text = sentence_reconstruction(tokens)\n",
        "\n",
        "                # display cleaned text\n",
        "                st.subheader(\"Cleaned Review Text\")\n",
        "                st.info(final_text)\n",
        "\n",
        "                # send to GPT for sentiment classification\n",
        "                prompt = f\"\"\"Classify the sentiment of this product review as either Positive or Negative:\\n\\n\"{final_text}\"\\n\\nSentiment:\"\"\"\n",
        "                response = client.chat.completions.create(\n",
        "                    model=\"gpt-3.5-turbo\",\n",
        "                    messages=[{\"role\": \"user\", \"content\": prompt}],\n",
        "                    temperature=0,\n",
        "                    max_tokens=10\n",
        "                )\n",
        "                sentiment = response.choices[0].message.content.strip()\n",
        "                confidence = simulate_confidence(final_text)\n",
        "\n",
        "                # --- Display prediction ---\n",
        "                st.subheader(\"Sentiment Prediction\")\n",
        "                st.success(f\"Predicted Sentiment: {sentiment}\")\n",
        "                st.markdown(f\"Estimated Confidence Score: **{confidence:.2%}**\")\n",
        "\n",
        "          except Exception as e:\n",
        "                st.error(f\"Error occurred: {str(e)}\")\n",
        "    else:\n",
        "        st.error(\"Please enter some review text to analyze.\")"
      ]
    },
    {
      "cell_type": "code",
      "execution_count": null,
      "metadata": {
        "colab": {
          "base_uri": "https://localhost:8080/"
        },
        "id": "bEMBrOCGVWkS",
        "outputId": "539c862a-95aa-4f4c-dddc-9d88c715fcb8"
      },
      "outputs": [
        {
          "output_type": "stream",
          "name": "stdout",
          "text": [
            "Streamlit app is live at: NgrokTunnel: \"https://174b-34-106-125-28.ngrok-free.app\" -> \"http://localhost:8501\"\n"
          ]
        }
      ],
      "source": [
        "from pyngrok import ngrok\n",
        "\n",
        "ngrok.set_auth_token('2yMek0GxRJvu85BIlElepV61XYc_3eQxPpBw5utG9vppdUdNA')\n",
        "# kill existing tunnels bfr running again (if >3 times)\n",
        "ngrok.kill()\n",
        "\n",
        "!streamlit run /content/drive/MyDrive/app.py &>/content/logs.txt &\n",
        "\n",
        "# wait few seconds\n",
        "import time\n",
        "time.sleep(5)  # wait for Streamlit to start\n",
        "\n",
        "# expose port 8501 (default Streamlit port), expose streamlit server to internet\n",
        "public_url = ngrok.connect(addr=8501)\n",
        "print(f\"Streamlit app is live at: {public_url}\")"
      ]
    },
    {
      "cell_type": "code",
      "execution_count": null,
      "metadata": {
        "colab": {
          "base_uri": "https://localhost:8080/"
        },
        "id": "9fLDbGQwVWnj",
        "outputId": "0d8994d9-d0a5-4f1b-916c-ede884ae680c"
      },
      "outputs": [
        {
          "name": "stdout",
          "output_type": "stream",
          "text": [
            " amazon_mobile_electronics.csv\t       'Colab Notebooks'\n",
            " ame_cleaned_dataset.csv\t       'Document of MLBB: ROCT 2023'\n",
            " ame_converted_munit.csv\t        full_dataset_with_gpt_sentiment.csv\n",
            " ame_convert_munit.csv\t\t        gpt_cache_v1_80_20.csv\n",
            " ame_corrected_misspelling.csv\t        gpt_cache_v1_eval_80_20.csv\n",
            " ame_expanded.csv\t\t       'Integrated application dev framework'\n",
            " ame_no_extra_spaces.csv\t       'Intern project'\n",
            " ame_removed_html.csv\t\t        model_evaluation_output\n",
            " ame_removed_incomplete.csv\t        nltk_data\n",
            " ame_removed_incomplete_sentences.csv   no_stopword_removed_data_v2.csv\n",
            " ame_removed_irrelevant.csv\t        @sherlyyy_9393.jpg\n",
            " ame_removed_punc.csv\t\t        stopword_removed_data_v1.csv\n",
            " ame_removed_symbol.csv\t\t        testdata_gptresults_v1.csv\n",
            " ame_replace_currency_sign.csv\t        test_data_v1_60_40.csv\n",
            " ame_replaced_emoji.csv\t\t        test_data_v1_70_30.csv\n",
            " ame_replace_dollar.csv\t\t        test_data_v1_80_20.csv\n",
            " ame_replace_emoji.csv\t\t        test_data_v2.csv\n",
            " ame_replace_slang.csv\t\t        train_data_gptsentiment_v1_80_20.csv\n",
            " ame_replace_special_chars.csv\t        train_data_v1_60_40.csv\n",
            " ame_short_review.csv\t\t        train_data_v1_70_30.csv\n",
            " ame_translated.csv\t\t        train_data_v1_80_20.csv\n",
            " ame_updated_dataset.csv\t        train_data_v2.csv\n",
            " app.py\n",
            "' (1) Copy of Sentiment Analysis of Amazon Product Reviews using GPT API.ipynb'\n",
            "'Copy of Sentiment Analysis of Amazon Product Reviews using GPT API (2) (1).ipynb'\n",
            "'Copy of Sentiment Analysis of Amazon Product Reviews using GPT API (2) (2).ipynb'\n",
            "'Copy of Sentiment Analysis of Amazon Product Reviews using GPT API (2) (3).ipynb'\n",
            "'Copy of Sentiment Analysis of Amazon Product Reviews using GPT API (2).ipynb'\n",
            " frequency_dictionary_en_82_765.txt\n",
            " requirements2.txt\n",
            " requirements.txt\n",
            "'Sentiment Analysis of Amazon Product Reviews using GPT API (2).ipynb'\n"
          ]
        }
      ],
      "source": [
        "!ls /content/drive/MyDrive\n",
        "!ls /content/drive/MyDrive/Colab\\ Notebooks"
      ]
    }
  ],
  "metadata": {
    "colab": {
      "collapsed_sections": [
        "Fy5-je96OItq"
      ],
      "provenance": []
    },
    "kernelspec": {
      "display_name": "Python 3",
      "name": "python3"
    },
    "language_info": {
      "name": "python"
    }
  },
  "nbformat": 4,
  "nbformat_minor": 0
}